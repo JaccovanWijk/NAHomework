{
 "cells": [
  {
   "cell_type": "markdown",
   "id": "ea2b6971-d934-4d52-a125-bb4e020059c7",
   "metadata": {},
   "source": [
    "# Exercise 1\n",
    "N.B.1 tentative points for each part are: 2+1.5+2+2+1.5 (and one point for free gives 10).\n",
    "\n",
    "N.B.2 you are to implement the methods yourself.\n",
    "\n",
    "Given a function $f$, let $T(f,a,b,m)$ denote the composite trapezoid rule with $m$ subintervals over the interval $[a,b]$. \n",
    "## (a)\n",
    "Approximate the integral of $x^{-3}$ over $[a,b] = [ \\frac{1}{10}, 100 ]$ by the composite trapezoid rule $T(f,a,b,m)$ for $m = 2^k$. Find the smallest $k$ such that the exact error is less than $\\epsilon = 10^{-3}$. Explain the slow convergence."
   ]
  },
  {
   "cell_type": "code",
   "execution_count": 4,
   "id": "56024d22-5826-469f-b9a0-2b83b8eeed17",
   "metadata": {},
   "outputs": [
    {
     "name": "stdout",
     "output_type": "stream",
     "text": [
      "Error with m = 2^2: 12437.50190493042\n",
      "Error with m = 2^3: 6193.757543966652\n",
      "Error with m = 2^4: 3071.9045401305016\n",
      "Error with m = 2^5: 1511.0507877511611\n",
      "Error with m = 2^6: 730.8862035130394\n",
      "Error with m = 2^7: 341.66300344385144\n",
      "Error with m = 2^8: 149.42002453577987\n",
      "Error with m = 2^9: 58.21552152480833\n",
      "Error with m = 2^10: 19.373872773033618\n",
      "Error with m = 2^11: 5.558454308195508\n",
      "Error with m = 2^12: 1.459241362024926\n",
      "Error with m = 2^13: 0.36996806565766605\n",
      "Error with m = 2^14: 0.09283132515498949\n",
      "Error with m = 2^15: 0.023229329053748415\n",
      "Error with m = 2^16: 0.005808680537469968\n",
      "Error with m = 2^17: 0.0014522544746498056\n",
      "Error with m = 2^18: 0.0003630688906284263\n"
     ]
    },
    {
     "data": {
      "image/png": "[encoded data removed]",
      "text/plain": [
       "<Figure size 432x288 with 1 Axes>"
      ]
     },
     "metadata": {
      "needs_background": "light"
     },
     "output_type": "display_data"
    }
   ],
   "source": [
    "import numpy as np\n",
    "import matplotlib.pyplot as plt\n",
    "\n",
    "def trapezoid(f, a, b, m):\n",
    "    intervals = np.linspace(a, b, m + 1)\n",
    "    total = 0\n",
    "    for i in range(m):\n",
    "        total += (intervals[i + 1] - intervals[i]) * 0.5 * (f(intervals[i]) + f(intervals[i + 1]))\n",
    "    return total\n",
    "\n",
    "def fun(x):\n",
    "    return x ** (-3)\n",
    "\n",
    "def FUN(x):\n",
    "    return -0.5 * x ** -2\n",
    "\n",
    "def residual(a, b, f, F, m):\n",
    "#     print(trapezoid(f, a, b, m))\n",
    "#     print(F(b) + F(a))\n",
    "    return trapezoid(f, a, b, m) - F(b) + F(a)\n",
    "\n",
    "a, b = 1/10, 100\n",
    "k = 1\n",
    "errors = [residual(a, b, fun, FUN, 1)]\n",
    "while errors[-1] > 1e-3:\n",
    "    k += 1\n",
    "    errors.append(residual(a, b, fun, FUN, 2**k))\n",
    "    print(f\"Error with m = 2^{k}: {errors[-1]}\")\n",
    "\n",
    "m = [2**i for i in range(k)]\n",
    "plt.loglog(m, errors)\n",
    "plt.show()"
   ]
  },
  {
   "cell_type": "markdown",
   "id": "4a7b0bea-f570-44aa-a7c1-3ce6f87b4522",
   "metadata": {},
   "source": [
    "Todo: convergeert hij sloom dan?"
   ]
  },
  {
   "cell_type": "markdown",
   "id": "b376a486-2cd4-42b3-926b-a814483bd3c3",
   "metadata": {},
   "source": [
    "## (b)\n",
    "\n",
    "To improve the convergence rate of the above problem, we may use an adaptive strategy, as discussed in the book and the lecture. Consider the following formulas for approximate integration\n",
    "$$\\begin{aligned}\n",
    "I_1(f,a,b) = {}& T(f,a,b,1) \\\\\n",
    "I_2(f,a,b) = {}& T(f,a,b,2) .\n",
    "\\end{aligned}$$\n",
    "Show, based on the error estimates for the trapezoid rule using the Taylor series (book example 8.2, or a video) that the error in $I_2$ can be estimated by a formula of the form \n",
    "$$E_2 = C (I_1 - I_2)$$\n",
    "and determine the constant $C$ (if you can't find $C$, you may take $C = 0.5$)."
   ]
  },
  {
   "cell_type": "markdown",
   "id": "0254664a-8d0d-4a78-b1f8-96fb09816abe",
   "metadata": {},
   "source": [
    "We define:\n",
    "\\begin{equation}\n",
    "    I_2 = \\frac{b - a}{4}(f(a) + 2f(\\frac{a + b}{2}) + f(b))\n",
    "\\end{equation}\n",
    "\n",
    "Taylor expansion with $\\bar{x} = \\frac{a + b}{2}$ you get a Taylor series for $f(x)$:\n",
    "\\begin{equation}\n",
    "    f(x) \\approx f(\\bar{x}) + (x - \\bar{x})f'(\\bar{x}) + \\frac{(x - \\bar{x})^2}{2} f''(\\bar{x}) \n",
    "\\end{equation}\n",
    "and for $f(a)$:\n",
    "\\begin{align}\n",
    "    f(a) &\\approx f(\\bar{x}) + (a - \\bar{x})f'(\\bar{x}) + \\frac{(a - \\bar{x})^2}{2} f''(\\bar{x}) \\\\\n",
    "    &= f(\\bar{x}) - \\frac{b - a}{2}f'(\\bar{x}) + \\frac{(b - a)^2}{8} f''(\\bar{x}) \n",
    "\\end{align}\n",
    "and for $f(b)$:\n",
    "\\begin{align}\n",
    "    f(b) &\\approx f(\\bar{x}) + (b - \\bar{x})f'(\\bar{x}) + \\frac{(b - \\bar{x})^2}{2} f''(\\bar{x}) \\\\\n",
    "    &= f(\\bar{x}) + \\frac{b - a}{2}f'(\\bar{x}) + \\frac{(b - a)^2}{8} f''(\\bar{x})\n",
    "\\end{align}\n",
    "\n",
    "Then defining $E_2$ and substituting the previous Taylor expansions: \n",
    "\\begin{align}\n",
    "    E_2 &= \\int_a^b f(x) dx - I_2 \\\\\n",
    "    &= \\int_a^b f(\\bar{x}) + (x - \\bar{x})f'(\\bar{x}) + \\frac{(x - \\bar{x})^2}{2} f''(\\bar{x}) dx - \\frac{b - a}{4}(f(a) + 2f(\\frac{a + b}{2}) + f(b)) \\\\\n",
    "    &= (b - a)f(\\bar{x}) + \\frac{(b - \\bar{x})^2}{2}f'(\\bar{x}) - \\frac{(a - \\bar{x})^2}{2}f'(\\bar{x}) + \\frac{(b - \\bar{x})^3}{6}f''(\\bar{x}) - \\frac{(a - \\bar{x})^3}{6}f''(\\bar{x}) - (b - a)f(\\bar{x}) - \\frac{b - a}{8} (\\frac{b - a}{2})^2f''(\\bar{x})\n",
    "    &= -\\frac{1}{12}(b - a)(\\frac{b - a}{2})^2 f''(\\bar{x}) \\\\\n",
    "    &= -\\frac{(b - a)^3}{48}f''(\\bar{x})\n",
    "\\end{align}\n",
    "\n",
    "Furthermore, we know that:\n",
    "\\begin{align}\n",
    "    I_1 - I_2 &= \\frac{b - a}{2}(f(a) + f(b)) - \\frac{b - a}{4}(f(a) + f(b) + 2f(\\frac{a + b}{2})) \\\\\n",
    "    &= \\frac{b - a}{4}f(a) + \\frac{b - a}{4} f(b) - \\frac{b - a}{2}f(\\frac{a + b}{2}) \\\\\n",
    "    &= \\frac{b - a}{4}(f(\\bar{x}) - \\frac{b - a}{2}f'(\\bar{x}) + \\frac{(b - a)^2}{8} f''(\\bar{x})) + \\frac{b - a}{4}(f(\\bar{x}) + \\frac{b - a}{2}f'(\\bar{x}) + \\frac{(b - a)^2}{8} f''(\\bar{x})) - \\frac{b - a}{2}f(\\bar{x}) \\\\\n",
    "    &= \\frac{b - a}{4}(4f(\\bar{x}) + \\frac{(b - a)^2}{4}f''(\\bar{x})) - \\frac{b - a}{2} f(\\bar{x}) \\\\ \n",
    "    &= \\frac{b - a}{2} f(\\bar{x}) + \\frac{(b - a)^3}{16} f''(\\bar{x}) - \\frac{b - a}{2} f(\\bar{x}) \\\\\n",
    "    &= \\frac{(b - a)^3}{16} f''(\\bar{x})\n",
    "\\end{align}\n",
    "\n",
    "Therefore the absolute error $E_2$ is equal to $C(I_1 - I_2)$ with $C = 1/3$."
   ]
  },
  {
   "cell_type": "markdown",
   "id": "870ce9be-702b-4541-b077-330a7c1fad13",
   "metadata": {},
   "source": [
    "## (c)\n",
    "An adaptive strategy for computing the integral on an interval $[a,b]$ now is: Compute $I_2$ and $E_2$, and accept $I_2$ as an approximation when the estimated error $E_2$ is less or equal than a desired tolerance $\\epsilon$.  Otherwise, apply the procedure to \n",
    "$\\int_a^{\\frac{b+a}{2}} f(x) \\, dx$ and $\\int_{\\frac{b+a}{2}}^b f(x) \\, dx$ with tolerances $\\frac{\\epsilon}{2}$.\n",
    "\n",
    "Write a recursive python routine that implements the adaptive strategy.\n",
    "\n",
    "Then apply this routine to the function $x^{-3}$ with $a, b, \\epsilon$ as before. What is the exact error in the obtained approximation? "
   ]
  },
  {
   "cell_type": "code",
   "execution_count": 16,
   "id": "8f66a8b2-02e4-4ab0-9801-709b3d6d085f",
   "metadata": {},
   "outputs": [
    {
     "name": "stdout",
     "output_type": "stream",
     "text": [
      "approximate = 50.00014849011892 which makes the exact error -0.0001984901189260313\n"
     ]
    }
   ],
   "source": [
    "def trapezoid(f, a, b, m):\n",
    "    intervals = np.linspace(a, b, m + 1)\n",
    "    total = 0\n",
    "    for i in range(m):\n",
    "        total += (intervals[i + 1] - intervals[i]) * 0.5 * (f(intervals[i]) + f(intervals[i + 1]))\n",
    "    return total\n",
    "\n",
    "def fun(x):\n",
    "    return x ** (-3)\n",
    "\n",
    "def FUN(x):\n",
    "    return -0.5 * x ** -2\n",
    "\n",
    "evaluations = 0\n",
    "\n",
    "def approximate(a, b, f, tolerance):\n",
    "    global evaluations\n",
    "    global c\n",
    "    evaluations += 1\n",
    "    I1 = trapezoid(f, a, b, 1)\n",
    "    I2 = trapezoid(f, a, b, 2)\n",
    "    E2 = c * (I1 - I2)\n",
    "    if E2 < tolerance:\n",
    "        return I2\n",
    "    middle = (a + b)/2\n",
    "    return approximate(a, middle, f, tolerance/2) + approximate(middle, b, f, tolerance/2)\n",
    "\n",
    "a, b = 1/10, 100\n",
    "c = 1/3\n",
    "approx = approximate(a, b, fun, 1e-3)\n",
    "print(f\"approximate = {approx} which makes the exact error {FUN(b) - FUN(a) - approx}\")    "
   ]
  },
  {
   "cell_type": "markdown",
   "id": "8ca22998-0fba-41a8-9871-a9fa7365b145",
   "metadata": {},
   "source": [
    "## (d)\n",
    "Count the number of function evaluations used in the adaptive strategy for (c) and compare with the result of (a). Make sure that your python routine performs no unnecessary function evaluations. \n",
    "(*Hint*: To count the number of function evaluations, you may use a global variable that is incremented by the function each time it is called.)"
   ]
  },
  {
   "cell_type": "code",
   "execution_count": 20,
   "id": "ed67a5aa-dba3-4da9-bb32-6f2a49096b30",
   "metadata": {},
   "outputs": [
    {
     "name": "stdout",
     "output_type": "stream",
     "text": [
      "With the value C = 0.3333333333333333 as found in (b), (c) takes 9669 evaluations where in (a) takes 262143 evaluations.\n"
     ]
    }
   ],
   "source": [
    "print(f\"With the value C = {c} as found in (b), (c) takes {evaluations} evaluations where in (a) takes {sum(m)} evaluations.\")"
   ]
  },
  {
   "cell_type": "markdown",
   "id": "9c1d0d3e-c0bb-4a47-a8b5-e36e69f73cf0",
   "metadata": {},
   "source": [
    "Different parts of the function need different intervals to be very precise. The more horizontal a part of the function is, the less intervals it needs. The method of (a) makes evenly distributed subintervals for the whole interval and therefore also making subintervals where they are not needed. The method of (c) looks at the error at specefic subintervals and only further divides the subintervals if needed. Therefore, this method does less unnecassary evaluations. "
   ]
  },
  {
   "cell_type": "markdown",
   "id": "876b8a7c-dfd5-45ee-9e03-ff451b9426fd",
   "metadata": {},
   "source": [
    "## (e)\n",
    "In the course of executing the recursive procedure, some subintervals are refined (split in two subintervals) while others aren't as a result of the choices made by the algorithm. It turns out that the choices made by this algorithm are not always optimal. Other algorithms, that decide in a different way which subinterval needs to be refined, may be more efficient (while using the same formulas for the approximate integral and the approximate error associated with a subinterval).\n",
    "\n",
    "Can you explain why this is the case? Discuss briefly possible alternative approaches.\n"
   ]
  },
  {
   "cell_type": "markdown",
   "id": "a9ade5bc-9ef3-4e1c-81f2-f73acb535453",
   "metadata": {},
   "source": []
  }
 ],
 "metadata": {
  "kernelspec": {
   "display_name": "Python 3",
   "language": "python",
   "name": "python3"
  },
  "language_info": {
   "codemirror_mode": {
    "name": "ipython",
    "version": 3
   },
   "file_extension": ".py",
   "mimetype": "text/x-python",
   "name": "python",
   "nbconvert_exporter": "python",
   "pygments_lexer": "ipython3",
   "version": "3.8.8"
  }
 },
 "nbformat": 4,
 "nbformat_minor": 5
}
