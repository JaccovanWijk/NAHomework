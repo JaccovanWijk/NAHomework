{
 "cells": [
  {
   "cell_type": "markdown",
   "id": "e6991386-31db-4655-822b-21f41a064f0b",
   "metadata": {
    "nbgrader": {
     "grade": false,
     "grade_id": "cell-736ff6bc3e0d0696",
     "locked": true,
     "schema_version": 3,
     "solution": false,
     "task": false
    }
   },
   "source": [
    "# Homework Set 2\n",
    "\n",
    "Please **submit this Jupyter notebook through Canvas** no later than **Mon Nov. 15, 9:00**.\n",
    "\n",
    "Homework is in **groups of two**, and you are expected to hand in original work. Work that is copied from another group will not be accepted."
   ]
  },
  {
   "cell_type": "markdown",
   "id": "28e0cf7d-032f-4435-b4d6-a0ebe27ab051",
   "metadata": {
    "nbgrader": {
     "grade": false,
     "grade_id": "cell-b13bc5ed16bce8e0",
     "locked": true,
     "schema_version": 3,
     "solution": false,
     "task": false
    }
   },
   "source": [
    "# Exercise 0\n",
    "Write down the names + student ID of the people in your group."
   ]
  },
  {
   "cell_type": "markdown",
   "id": "ed90a614-072a-48eb-9297-d8eaf8e5183f",
   "metadata": {
    "nbgrader": {
     "grade": true,
     "grade_id": "cell-fd464f55ba436b1c",
     "locked": false,
     "points": 0,
     "schema_version": 3,
     "solution": true,
     "task": false
    }
   },
   "source": [
    "Write your answer, using $\\LaTeX$, in this box."
   ]
  },
  {
   "cell_type": "markdown",
   "id": "ed21bb3f-43a0-40b3-83bf-cf4a679370ea",
   "metadata": {
    "nbgrader": {
     "grade": false,
     "grade_id": "cell-b5a7855ecca9f6be",
     "locked": true,
     "schema_version": 3,
     "solution": false,
     "task": false
    }
   },
   "source": [
    "Run the following cell to import the necessary packages."
   ]
  },
  {
   "cell_type": "code",
   "execution_count": 1,
   "id": "f94d7728-fe51-45ac-903f-59c066161470",
   "metadata": {},
   "outputs": [],
   "source": [
    "import numpy as np\n",
    "import scipy.linalg as la\n",
    "import matplotlib.pyplot as plt\n",
    "import random"
   ]
  },
  {
   "cell_type": "markdown",
   "id": "aa14ad46-1797-4256-9ead-da2143c4118d",
   "metadata": {},
   "source": [
    "# Exercise 1\n",
    "\n",
    "The goal of this problem is to show that apparently harmless looking systems of linear equations may be very difficult to solve. Some functions that may be useful are `numpy.triu`, `numpy.tril`, `numpy.eye`, `random.randrange`.\n",
    "## (a)\n",
    "Generate an $n \\times n$ matrix $B$ with random integer elements in the range\n",
    "$b_{ij} \\in [-10, 10]$. Choose for instance $n=20$.\n"
   ]
  },
  {
   "cell_type": "code",
   "execution_count": null,
   "id": "946ce5e1-4d17-48ab-9992-836ac9e76794",
   "metadata": {},
   "outputs": [],
   "source": []
  },
  {
   "cell_type": "markdown",
   "id": "230a0f2e-5887-4047-9ede-887d02dea5a1",
   "metadata": {},
   "source": [
    "## (b)\n",
    "Remove the diagonal of $B$, save the upper triangular part in $U$ and the lower triangular part in $L$, and put ones on the diagonals $l_{ii} = u_{ii} = 1$."
   ]
  },
  {
   "cell_type": "code",
   "execution_count": null,
   "id": "299a4cf2-677a-4b27-91c1-f731801a74a6",
   "metadata": {},
   "outputs": [],
   "source": []
  },
  {
   "cell_type": "markdown",
   "id": "53b14e0f-f9e0-48c6-b192-e0f8026bd99b",
   "metadata": {},
   "source": [
    "## (c)\n",
    "Compute $A = L \\cdot U$. What is the value of $\\det(A)$ and why? Compute the determinant using the appropriate python command and confirm your prediction. In case that you have doubts about the result, compute separately $\\det(L)$ and $\\det(U)$."
   ]
  },
  {
   "cell_type": "markdown",
   "id": "f8c995cb-46d0-44b9-ba64-92321686767d",
   "metadata": {},
   "source": [
    "Write your answer, using $\\LaTeX$, in this box."
   ]
  },
  {
   "cell_type": "code",
   "execution_count": null,
   "id": "6003d83b-cbd3-4078-b6eb-220a1550c6c1",
   "metadata": {},
   "outputs": [],
   "source": []
  },
  {
   "cell_type": "markdown",
   "id": "9aa377cc-d913-46ca-a625-30e3ec7c91fb",
   "metadata": {},
   "source": [
    "## (d)\n",
    "Choose now an exact solution, for instance $x_{\\rm e} =$ `numpy.ones(n)`, and compute the corresponding right hand side $b = A x_{\\rm e}$.\n"
   ]
  },
  {
   "cell_type": "code",
   "execution_count": null,
   "id": "36dac949-ae76-4fb1-8060-921d010a1558",
   "metadata": {},
   "outputs": [],
   "source": []
  },
  {
   "cell_type": "markdown",
   "id": "fc0577fd-9510-4e73-8d1c-5b738885ad27",
   "metadata": {},
   "source": [
    "## (e)\n",
    "Solve $A x = b$ using `scipy.linalg.lu_factor` and `scipy.linalg.lu_solve` and compare the solution with the exact $x_{\\rm e}$. "
   ]
  },
  {
   "cell_type": "code",
   "execution_count": null,
   "id": "ce517576-e784-4d67-9e88-94bcb295fcbd",
   "metadata": {},
   "outputs": [],
   "source": []
  },
  {
   "cell_type": "markdown",
   "id": "b63e4111-78f2-4e60-b0ca-30c176821884",
   "metadata": {},
   "source": [
    "## (f)\n",
    "Explain the bad results by computing the condition number of $A$."
   ]
  },
  {
   "cell_type": "code",
   "execution_count": null,
   "id": "4b53e4fa-77d3-4631-847a-6ec198bda173",
   "metadata": {},
   "outputs": [],
   "source": []
  },
  {
   "cell_type": "markdown",
   "id": "1b4bf294-40af-4285-850f-650ba466ae04",
   "metadata": {},
   "source": [
    "Write your answer, using $\\LaTeX$, in this box."
   ]
  },
  {
   "cell_type": "markdown",
   "id": "0e861009-6cb1-45ef-ab7c-c7dfbb50652e",
   "metadata": {},
   "source": [
    "# Exercise 2\n",
    "\n",
    "(N.B. this is a theory exercise.)\n",
    "Suppose we write a $(p+q) \\times (p+q)$ matrix $M$ in block form where\n",
    "$A, B, C, D$ are respectively $p \\times p, p \\times q, q \\times p$\n",
    "and $q \\times q$ matrices\n",
    "$$ M = \\begin{bmatrix} A & B \\\\ C & D  \\end{bmatrix}. $$"
   ]
  },
  {
   "cell_type": "markdown",
   "id": "83c83ef7-bce0-49c1-ab1a-0e419a740b6d",
   "metadata": {},
   "source": [
    "## (a)\n",
    "Verify that \n",
    "$$ \\begin{bmatrix} A & B \\\\ C & D \n",
    "    \\end{bmatrix} =\n",
    "    \\begin{bmatrix} I_p & 0 \\\\ C A^{-1} & I_q \n",
    "    \\end{bmatrix}\n",
    "    \\begin{bmatrix} A & 0\\\\ 0 & D - CA^{-1} B\n",
    "    \\end{bmatrix}\n",
    "    \\begin{bmatrix} I_p & A^{-1} B \\\\ 0 & I_q \n",
    "    \\end{bmatrix}. $$"
   ]
  },
  {
   "cell_type": "markdown",
   "id": "84ff623d-533a-46f7-8389-8ba004079ba6",
   "metadata": {},
   "source": [
    "Write your answer, using $\\LaTeX$, in this box."
   ]
  },
  {
   "cell_type": "markdown",
   "id": "2a9d6c87-b0b4-4f0d-8d3f-3c870c9cc198",
   "metadata": {},
   "source": [
    "## (b)\n",
    "Describe how a system $M x = b$, with $x$ and $b$ in $\\mathbb{R}^{p+q}$,\n",
    "can be solved by applying matrix-vector products with $C$ and\n",
    "$B$ and solves with $A$ and $(D - CA^{-1}B)$."
   ]
  },
  {
   "cell_type": "markdown",
   "id": "47a5b7fa-faee-4814-b3f0-850f77b7f067",
   "metadata": {},
   "source": [
    "Write your answer, using $\\LaTeX$, in this box."
   ]
  },
  {
   "cell_type": "markdown",
   "id": "e3c88a41-be49-43ed-8819-9b3084bd417e",
   "metadata": {},
   "source": [
    "## (c)\n",
    "What is the cost, to highest order, of LU-factorizing $A$ and of\n",
    "computing and LU-factorizing $D - CA^{-1} B$? "
   ]
  },
  {
   "cell_type": "markdown",
   "id": "68a32387-f372-4e72-a67b-48b9e89497b2",
   "metadata": {},
   "source": [
    "Write your answer, using $\\LaTeX$, in this box."
   ]
  },
  {
   "cell_type": "markdown",
   "id": "f990d804-c6a0-41fd-a26e-2878b3ec68da",
   "metadata": {},
   "source": [
    "**Remark**: Although in this case no savings were obtained, the decomposition\n",
    "above is very useful for solving linear systems with many zero coefficients,\n",
    "in other words where $M$ is a sparse matrix. After applying a\n",
    "permutation of the indices such a matrix is written in the above\n",
    "form, where $q$ is as small as possible and $A$ is blockdiagonal,\n",
    "i.e. $A = \\begin{bmatrix} E & O \\\\ O & F \\end{bmatrix}$. This\n",
    "blockdiagonal form then causes big savings in computational\n",
    "cost. Moreover, the procedure can be applied recursively to $E$ and $F$."
   ]
  }
 ],
 "metadata": {
  "kernelspec": {
   "display_name": "Python 3",
   "language": "python",
   "name": "python3"
  },
  "language_info": {
   "codemirror_mode": {
    "name": "ipython",
    "version": 3
   },
   "file_extension": ".py",
   "mimetype": "text/x-python",
   "name": "python",
   "nbconvert_exporter": "python",
   "pygments_lexer": "ipython3",
   "version": "3.8.8"
  }
 },
 "nbformat": 4,
 "nbformat_minor": 5
}
