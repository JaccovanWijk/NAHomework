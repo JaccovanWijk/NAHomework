{
 "cells": [
  {
   "cell_type": "markdown",
   "id": "e6991386-31db-4655-822b-21f41a064f0b",
   "metadata": {
    "nbgrader": {
     "grade": false,
     "grade_id": "cell-736ff6bc3e0d0696",
     "locked": true,
     "schema_version": 3,
     "solution": false,
     "task": false
    }
   },
   "source": [
    "# Homework Set 2\n",
    "\n",
    "Please **submit this Jupyter notebook through Canvas** no later than **Mon Nov. 15, 9:00**.\n",
    "\n",
    "Homework is in **groups of two**, and you are expected to hand in original work. Work that is copied from another group will not be accepted."
   ]
  },
  {
   "cell_type": "markdown",
   "id": "28e0cf7d-032f-4435-b4d6-a0ebe27ab051",
   "metadata": {
    "nbgrader": {
     "grade": false,
     "grade_id": "cell-b13bc5ed16bce8e0",
     "locked": true,
     "schema_version": 3,
     "solution": false,
     "task": false
    }
   },
   "source": [
    "# Exercise 0\n",
    "Write down the names + student ID of the people in your group."
   ]
  },
  {
   "cell_type": "markdown",
   "id": "ed90a614-072a-48eb-9297-d8eaf8e5183f",
   "metadata": {
    "nbgrader": {
     "grade": true,
     "grade_id": "cell-fd464f55ba436b1c",
     "locked": false,
     "points": 0,
     "schema_version": 3,
     "solution": true,
     "task": false
    }
   },
   "source": [
    "Write your answer, using $\\LaTeX$, in this box."
   ]
  },
  {
   "cell_type": "markdown",
   "id": "ed21bb3f-43a0-40b3-83bf-cf4a679370ea",
   "metadata": {
    "nbgrader": {
     "grade": false,
     "grade_id": "cell-b5a7855ecca9f6be",
     "locked": true,
     "schema_version": 3,
     "solution": false,
     "task": false
    }
   },
   "source": [
    "Run the following cell to import the necessary packages."
   ]
  },
  {
   "cell_type": "code",
   "execution_count": 11,
   "id": "f94d7728-fe51-45ac-903f-59c066161470",
   "metadata": {},
   "outputs": [],
   "source": [
    "import numpy as np\n",
    "import scipy.linalg as la\n",
    "import matplotlib.pyplot as plt\n",
    "import random"
   ]
  },
  {
   "cell_type": "markdown",
   "id": "aa14ad46-1797-4256-9ead-da2143c4118d",
   "metadata": {},
   "source": [
    "# Exercise 1\n",
    "\n",
    "The goal of this problem is to show that apparently harmless looking systems of linear equations may be very difficult to solve. Some functions that may be useful are `numpy.triu`, `numpy.tril`, `numpy.eye`, `random.randrange`.\n",
    "## (a)\n",
    "Generate an $n \\times n$ matrix $B$ with random integer elements in the range\n",
    "$b_{ij} \\in [-10, 10]$. Choose for instance $n=20$.\n"
   ]
  },
  {
   "cell_type": "code",
   "execution_count": 27,
   "id": "946ce5e1-4d17-48ab-9992-836ac9e76794",
   "metadata": {},
   "outputs": [
    {
     "name": "stdout",
     "output_type": "stream",
     "text": [
      "|1.58|-0.52|4.47|4.51|-4.1|-5.86|2.34|-1.12|8.35|-5.41|7.64|2.34|-9.39|8.62|0.76|-9.66|-0.08|-5.33|-9.7|3.06|\n",
      "|-7.83|-2.87|-2.3|-6.84|-6.84|-7.11|-8.5|-5.53|8.69|8.47|7.31|4.42|-7.16|5.71|8.55|9.06|8.43|-0.03|6.59|-5.75|\n",
      "|3.42|8.38|2.11|-8.35|-9.21|9.42|-8.72|-6.75|-1.75|9.15|2.2|0.79|-8.32|-7.36|8.03|5.93|-7.74|-2.3|0.34|9.52|\n",
      "|5.38|2.4|8.27|7.34|-6.9|-7.31|-4.13|3.3|-9.86|9.64|7.23|-0.77|0.56|-1.14|5.81|-5.18|5.01|0.18|0.34|-2.74|\n",
      "|-9.63|-6.37|-7.91|-8.35|-6.11|5.65|-6.42|-6.15|-7.21|3.33|-3.08|-4.13|3.27|0.23|-0.29|-1.05|8.52|8.2|1.78|-4.33|\n",
      "|-8.79|-4.47|1.15|2.47|5.58|-2.11|4.23|-3.34|5.81|-4.44|-2.9|-8.62|-2.46|0.37|-5.4|5.45|-1.76|-8.48|-6.68|4.38|\n",
      "|-5.62|1.24|-9.71|-1.88|5.42|4.98|2.2|-1.64|4.7|-7.47|3.36|-4.09|-1.01|-8.4|-6.65|8.89|-3.23|-2.99|3.89|3.92|\n",
      "|-2.01|-9.3|0.96|2.29|7.69|4.83|-9.97|2.63|-7.13|-5.95|-7.72|-0.29|8.71|7.98|-8.11|-1.72|4.39|2.78|-0.58|6.64|\n",
      "|7.55|9.33|-7.72|5.82|-2.78|-5.69|1.33|-4.58|7.88|2.96|-0.23|8.56|-1.77|-0.2|8.1|6.07|-9.2|0.48|8.52|-0.09|\n",
      "|3.33|2.92|7.97|7.25|6.67|4.23|8.52|7.72|5.1|-4.64|5.03|1.04|0.12|-9.19|0.19|-8.77|8.4|9.8|-0.46|-3.4|\n",
      "|2.32|-4.97|-1.05|-5.51|3.19|-5.02|4.72|-7.63|4.6|9.29|4.68|7.86|-6.77|4.62|9.91|-0.78|-0.79|2.43|0.21|-5.8|\n",
      "|0.31|-3.35|-7.29|1.72|-5.42|0.46|8.81|4.53|1.23|-2.51|-8.31|-5.69|-1.68|3.63|-9.07|8.32|2.06|8.37|-0.02|9.39|\n",
      "|-7.28|4.0|-6.44|-4.64|8.2|-4.54|7.49|9.91|-5.12|-7.53|-3.16|6.21|-0.88|9.71|-2.48|-6.11|-8.04|9.78|1.75|-1.83|\n",
      "|5.89|-0.31|-9.74|-9.86|-9.69|-6.75|-1.06|-1.07|0.56|2.89|-3.73|-5.82|-5.56|-2.27|-5.97|7.07|9.16|7.46|2.61|-4.43|\n",
      "|-8.45|-6.68|-8.23|-9.49|-6.96|-1.73|9.62|6.34|4.21|-8.7|3.6|8.43|8.93|-3.64|-6.04|0.25|4.21|1.96|6.59|7.47|\n",
      "|-7.84|-8.2|5.09|3.41|4.66|4.7|7.51|3.28|-7.42|-2.92|-2.82|-7.52|2.27|-5.49|0.12|-5.72|6.3|6.32|-4.3|-7.02|\n",
      "|-4.96|-5.92|6.9|2.56|-8.22|-2.4|2.4|-2.31|-3.69|7.66|2.05|-2.59|1.58|-6.84|-1.0|4.67|2.65|-4.74|8.28|-7.63|\n",
      "|9.65|-5.65|7.67|-0.54|-9.83|-2.65|2.3|5.8|-5.98|-8.89|-4.92|3.77|-6.76|1.32|-3.77|-3.13|-9.56|8.47|5.3|5.89|\n",
      "|5.49|4.42|5.25|1.26|9.09|8.12|2.44|4.06|2.5|-4.82|4.78|-2.91|-9.01|4.67|5.67|5.94|-3.39|3.17|-5.82|-0.98|\n",
      "|-8.06|-7.83|-4.37|-2.75|0.58|2.51|0.41|-3.21|5.34|-0.07|-1.82|-1.43|6.04|2.99|9.08|5.13|-5.99|-1.63|5.37|-1.71|\n"
     ]
    }
   ],
   "source": [
    "n = 20\n",
    "b_min = -10\n",
    "b_max = 10\n",
    "B = np.random.rand(n,n)*(b_max - b_min) + b_min\n",
    "\n",
    "#TODO: Mooier printen?\n",
    "for row in B:\n",
    "    print(end=\"|\")\n",
    "    for column in row:\n",
    "        print(round(column,2), end=\"|\")\n",
    "    print()"
   ]
  },
  {
   "cell_type": "markdown",
   "id": "230a0f2e-5887-4047-9ede-887d02dea5a1",
   "metadata": {},
   "source": [
    "## (b)\n",
    "Remove the diagonal of $B$, save the upper triangular part in $U$ and the lower triangular part in $L$, and put ones on the diagonals $l_{ii} = u_{ii} = 1$."
   ]
  },
  {
   "cell_type": "code",
   "execution_count": 28,
   "id": "299a4cf2-677a-4b27-91c1-f731801a74a6",
   "metadata": {},
   "outputs": [],
   "source": [
    "# Remove diagonal\n",
    "np.fill_diagonal(B, 0)\n",
    "\n",
    "# Create U and L\n",
    "U = np.triu(B) + np.eye(n)\n",
    "L = np.tril(B) + np.eye(n)\n",
    "\n",
    "# TODO: Printen?"
   ]
  },
  {
   "cell_type": "markdown",
   "id": "53b14e0f-f9e0-48c6-b192-e0f8026bd99b",
   "metadata": {},
   "source": [
    "## (c)\n",
    "Compute $A = L \\cdot U$. What is the value of $\\det(A)$ and why? Compute the determinant using the appropriate python command and confirm your prediction. In case that you have doubts about the result, compute separately $\\det(L)$ and $\\det(U)$."
   ]
  },
  {
   "cell_type": "markdown",
   "id": "f8c995cb-46d0-44b9-ba64-92321686767d",
   "metadata": {},
   "source": [
    "Write your answer, using $\\LaTeX$, in this box.\n",
    "\n",
    "TODO: Lekker iets hier over zeggen"
   ]
  },
  {
   "cell_type": "code",
   "execution_count": 29,
   "id": "6003d83b-cbd3-4078-b6eb-220a1550c6c1",
   "metadata": {},
   "outputs": [
    {
     "name": "stdout",
     "output_type": "stream",
     "text": [
      "|1.0|-0.5|4.5|4.5|-4.1|-5.9|2.3|-1.1|8.3|-5.4|7.6|2.3|-9.4|8.6|0.8|-9.7|-0.1|-5.3|-9.7|3.1|\n",
      "|-7.8|5.1|-37.3|-42.1|25.3|38.8|-26.8|3.3|-56.7|50.8|-52.5|-13.9|66.4|-61.8|2.6|84.8|9.0|41.7|82.6|-29.8|\n",
      "|3.4|6.6|-2.9|-50.3|-80.6|-70.2|-72.0|-56.9|99.6|61.6|89.6|45.9|-100.4|70.0|82.3|48.8|62.6|-20.8|22.4|-28.1|\n",
      "|5.4|-0.4|26.8|-60.3|-121.6|22.1|-84.2|-71.9|41.4|76.6|84.1|29.0|-136.0|-1.9|96.9|13.7|-39.2|-47.6|-33.2|78.7|\n",
      "|-9.6|-1.3|-36.3|57.9|214.5|93.9|128.8|65.8|-46.7|-151.5|-201.0|-54.7|200.5|-51.4|-174.1|30.5|-25.0|76.4|47.6|-49.6|\n",
      "|-8.8|0.1|-27.9|-16.1|44.6|108.5|-34.3|-2.7|-173.0|58.1|-99.5|-73.0|122.1|-110.8|-28.4|38.0|12.4|82.1|60.3|-16.9|\n",
      "|-5.6|4.2|-37.7|45.3|122.3|-18.1|56.0|7.2|-6.0|-77.6|-96.5|-83.2|128.1|27.0|-117.7|48.0|110.8|51.1|39.1|-109.5|\n",
      "|-2.0|-8.2|13.3|48.9|54.9|118.4|17.7|8.7|-203.2|35.6|-143.6|-79.8|110.8|15.3|-30.2|-143.1|19.5|63.9|-98.6|5.4|\n",
      "|7.5|5.4|4.6|40.4|-66.7|-247.2|-23.4|40.6|127.1|60.0|215.8|113.4|-108.3|117.8|125.4|-66.7|119.6|-12.5|37.1|-158.1|\n",
      "|3.3|1.2|16.2|-64.3|-150.3|23.8|-132.9|-111.3|-65.7|59.5|56.8|-35.0|-53.3|-38.7|31.0|104.7|16.3|-7.8|47.5|119.9|\n",
      "|2.3|-6.2|20.7|47.7|75.3|65.2|42.6|-4.4|61.3|-51.3|65.4|56.7|-42.8|-177.7|24.5|-75.1|-39.4|118.3|39.5|-64.9|\n",
      "|0.3|-3.5|1.8|86.9|71.5|-89.4|131.2|94.9|21.4|-191.9|-36.9|-96.5|146.5|-15.7|-255.1|37.5|-42.5|-82.4|1.8|102.3|\n",
      "|-7.3|7.8|-48.2|-11.1|102.0|29.2|-40.1|-23.5|-95.0|-120.6|-177.3|-99.3|227.6|117.0|-291.0|191.6|149.2|141.5|122.4|46.7|\n",
      "|5.9|-3.4|17.4|100.1|126.0|-113.3|174.6|111.1|194.7|-202.2|14.9|87.8|28.1|9.5|-50.0|-127.1|14.9|-108.8|-45.9|-81.7|\n",
      "|-8.5|-2.3|-30.7|66.9|214.7|47.7|195.0|109.8|23.9|-299.0|-231.4|17.7|179.3|137.3|-296.4|183.0|-297.1|67.1|117.9|157.2|\n",
      "|-7.8|-4.1|-11.2|-18.3|22.5|158.2|-9.5|-22.3|-181.0|-53.4|-127.9|-240.9|163.3|-185.3|-111.8|-35.7|-100.5|-98.1|-47.2|84.0|\n",
      "|-5.0|-3.3|-1.7|-36.9|-28.6|68.6|13.1|52.5|-60.7|40.3|52.0|1.0|-11.2|-232.8|85.3|-123.3|-131.6|-5.6|-43.7|14.4|\n",
      "|9.6|-10.7|63.8|17.6|-77.6|1.7|60.1|38.2|42.3|-134.3|-2.0|-38.9|-61.9|28.2|-155.5|33.7|-158.1|-225.3|-264.2|388.9|\n",
      "|5.5|1.5|19.7|-48.0|-100.7|36.1|-97.3|-144.8|29.2|22.4|0.2|-32.0|-125.0|22.1|88.9|185.9|175.6|-75.8|-30.2|71.8|\n",
      "|-8.1|-3.6|-22.4|51.0|146.3|87.5|104.5|56.9|-59.9|-66.6|-134.6|-49.7|145.2|-59.2|-100.0|31.7|-68.2|169.7|60.2|11.4|\n",
      "271590203.3553651\n",
      "0.9996605353003722 1.0 0.9996605353003722\n"
     ]
    }
   ],
   "source": [
    "A = L.dot(U)\n",
    "#TODO: Mooier printen?\n",
    "for row in A:\n",
    "    print(end=\"|\")\n",
    "    for column in row:\n",
    "        print(round(column,1), end=\"|\")\n",
    "    print()\n",
    "\n",
    "print(np.linalg.det(A))\n",
    "print(np.linalg.det(L), np.linalg.det(U), np.linalg.det(L) * np.linalg.det(U))"
   ]
  },
  {
   "cell_type": "markdown",
   "id": "9aa377cc-d913-46ca-a625-30e3ec7c91fb",
   "metadata": {},
   "source": [
    "## (d)\n",
    "Choose now an exact solution, for instance $x_{\\rm e} =$ `numpy.ones(n)`, and compute the corresponding right hand side $b = A x_{\\rm e}$.\n"
   ]
  },
  {
   "cell_type": "code",
   "execution_count": 30,
   "id": "36dac949-ae76-4fb1-8060-921d010a1558",
   "metadata": {},
   "outputs": [
    {
     "name": "stdout",
     "output_type": "stream",
     "text": [
      "[  -8.08024919   81.47168893  110.46898187 -121.54765987  114.42715434\n",
      "  -65.27447095   87.30991004 -196.35234165  331.87101559 -179.33467792\n",
      "  157.6694112  -117.95680777  221.60053944  152.44139485  352.25807733\n",
      " -827.12803109 -357.17079675 -444.45370775    5.0723355   292.08167768]\n"
     ]
    }
   ],
   "source": [
    "x_e = np.ones(n)\n",
    "b = A.dot(x_e)\n",
    "print(b)"
   ]
  },
  {
   "cell_type": "markdown",
   "id": "fc0577fd-9510-4e73-8d1c-5b738885ad27",
   "metadata": {},
   "source": [
    "## (e)\n",
    "Solve $A x = b$ using `scipy.linalg.lu_factor` and `scipy.linalg.lu_solve` and compare the solution with the exact $x_{\\rm e}$. "
   ]
  },
  {
   "cell_type": "code",
   "execution_count": 31,
   "id": "ce517576-e784-4d67-9e88-94bcb295fcbd",
   "metadata": {},
   "outputs": [
    {
     "name": "stdout",
     "output_type": "stream",
     "text": [
      "[ 60.2760906  -55.7730721  -17.24526     -0.86979059   0.74087121\n",
      "   0.9910325    0.98696238   0.97008738   0.99495377   1.00147659\n",
      "   0.99968449   1.00007714   1.00004083   0.99999638   1.00000028\n",
      "   1.00000093   0.99999988   0.99999997   1.           1.        ]\n"
     ]
    }
   ],
   "source": [
    "lu, pov = la.lu_factor(A)\n",
    "x = la.lu_solve((lu, pov), b)\n",
    "print(x)"
   ]
  },
  {
   "cell_type": "markdown",
   "id": "b63e4111-78f2-4e60-b0ca-30c176821884",
   "metadata": {},
   "source": [
    "## (f)\n",
    "Explain the bad results by computing the condition number of $A$."
   ]
  },
  {
   "cell_type": "code",
   "execution_count": 34,
   "id": "4b53e4fa-77d3-4631-847a-6ec198bda173",
   "metadata": {},
   "outputs": [
    {
     "name": "stdout",
     "output_type": "stream",
     "text": [
      "[3.969634507188722e+19, 1.4197126251048989e+19, 2.4333299638746604e+19]\n",
      "[3.969634507188729e+19, 5.049048511744893e+17, 2.433329963874665e+19]\n"
     ]
    }
   ],
   "source": [
    "condition = [la.norm(A, ord=x) * la.norm(la.inv(A), ord=x) for x in [1,2,np.inf]]\n",
    "print(condition)\n",
    "condition = [np.linalg.cond(A,x) for x in [1,2,np.inf]]\n",
    "print(condition)"
   ]
  },
  {
   "cell_type": "markdown",
   "id": "1b4bf294-40af-4285-850f-650ba466ae04",
   "metadata": {},
   "source": [
    "Write your answer, using $\\LaTeX$, in this box.\n",
    "\n",
    "TODO: Welk condition number willen we gebruiken en wat willen we er over zeggen?"
   ]
  },
  {
   "cell_type": "markdown",
   "id": "0e861009-6cb1-45ef-ab7c-c7dfbb50652e",
   "metadata": {},
   "source": [
    "# Exercise 2\n",
    "\n",
    "(N.B. this is a theory exercise.)\n",
    "Suppose we write a $(p+q) \\times (p+q)$ matrix $M$ in block form where\n",
    "$A, B, C, D$ are respectively $p \\times p, p \\times q, q \\times p$\n",
    "and $q \\times q$ matrices\n",
    "$$ M = \\begin{bmatrix} A & B \\\\ C & D  \\end{bmatrix}. $$"
   ]
  },
  {
   "cell_type": "markdown",
   "id": "83c83ef7-bce0-49c1-ab1a-0e419a740b6d",
   "metadata": {},
   "source": [
    "## (a)\n",
    "Verify that \n",
    "$$ \\begin{bmatrix} A & B \\\\ C & D \n",
    "    \\end{bmatrix} =\n",
    "    \\begin{bmatrix} I_p & 0 \\\\ C A^{-1} & I_q \n",
    "    \\end{bmatrix}\n",
    "    \\begin{bmatrix} A & 0\\\\ 0 & D - CA^{-1} B\n",
    "    \\end{bmatrix}\n",
    "    \\begin{bmatrix} I_p & A^{-1} B \\\\ 0 & I_q \n",
    "    \\end{bmatrix}. $$"
   ]
  },
  {
   "cell_type": "markdown",
   "id": "84ff623d-533a-46f7-8389-8ba004079ba6",
   "metadata": {},
   "source": [
    "Write your answer, using $\\LaTeX$, in this box. \n",
    "\n",
    "TODO: mag je een blokmatrix vermenigvuldigen als een reguliere?\n",
    "\n",
    "\\begin{align}\n",
    "    \\begin{bmatrix} \n",
    "        I_p & 0 \\\\ \n",
    "        C A^{-1} & I_q \n",
    "    \\end{bmatrix}\n",
    "    \\begin{bmatrix} \n",
    "        A & 0\\\\ \n",
    "        0 & D - CA^{-1} B\n",
    "    \\end{bmatrix} \n",
    "    \\begin{bmatrix} \n",
    "        I_p & A^{-1} B \\\\ \n",
    "        0 & I_q \n",
    "    \\end{bmatrix} &= \n",
    "    \\begin{bmatrix} \n",
    "        I_p A + 0 \\cdot 0 & I_p \\cdot 0 + 0 \\cdot (D - CA^{-1}B) \\\\  \n",
    "        CA^{-1}A + I_q \\cdot 0 & CA^{-1} \\cdot 0 + I_q \\cdot (D - CA^{-1}B)\n",
    "    \\end{bmatrix}\n",
    "    \\begin{bmatrix}\n",
    "        I_p & A^{-1}B \\\\\n",
    "        0 & I_q\n",
    "    \\end{bmatrix} \\\\ &=\n",
    "    \\begin{bmatrix}\n",
    "        A & 0 \\\\\n",
    "        C & D - CA^{-1}B\n",
    "    \\end{bmatrix}\n",
    "    \\begin{bmatrix}\n",
    "        I_p & A^{-1}B \\\\\n",
    "        0 & I_q\n",
    "    \\end{bmatrix} \\\\ &=\n",
    "    \\begin{bmatrix}\n",
    "        A \\cdot I_p + 0 \\cdot 0 & AA^{-1}B + 0 \\cdot I_q \\\\\n",
    "        C \\cdot I_p + 0 \\cdot (D - CA^{-1}B) & CA^{-1}B + I_q(D - CA^{-1}B)\n",
    "    \\end{bmatrix} \\\\ &=\n",
    "    \\begin{bmatrix}\n",
    "        A & B \\\\\n",
    "        C & CA^{-1}B + D - CA^{-1}B\n",
    "    \\end{bmatrix} = \n",
    "    \\begin{bmatrix}\n",
    "        A & B \\\\\n",
    "        C & D\n",
    "    \\end{bmatrix}\n",
    "\\end{align}"
   ]
  },
  {
   "cell_type": "markdown",
   "id": "2a9d6c87-b0b4-4f0d-8d3f-3c870c9cc198",
   "metadata": {},
   "source": [
    "## (b)\n",
    "Describe how a system $M x = b$, with $x$ and $b$ in $\\mathbb{R}^{p+q}$,\n",
    "can be solved by applying matrix-vector products with $C$ and\n",
    "$B$ and solves with $A$ and $(D - CA^{-1}B)$."
   ]
  },
  {
   "cell_type": "markdown",
   "id": "47a5b7fa-faee-4814-b3f0-850f77b7f067",
   "metadata": {},
   "source": [
    "Write your answer, using $\\LaTeX$, in this box.\n",
    "\n",
    "Define $M_1, M_2$ and $M_3$ respectively as\n",
    "$$\\begin{bmatrix} I_p & 0 \\\\ C A^{-1} & I_q \n",
    "\\end{bmatrix}, \n",
    "\\begin{bmatrix} A & 0\\\\ 0 & D - CA^{-1} B\n",
    "\\end{bmatrix}, \n",
    "\\begin{bmatrix} I_p & A^{-1} B \\\\ 0 & I_q \n",
    "\\end{bmatrix}. $$\n",
    "\n",
    "Then for solving $Mx = b$ it is known that $x = M^{-1}b = (M_1M_2M_3)^{-1}b = M_3^{-1}M_2^{-1}M_1^{-1}b$. For the inverses of block matrices, it is equal to the matrix of the inverses of its blocks, i.e.:\n",
    "$$ M_1^{-1} = \n",
    "\\begin{bmatrix}\n",
    "    I_p & 0 \\\\\n",
    "    -CA^{-1} & I_q\n",
    "\\end{bmatrix} \\\\\n",
    "M_2^{-1} = \n",
    "\\begin{bmatrix}\n",
    "    A^{-1} & 0 \\\\\n",
    "    0 & (D - CA^{-1}B)^{-1}\n",
    "\\end{bmatrix} \\\\\n",
    "M_3^{-1} = \n",
    "\\begin{bmatrix}\n",
    "    I_p & -A^{-1}B \\\\\n",
    "    0 & I_q\n",
    "\\end{bmatrix}.$$\n",
    "\n",
    "This means that:\n",
    "$$ x =\n",
    "\\begin{bmatrix}\n",
    "    I_p & -A^{-1}B \\\\\n",
    "    0 & I_q\n",
    "\\end{bmatrix} \n",
    "\\begin{bmatrix}\n",
    "    A^{-1} & 0 \\\\\n",
    "    0 & (D - CA^{-1}B)^{-1}\n",
    "\\end{bmatrix}\n",
    "\\begin{bmatrix}\n",
    "    I_p & 0 \\\\\n",
    "    -CA^{-1} & I_q\n",
    "\\end{bmatrix} b \\\\ =\n",
    "\\begin{bmatrix}\n",
    "    I_p & -A^{-1}B \\\\\n",
    "    0 & I_q\n",
    "\\end{bmatrix}\n",
    "\\begin{bmatrix}\n",
    "    A^{-1}I_p & 0 \\\\\n",
    "    (D - CA^{-1}B)^{-1}(-CA^{-1}) & (D - CA^{-1}B)^{-1}I_q\n",
    "\\end{bmatrix} b \\\\ =\n",
    "\\begin{bmatrix}\n",
    "    A^{-1} & A^{-1}B(D - CA^{-1}B)^{-1}CA^{-1} \\\\\n",
    "    -(D - CA^{-1}B)^{-1}CA^{-1} & (D - CA^{-1}B)^{-1}\n",
    "\\end{bmatrix} b\n",
    "$$\n",
    "\n",
    "Also, $b$ can be defined as a block vector with length $p$ called $b_p$ and length $q$ called $b_q$, then this creates a formula that can be solved if you want to solve for $x$: (Willen we dit doen?)\n",
    "$$\n",
    "x = \n",
    "\\begin{bmatrix}\n",
    "    A^{-1} & A^{-1}B(D - CA^{-1}B)^{-1}CA^{-1} \\\\\n",
    "    -(D - CA^{-1}B)^{-1}CA^{-1} & (D - CA^{-1}B)^{-1}\n",
    "\\end{bmatrix} \n",
    "\\begin{bmatrix}\n",
    "    b_p \\\\\n",
    "    b_q\n",
    "\\end{bmatrix} \\\\ =\n",
    "\\begin{bmatrix}\n",
    "    A^{-1}b_p - A^{-1}B(D - CA^{-1}B)^{-1}CA^{-1}b_q \\\\\n",
    "    -(D - CA^{-1}B)^{-1}CA^{-1}b_p + (D - CA^{-1}B)^{-1}b_q\n",
    "\\end{bmatrix} \\\\ =\n",
    "\\begin{bmatrix}\n",
    "    A^{-1}(b_p - B(D - CA^{-1}B)^{-1}CA^{-1}b_q) \\\\\n",
    "    (D - CA^{-1}B)^{-1}(-CA^{-1}b_p + b_q)\n",
    "\\end{bmatrix}.\n",
    "$$"
   ]
  },
  {
   "cell_type": "markdown",
   "id": "e3c88a41-be49-43ed-8819-9b3084bd417e",
   "metadata": {},
   "source": [
    "## (c)\n",
    "What is the cost, to highest order, of LU-factorizing $A$ and of\n",
    "computing and LU-factorizing $D - CA^{-1} B$? "
   ]
  },
  {
   "cell_type": "markdown",
   "id": "68a32387-f372-4e72-a67b-48b9e89497b2",
   "metadata": {},
   "source": [
    "Write your answer, using $\\LaTeX$, in this box."
   ]
  },
  {
   "cell_type": "markdown",
   "id": "f990d804-c6a0-41fd-a26e-2878b3ec68da",
   "metadata": {},
   "source": [
    "**Remark**: Although in this case no savings were obtained, the decomposition\n",
    "above is very useful for solving linear systems with many zero coefficients,\n",
    "in other words where $M$ is a sparse matrix. After applying a\n",
    "permutation of the indices such a matrix is written in the above\n",
    "form, where $q$ is as small as possible and $A$ is blockdiagonal,\n",
    "i.e. $A = \\begin{bmatrix} E & O \\\\ O & F \\end{bmatrix}$. This\n",
    "blockdiagonal form then causes big savings in computational\n",
    "cost. Moreover, the procedure can be applied recursively to $E$ and $F$."
   ]
  }
 ],
 "metadata": {
  "kernelspec": {
   "display_name": "Python 3",
   "language": "python",
   "name": "python3"
  },
  "language_info": {
   "codemirror_mode": {
    "name": "ipython",
    "version": 3
   },
   "file_extension": ".py",
   "mimetype": "text/x-python",
   "name": "python",
   "nbconvert_exporter": "python",
   "pygments_lexer": "ipython3",
   "version": "3.8.8"
  }
 },
 "nbformat": 4,
 "nbformat_minor": 5
}
