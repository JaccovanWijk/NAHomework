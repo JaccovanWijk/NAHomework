{
 "cells": [
  {
   "cell_type": "markdown",
   "id": "e6991386-31db-4655-822b-21f41a064f0b",
   "metadata": {
    "nbgrader": {
     "grade": false,
     "grade_id": "cell-736ff6bc3e0d0696",
     "locked": true,
     "schema_version": 3,
     "solution": false,
     "task": false
    }
   },
   "source": [
    "# Homework Set 2\n",
    "\n",
    "Please **submit this Jupyter notebook through Canvas** no later than **Mon Nov. 15, 9:00**.\n",
    "\n",
    "Homework is in **groups of two**, and you are expected to hand in original work. Work that is copied from another group will not be accepted."
   ]
  },
  {
   "cell_type": "markdown",
   "id": "28e0cf7d-032f-4435-b4d6-a0ebe27ab051",
   "metadata": {
    "nbgrader": {
     "grade": false,
     "grade_id": "cell-b13bc5ed16bce8e0",
     "locked": true,
     "schema_version": 3,
     "solution": false,
     "task": false
    }
   },
   "source": [
    "# Exercise 0\n",
    "Write down the names + student ID of the people in your group."
   ]
  },
  {
   "cell_type": "markdown",
   "id": "ed90a614-072a-48eb-9297-d8eaf8e5183f",
   "metadata": {
    "nbgrader": {
     "grade": true,
     "grade_id": "cell-fd464f55ba436b1c",
     "locked": false,
     "points": 0,
     "schema_version": 3,
     "solution": true,
     "task": false
    }
   },
   "source": [
    "Write your answer, using $\\LaTeX$, in this box."
   ]
  },
  {
   "cell_type": "markdown",
   "id": "ed21bb3f-43a0-40b3-83bf-cf4a679370ea",
   "metadata": {
    "nbgrader": {
     "grade": false,
     "grade_id": "cell-b5a7855ecca9f6be",
     "locked": true,
     "schema_version": 3,
     "solution": false,
     "task": false
    }
   },
   "source": [
    "Run the following cell to import the necessary packages."
   ]
  },
  {
   "cell_type": "code",
   "execution_count": 2,
   "id": "f94d7728-fe51-45ac-903f-59c066161470",
   "metadata": {},
   "outputs": [],
   "source": [
    "import numpy as np\n",
    "import scipy.linalg as la\n",
    "import matplotlib.pyplot as plt\n",
    "import random"
   ]
  },
  {
   "cell_type": "markdown",
   "id": "aa14ad46-1797-4256-9ead-da2143c4118d",
   "metadata": {},
   "source": [
    "# Exercise 1\n",
    "\n",
    "The goal of this problem is to show that apparently harmless looking systems of linear equations may be very difficult to solve. Some functions that may be useful are `numpy.triu`, `numpy.tril`, `numpy.eye`, `random.randrange`.\n",
    "## (a)\n",
    "Generate an $n \\times n$ matrix $B$ with random integer elements in the range\n",
    "$b_{ij} \\in [-10, 10]$. Choose for instance $n=20$.\n"
   ]
  },
  {
   "cell_type": "code",
   "execution_count": 4,
   "id": "946ce5e1-4d17-48ab-9992-836ac9e76794",
   "metadata": {},
   "outputs": [
    {
     "name": "stdout",
     "output_type": "stream",
     "text": [
      "|-3.15|-1.26|2.91|1.06|8.66|-7.7|-3.64|-1.25|2.05|-4.62|-8.37|4.06|-2.16|-2.41|-1.9|-6.14|6.85|9.34|-8.3|5.68|\n",
      "|-8.73|6.52|5.37|-2.2|2.93|2.15|6.18|5.23|3.2|-7.91|-0.3|1.39|9.39|8.34|9.23|-0.83|-1.52|7.67|-3.84|6.59|\n",
      "|-8.54|-5.81|-7.8|5.73|-4.28|7.62|-0.94|0.43|8.15|-9.01|1.05|7.3|-5.3|-9.12|4.28|-6.06|-9.55|-4.72|-6.98|-4.91|\n",
      "|2.15|5.17|5.15|-9.33|-6.7|-7.4|-5.72|2.11|-1.63|7.06|7.02|5.76|0.13|-5.5|2.81|-6.84|2.75|-3.2|7.69|-0.63|\n",
      "|4.88|-1.0|6.95|-5.12|-8.55|3.87|-5.49|1.03|-5.05|2.22|-7.08|-9.57|-5.51|-9.12|9.73|5.1|-7.35|-8.56|0.2|-2.93|\n",
      "|-1.42|7.56|0.77|5.14|6.63|8.26|5.05|8.68|8.88|5.14|2.54|-1.11|9.99|-0.93|0.78|5.37|-0.66|8.21|4.03|8.96|\n",
      "|6.51|5.85|-5.41|1.47|-8.29|-6.11|4.32|-3.61|9.01|-7.24|1.36|9.38|-6.94|-2.19|-3.09|-7.22|2.04|6.8|-9.26|-4.92|\n",
      "|9.24|7.91|-5.22|7.34|1.53|8.6|-0.04|-6.41|-5.24|4.48|-8.17|-5.16|-1.18|-0.81|-4.06|-3.74|-0.43|0.25|-8.98|-8.76|\n",
      "|-0.35|-4.98|2.85|-5.25|-4.28|5.39|-2.58|8.39|-4.75|-3.82|2.28|-2.62|2.82|7.38|4.78|-2.56|-9.04|9.07|-1.66|8.06|\n",
      "|9.88|-0.0|-5.79|9.12|1.53|-4.06|-0.44|-8.06|9.88|4.36|-5.49|3.98|-9.48|9.89|-1.09|-5.16|-3.06|-3.82|-6.75|-5.75|\n",
      "|6.96|6.99|-7.06|-9.54|-1.82|-6.38|1.17|3.36|9.81|-9.76|-7.04|-7.9|-9.85|6.62|1.46|4.56|-0.28|-3.75|5.99|6.91|\n",
      "|-0.58|-2.6|-8.0|-7.15|-3.67|-7.34|0.81|-9.4|6.28|-4.1|-3.7|-0.15|-3.91|0.46|4.02|2.12|5.94|-4.5|-3.28|8.94|\n",
      "|-0.78|2.87|8.43|2.77|-0.96|-7.93|-0.83|-4.54|2.49|7.15|-9.85|8.67|3.54|-1.9|9.17|4.94|-9.61|-7.66|-4.51|-8.23|\n",
      "|-5.49|5.64|-6.25|-0.75|8.74|-4.11|7.23|4.33|-2.58|-9.96|1.15|-3.33|-2.95|6.7|0.65|-5.42|-3.09|1.38|-2.74|-2.62|\n",
      "|-7.62|-9.24|6.39|5.31|-0.57|-0.04|-2.56|5.54|-2.3|-9.87|-4.19|-7.03|7.36|-8.72|-4.55|-7.45|-2.73|-4.37|4.3|-3.44|\n",
      "|9.49|-2.76|-9.59|-6.88|5.57|-0.49|9.64|-9.1|6.01|-8.36|9.36|2.56|6.77|2.67|-9.11|5.07|9.33|2.64|7.82|9.14|\n",
      "|-7.97|8.12|6.15|-3.87|2.34|3.75|1.17|4.93|-5.41|-3.43|-1.85|8.25|5.9|8.1|-3.01|-3.48|7.17|-1.48|3.8|-4.84|\n",
      "|8.59|4.82|-9.07|2.87|7.37|9.22|1.5|3.98|-9.47|0.01|2.64|3.16|2.06|4.82|-0.82|-6.0|-3.79|-1.92|-8.88|8.15|\n",
      "|-8.55|0.71|-8.82|-7.2|3.99|6.27|4.36|-7.41|-2.97|2.32|-4.0|4.52|-8.15|-8.76|2.59|2.96|-9.61|8.94|-2.65|-2.62|\n",
      "|8.69|-2.93|3.11|9.54|-0.52|2.45|-3.99|-6.78|2.98|-3.74|4.01|-5.39|-8.71|2.97|9.75|-0.36|-4.2|-4.09|3.15|-6.52|\n"
     ]
    }
   ],
   "source": [
    "n = 20\n",
    "b_min = -10\n",
    "b_max = 10\n",
    "B = np.random.rand(n,n)*(b_max - b_min) + b_min\n",
    "\n",
    "#TODO: Mooier printen?\n",
    "for row in B:\n",
    "    print(end=\"|\")\n",
    "    for column in row:\n",
    "        print(round(column,2), end=\"|\")\n",
    "    print()"
   ]
  },
  {
   "cell_type": "markdown",
   "id": "230a0f2e-5887-4047-9ede-887d02dea5a1",
   "metadata": {},
   "source": [
    "## (b)\n",
    "Remove the diagonal of $B$, save the upper triangular part in $U$ and the lower triangular part in $L$, and put ones on the diagonals $l_{ii} = u_{ii} = 1$."
   ]
  },
  {
   "cell_type": "code",
   "execution_count": 6,
   "id": "299a4cf2-677a-4b27-91c1-f731801a74a6",
   "metadata": {},
   "outputs": [],
   "source": [
    "# Remove diagonal\n",
    "np.fill_diagonal(B, 0)\n",
    "\n",
    "# Create U and L\n",
    "U = np.triu(B) + np.eye(n)\n",
    "L = np.tril(B) + np.eye(n)\n",
    "\n",
    "# TODO: Printen?"
   ]
  },
  {
   "cell_type": "markdown",
   "id": "53b14e0f-f9e0-48c6-b192-e0f8026bd99b",
   "metadata": {},
   "source": [
    "## (c)\n",
    "Compute $A = L \\cdot U$. What is the value of $\\det(A)$ and why? Compute the determinant using the appropriate python command and confirm your prediction. In case that you have doubts about the result, compute separately $\\det(L)$ and $\\det(U)$."
   ]
  },
  {
   "cell_type": "markdown",
   "id": "f8c995cb-46d0-44b9-ba64-92321686767d",
   "metadata": {},
   "source": [
    "Write your answer, using $\\LaTeX$, in this box."
   ]
  },
  {
   "cell_type": "code",
   "execution_count": null,
   "id": "6003d83b-cbd3-4078-b6eb-220a1550c6c1",
   "metadata": {},
   "outputs": [],
   "source": [
    "A = L * U\n",
    "print(np.linalg.det(A))\n",
    "print(np.linalg.det(L), np.linalg.det(U), np.linalg.det(L) * np.linalg.det(U))\n",
    "# TODO: IS det(L) * det(U) niet precies 1 door error?"
   ]
  },
  {
   "cell_type": "markdown",
   "id": "9aa377cc-d913-46ca-a625-30e3ec7c91fb",
   "metadata": {},
   "source": [
    "## (d)\n",
    "Choose now an exact solution, for instance $x_{\\rm e} =$ `numpy.ones(n)`, and compute the corresponding right hand side $b = A x_{\\rm e}$.\n"
   ]
  },
  {
   "cell_type": "code",
   "execution_count": null,
   "id": "36dac949-ae76-4fb1-8060-921d010a1558",
   "metadata": {},
   "outputs": [],
   "source": []
  },
  {
   "cell_type": "markdown",
   "id": "fc0577fd-9510-4e73-8d1c-5b738885ad27",
   "metadata": {},
   "source": [
    "## (e)\n",
    "Solve $A x = b$ using `scipy.linalg.lu_factor` and `scipy.linalg.lu_solve` and compare the solution with the exact $x_{\\rm e}$. "
   ]
  },
  {
   "cell_type": "code",
   "execution_count": null,
   "id": "ce517576-e784-4d67-9e88-94bcb295fcbd",
   "metadata": {},
   "outputs": [],
   "source": []
  },
  {
   "cell_type": "markdown",
   "id": "b63e4111-78f2-4e60-b0ca-30c176821884",
   "metadata": {},
   "source": [
    "## (f)\n",
    "Explain the bad results by computing the condition number of $A$."
   ]
  },
  {
   "cell_type": "code",
   "execution_count": null,
   "id": "4b53e4fa-77d3-4631-847a-6ec198bda173",
   "metadata": {},
   "outputs": [],
   "source": []
  },
  {
   "cell_type": "markdown",
   "id": "1b4bf294-40af-4285-850f-650ba466ae04",
   "metadata": {},
   "source": [
    "Write your answer, using $\\LaTeX$, in this box."
   ]
  },
  {
   "cell_type": "markdown",
   "id": "0e861009-6cb1-45ef-ab7c-c7dfbb50652e",
   "metadata": {},
   "source": [
    "# Exercise 2\n",
    "\n",
    "(N.B. this is a theory exercise.)\n",
    "Suppose we write a $(p+q) \\times (p+q)$ matrix $M$ in block form where\n",
    "$A, B, C, D$ are respectively $p \\times p, p \\times q, q \\times p$\n",
    "and $q \\times q$ matrices\n",
    "$$ M = \\begin{bmatrix} A & B \\\\ C & D  \\end{bmatrix}. $$"
   ]
  },
  {
   "cell_type": "markdown",
   "id": "83c83ef7-bce0-49c1-ab1a-0e419a740b6d",
   "metadata": {},
   "source": [
    "## (a)\n",
    "Verify that \n",
    "$$ \\begin{bmatrix} A & B \\\\ C & D \n",
    "    \\end{bmatrix} =\n",
    "    \\begin{bmatrix} I_p & 0 \\\\ C A^{-1} & I_q \n",
    "    \\end{bmatrix}\n",
    "    \\begin{bmatrix} A & 0\\\\ 0 & D - CA^{-1} B\n",
    "    \\end{bmatrix}\n",
    "    \\begin{bmatrix} I_p & A^{-1} B \\\\ 0 & I_q \n",
    "    \\end{bmatrix}. $$"
   ]
  },
  {
   "cell_type": "markdown",
   "id": "84ff623d-533a-46f7-8389-8ba004079ba6",
   "metadata": {},
   "source": [
    "Write your answer, using $\\LaTeX$, in this box. \n",
    "\n",
    "TODO: mag je een blokmatrix vermenigvuldigen als een reguliere?\n",
    "\n",
    "\\begin{align}\n",
    "    \\begin{bmatrix} \n",
    "        I_p & 0 \\\\ \n",
    "        C A^{-1} & I_q \n",
    "    \\end{bmatrix}\n",
    "    \\begin{bmatrix} \n",
    "        A & 0\\\\ \n",
    "        0 & D - CA^{-1} B\n",
    "    \\end{bmatrix} \n",
    "    \\begin{bmatrix} \n",
    "        I_p & A^{-1} B \\\\ \n",
    "        0 & I_q \n",
    "    \\end{bmatrix} &= \n",
    "    \\begin{bmatrix} \n",
    "        I_p A + 0 \\cdot 0 & I_p \\cdot 0 + 0 \\cdot (D - CA^{-1}B) \\\\  \n",
    "        CA^{-1}A + I_q \\cdot 0 & CA^{-1} \\cdot 0 + I_q \\cdot (D - CA^{-1}B)\n",
    "    \\end{bmatrix}\n",
    "    \\begin{bmatrix}\n",
    "        I_p & A^{-1}B \\\\\n",
    "        0 & I_q\n",
    "    \\end{bmatrix} \\\\ &=\n",
    "    \\begin{bmatrix}\n",
    "        A & 0 \\\\\n",
    "        C & D - CA^{-1}B\n",
    "    \\end{bmatrix}\n",
    "    \\begin{bmatrix}\n",
    "        I_p & A^{-1}B \\\\\n",
    "        0 & I_q\n",
    "    \\end{bmatrix} \\\\ &=\n",
    "    \\begin{bmatrix}\n",
    "        A \\cdot I_p + 0 \\cdot 0 & AA^{-1}B + 0 \\cdot I_q \\\\\n",
    "        C \\cdot I_p + 0 \\cdot (D - CA^{-1}B) & CA^{-1}B + I_q(D - CA^{-1}B)\n",
    "    \\end{bmatrix} \\\\ &=\n",
    "    \\begin{bmatrix}\n",
    "        A & B \\\\\n",
    "        C & CA^{-1}B + D - CA^{-1}B\n",
    "    \\end{bmatrix} = \n",
    "    \\begin{bmatrix}\n",
    "        A & B \\\\\n",
    "        C & D\n",
    "    \\end{bmatrix}\n",
    "\\end{align}"
   ]
  },
  {
   "cell_type": "markdown",
   "id": "2a9d6c87-b0b4-4f0d-8d3f-3c870c9cc198",
   "metadata": {},
   "source": [
    "## (b)\n",
    "Describe how a system $M x = b$, with $x$ and $b$ in $\\mathbb{R}^{p+q}$,\n",
    "can be solved by applying matrix-vector products with $C$ and\n",
    "$B$ and solves with $A$ and $(D - CA^{-1}B)$."
   ]
  },
  {
   "cell_type": "markdown",
   "id": "47a5b7fa-faee-4814-b3f0-850f77b7f067",
   "metadata": {},
   "source": [
    "Write your answer, using $\\LaTeX$, in this box."
   ]
  },
  {
   "cell_type": "markdown",
   "id": "e3c88a41-be49-43ed-8819-9b3084bd417e",
   "metadata": {},
   "source": [
    "## (c)\n",
    "What is the cost, to highest order, of LU-factorizing $A$ and of\n",
    "computing and LU-factorizing $D - CA^{-1} B$? "
   ]
  },
  {
   "cell_type": "markdown",
   "id": "68a32387-f372-4e72-a67b-48b9e89497b2",
   "metadata": {},
   "source": [
    "Write your answer, using $\\LaTeX$, in this box."
   ]
  },
  {
   "cell_type": "markdown",
   "id": "f990d804-c6a0-41fd-a26e-2878b3ec68da",
   "metadata": {},
   "source": [
    "**Remark**: Although in this case no savings were obtained, the decomposition\n",
    "above is very useful for solving linear systems with many zero coefficients,\n",
    "in other words where $M$ is a sparse matrix. After applying a\n",
    "permutation of the indices such a matrix is written in the above\n",
    "form, where $q$ is as small as possible and $A$ is blockdiagonal,\n",
    "i.e. $A = \\begin{bmatrix} E & O \\\\ O & F \\end{bmatrix}$. This\n",
    "blockdiagonal form then causes big savings in computational\n",
    "cost. Moreover, the procedure can be applied recursively to $E$ and $F$."
   ]
  }
 ],
 "metadata": {
  "kernelspec": {
   "display_name": "Python 3",
   "language": "python",
   "name": "python3"
  },
  "language_info": {
   "codemirror_mode": {
    "name": "ipython",
    "version": 3
   },
   "file_extension": ".py",
   "mimetype": "text/x-python",
   "name": "python",
   "nbconvert_exporter": "python",
   "pygments_lexer": "ipython3",
   "version": "3.8.8"
  }
 },
 "nbformat": 4,
 "nbformat_minor": 5
}
