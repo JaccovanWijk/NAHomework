{
 "cells": [
  {
   "cell_type": "markdown",
   "id": "e6991386-31db-4655-822b-21f41a064f0b",
   "metadata": {
    "nbgrader": {
     "grade": false,
     "grade_id": "cell-736ff6bc3e0d0696",
     "locked": true,
     "schema_version": 3,
     "solution": false,
     "task": false
    }
   },
   "source": [
    "# Homework Set 2\n",
    "\n",
    "Please **submit this Jupyter notebook through Canvas** no later than **Mon Nov. 15, 9:00**.\n",
    "\n",
    "Homework is in **groups of two**, and you are expected to hand in original work. Work that is copied from another group will not be accepted."
   ]
  },
  {
   "cell_type": "markdown",
   "id": "28e0cf7d-032f-4435-b4d6-a0ebe27ab051",
   "metadata": {
    "nbgrader": {
     "grade": false,
     "grade_id": "cell-b13bc5ed16bce8e0",
     "locked": true,
     "schema_version": 3,
     "solution": false,
     "task": false
    }
   },
   "source": [
    "# Exercise 0\n",
    "Write down the names + student ID of the people in your group."
   ]
  },
  {
   "cell_type": "markdown",
   "id": "ed90a614-072a-48eb-9297-d8eaf8e5183f",
   "metadata": {
    "nbgrader": {
     "grade": true,
     "grade_id": "cell-fd464f55ba436b1c",
     "locked": false,
     "points": 0,
     "schema_version": 3,
     "solution": true,
     "task": false
    }
   },
   "source": [
    "Write your answer, using $\\LaTeX$, in this box."
   ]
  },
  {
   "cell_type": "markdown",
   "id": "ed21bb3f-43a0-40b3-83bf-cf4a679370ea",
   "metadata": {
    "nbgrader": {
     "grade": false,
     "grade_id": "cell-b5a7855ecca9f6be",
     "locked": true,
     "schema_version": 3,
     "solution": false,
     "task": false
    }
   },
   "source": [
    "Run the following cell to import the necessary packages."
   ]
  },
  {
   "cell_type": "code",
   "execution_count": 2,
   "id": "f94d7728-fe51-45ac-903f-59c066161470",
   "metadata": {},
   "outputs": [],
   "source": [
    "import numpy as np\n",
    "import scipy.linalg as la\n",
    "import matplotlib.pyplot as plt\n",
    "import random"
   ]
  },
  {
   "cell_type": "markdown",
   "id": "aa14ad46-1797-4256-9ead-da2143c4118d",
   "metadata": {},
   "source": [
    "# Exercise 1\n",
    "\n",
    "The goal of this problem is to show that apparently harmless looking systems of linear equations may be very difficult to solve. Some functions that may be useful are `numpy.triu`, `numpy.tril`, `numpy.eye`, `random.randrange`.\n",
    "## (a)\n",
    "Generate an $n \\times n$ matrix $B$ with random integer elements in the range\n",
    "$b_{ij} \\in [-10, 10]$. Choose for instance $n=20$.\n"
   ]
  },
  {
   "cell_type": "code",
   "execution_count": 12,
   "id": "946ce5e1-4d17-48ab-9992-836ac9e76794",
   "metadata": {},
   "outputs": [
    {
     "name": "stdout",
     "output_type": "stream",
     "text": [
      "  -4   5   8   3   2   9   7  -8   1  -1  -1  -2   4   7  -4   7   0 -10   4   4\n",
      "   8  -5   6   1   6  -3   2   2   3  -1   5  -3  -3  -9   4   3  -7   1  -1  -1\n",
      "  -2  -1  -5   8  -8   8   8   1  -5   5   9  -1   7   9   8  -8  -6  -4  -2   1\n",
      "  -7  -6  -3   3  -5   6  -6  -1   6   9   5  -7  -9  -5 -10   9   9 -10   8 -10\n",
      "   0   2   6  -7  -6   3  -5   1   6  -5   4  -7  -9   6   9   8 -10  -4   6   6\n",
      "   4  -4  -3   6   1   9 -10  -3  -8   9   8   8   4   8  -2   3   4  -2  -4  -2\n",
      "   9  -1  -8   6  -3   0  -6   9  -2  -1   2  -9  -8   2   8  -8  -6  -8   7  -1\n",
      "   1   0  -8  -6  -6  -3   9  -9  -7   7  -2   1  -1   5  -9   1  -7   6  -5   2\n",
      "  -3   9   0  -7   3   2   2  -8   3  -2   3  -7  -7  -6   3   8   3  -5 -10   0\n",
      "   4   0   0  -2   2  -9   0   7  -9   3  -3 -10  -7   2   7   7  -3 -10  -4   8\n",
      "   9  -2  -3  -5   4   2  -4  -1  -4  -1  -8  -7  -7   3   8  -6   5  -3   1  -4\n",
      " -10   3   0   2   8  -2   4   6   7  -2  -5  -4  -1  -7   7  -7  -9  -6  -5  -3\n",
      "  -7  -7  -5   4  -7   4   9 -10 -10  -9  -3   0   0   8  -6   4  -1 -10  -6  -6\n",
      "  -7  -5   0   9 -10   9  -9  -4   2  -3   0   1  -8 -10  -4   9   4  -9  -2   6\n",
      "   6 -10   1  -6  -7   4   7  -9  -5   1  -1  -5   8   8  -4   5   0  -4   9   4\n",
      "   1  -4  -7  -3   4 -10  -6   4  -9  -7  -2  -7   0  -3  -1   4   1   1  -5  -2\n",
      "  -6   2  -4  -2  -4  -1   7   3  -2  -8  -7   4  -5  -4   0  -9   0   2   6   0\n",
      "   5   4  -3  -2   5   0   1  -4  -5  -3   2  -3  -4   4  -7  -8  -8   7  -2   8\n",
      "   8  -5  -8  -4  -2   8  -6  -3   6  -1  -6   8   1 -10   6  -1  -3   5  -5   4\n",
      "   7  -3   3   7   3   2   3 -10   2   6   0   0  -6  -7  -7  -5   4  -1 -10  -5\n"
     ]
    }
   ],
   "source": [
    "n = 20\n",
    "b_min = -10\n",
    "b_max = 10\n",
    "B = np.random.randint(b_max - b_min, size=(n,n)) + b_min\n",
    "\n",
    "print('\\n'.join([''.join(['{:4}'.format(item) for item in row]) \n",
    "      for row in B]))"
   ]
  },
  {
   "cell_type": "markdown",
   "id": "230a0f2e-5887-4047-9ede-887d02dea5a1",
   "metadata": {},
   "source": [
    "## (b)\n",
    "Remove the diagonal of $B$, save the upper triangular part in $U$ and the lower triangular part in $L$, and put ones on the diagonals $l_{ii} = u_{ii} = 1$."
   ]
  },
  {
   "cell_type": "code",
   "execution_count": 38,
   "id": "299a4cf2-677a-4b27-91c1-f731801a74a6",
   "metadata": {},
   "outputs": [
    {
     "name": "stdout",
     "output_type": "stream",
     "text": [
      "U = \n",
      "   1   5   8   3   2   9   7  -8   1  -1  -1  -2   4   7  -4   7   0 -10   4   4\n",
      "   0   1   6   1   6  -3   2   2   3  -1   5  -3  -3  -9   4   3  -7   1  -1  -1\n",
      "   0   0   1   8  -8   8   8   1  -5   5   9  -1   7   9   8  -8  -6  -4  -2   1\n",
      "   0   0   0   1  -5   6  -6  -1   6   9   5  -7  -9  -5 -10   9   9 -10   8 -10\n",
      "   0   0   0   0   1   3  -5   1   6  -5   4  -7  -9   6   9   8 -10  -4   6   6\n",
      "   0   0   0   0   0   1 -10  -3  -8   9   8   8   4   8  -2   3   4  -2  -4  -2\n",
      "   0   0   0   0   0   0   1   9  -2  -1   2  -9  -8   2   8  -8  -6  -8   7  -1\n",
      "   0   0   0   0   0   0   0   1  -7   7  -2   1  -1   5  -9   1  -7   6  -5   2\n",
      "   0   0   0   0   0   0   0   0   1  -2   3  -7  -7  -6   3   8   3  -5 -10   0\n",
      "   0   0   0   0   0   0   0   0   0   1  -3 -10  -7   2   7   7  -3 -10  -4   8\n",
      "   0   0   0   0   0   0   0   0   0   0   1  -7  -7   3   8  -6   5  -3   1  -4\n",
      "   0   0   0   0   0   0   0   0   0   0   0   1  -1  -7   7  -7  -9  -6  -5  -3\n",
      "   0   0   0   0   0   0   0   0   0   0   0   0   1   8  -6   4  -1 -10  -6  -6\n",
      "   0   0   0   0   0   0   0   0   0   0   0   0   0   1  -4   9   4  -9  -2   6\n",
      "   0   0   0   0   0   0   0   0   0   0   0   0   0   0   1   5   0  -4   9   4\n",
      "   0   0   0   0   0   0   0   0   0   0   0   0   0   0   0   1   1   1  -5  -2\n",
      "   0   0   0   0   0   0   0   0   0   0   0   0   0   0   0   0   1   2   6   0\n",
      "   0   0   0   0   0   0   0   0   0   0   0   0   0   0   0   0   0   1  -2   8\n",
      "   0   0   0   0   0   0   0   0   0   0   0   0   0   0   0   0   0   0   1   4\n",
      "   0   0   0   0   0   0   0   0   0   0   0   0   0   0   0   0   0   0   0   1\n",
      "\n",
      "L = \n",
      "   1   0   0   0   0   0   0   0   0   0   0   0   0   0   0   0   0   0   0   0\n",
      "   8   1   0   0   0   0   0   0   0   0   0   0   0   0   0   0   0   0   0   0\n",
      "  -2  -1   1   0   0   0   0   0   0   0   0   0   0   0   0   0   0   0   0   0\n",
      "  -7  -6  -3   1   0   0   0   0   0   0   0   0   0   0   0   0   0   0   0   0\n",
      "   0   2   6  -7   1   0   0   0   0   0   0   0   0   0   0   0   0   0   0   0\n",
      "   4  -4  -3   6   1   1   0   0   0   0   0   0   0   0   0   0   0   0   0   0\n",
      "   9  -1  -8   6  -3   0   1   0   0   0   0   0   0   0   0   0   0   0   0   0\n",
      "   1   0  -8  -6  -6  -3   9   1   0   0   0   0   0   0   0   0   0   0   0   0\n",
      "  -3   9   0  -7   3   2   2  -8   1   0   0   0   0   0   0   0   0   0   0   0\n",
      "   4   0   0  -2   2  -9   0   7  -9   1   0   0   0   0   0   0   0   0   0   0\n",
      "   9  -2  -3  -5   4   2  -4  -1  -4  -1   1   0   0   0   0   0   0   0   0   0\n",
      " -10   3   0   2   8  -2   4   6   7  -2  -5   1   0   0   0   0   0   0   0   0\n",
      "  -7  -7  -5   4  -7   4   9 -10 -10  -9  -3   0   1   0   0   0   0   0   0   0\n",
      "  -7  -5   0   9 -10   9  -9  -4   2  -3   0   1  -8   1   0   0   0   0   0   0\n",
      "   6 -10   1  -6  -7   4   7  -9  -5   1  -1  -5   8   8   1   0   0   0   0   0\n",
      "   1  -4  -7  -3   4 -10  -6   4  -9  -7  -2  -7   0  -3  -1   1   0   0   0   0\n",
      "  -6   2  -4  -2  -4  -1   7   3  -2  -8  -7   4  -5  -4   0  -9   1   0   0   0\n",
      "   5   4  -3  -2   5   0   1  -4  -5  -3   2  -3  -4   4  -7  -8  -8   1   0   0\n",
      "   8  -5  -8  -4  -2   8  -6  -3   6  -1  -6   8   1 -10   6  -1  -3   5   1   0\n",
      "   7  -3   3   7   3   2   3 -10   2   6   0   0  -6  -7  -7  -5   4  -1 -10   1\n"
     ]
    }
   ],
   "source": [
    "# Remove diagonal\n",
    "np.fill_diagonal(B, 0)\n",
    "\n",
    "# Create U and L\n",
    "U = np.triu(B) + np.eye(n)\n",
    "L = np.tril(B) + np.eye(n)\n",
    "\n",
    "# Print U and L\n",
    "print(\"U = \")\n",
    "print('\\n'.join([''.join(['{:4}'.format(round(item)) for item in row]) \n",
    "      for row in U]), end=\"\\n\\n\")\n",
    "print(\"L = \")\n",
    "print('\\n'.join([''.join(['{:4}'.format(round(item)) for item in row]) \n",
    "      for row in L]))"
   ]
  },
  {
   "cell_type": "markdown",
   "id": "53b14e0f-f9e0-48c6-b192-e0f8026bd99b",
   "metadata": {},
   "source": [
    "## (c)\n",
    "Compute $A = L \\cdot U$. What is the value of $\\det(A)$ and why? Compute the determinant using the appropriate python command and confirm your prediction. In case that you have doubts about the result, compute separately $\\det(L)$ and $\\det(U)$."
   ]
  },
  {
   "cell_type": "markdown",
   "id": "f8c995cb-46d0-44b9-ba64-92321686767d",
   "metadata": {},
   "source": [
    "Write your answer, using $\\LaTeX$, in this box.\n",
    "\n",
    "TODO: Lekker iets hier over zeggen"
   ]
  },
  {
   "cell_type": "code",
   "execution_count": 39,
   "id": "6003d83b-cbd3-4078-b6eb-220a1550c6c1",
   "metadata": {},
   "outputs": [
    {
     "name": "stdout",
     "output_type": "stream",
     "text": [
      "A = \n",
      "   1   5   8   3   2   9   7  -8   1  -1  -1  -2   4   7  -4   7   0 -10   4   4\n",
      "   8  41  70  25  22  69  58 -62  11  -9  -3 -19  29  47 -28  59  -7 -79  31  31\n",
      "  -2 -11 -21   1 -18  -7  -8  15 -10   8   6   6   2   4  12 -25   1  15  -9  -6\n",
      "  -7 -41 -95 -50 -31 -63 -91  40  -4   7 -45  28 -40 -27 -30 -34  69  66  -8 -35\n",
      "   0   2  18  43   0   3  89  18 -60 -40  33  30  90  77 135 -97-123  44 -64  80\n",
      "   4  16   5 -10 -21  64 -55 -51  41  43  -9 -34 -52  21-109 105  94 -98  76 -39\n",
      "   9  44  58 -32  43  47 -23 -82  62  20 -66 -37 -52 -46-183 146 133-115  90 -50\n",
      "   1   5   0 -67  90-112  48  75 -32 -94-135 -14 -29 -72   7-111 -19  46   6  19\n",
      "  -3  -6  30  -7  86 -85   6  56  37-126  64 -10 -10 -75 232 -43-101  24 -23  45\n",
      "   4  20  32  10  20  21 120   6  18 -45-122 -20  29  69 -43 -59-153  67  99  88\n",
      "   9  43  57  -4  59  47  21-113   7 -65 -53  80  99 131 -20  60 -18   3  42  95\n",
      " -10 -47 -62 -25  -4 -65 -92 140  32 -11  69 -98-186-105  60  54-164  53 -45  -2\n",
      "  -7 -42-103 -64 -43 -75-123  85 -11  28 -17 183  94 -52-112-241 198  70 203-211\n",
      "  -7 -40 -86 -17 -99 -15-162 -85 -52 198  64 202 106-163-190  -3 352 130 -57-163\n",
      "   6  20 -11  10 -33  39  68 -26 -95 -33 -60  95 195 266 -60 -42 163-212  35  51\n",
      "   1   1 -23 -60  53 -51  35 -36  85-124-191 128  95  27-204 -13   7 315 143  38\n",
      "  -6 -28 -40 -50  38-117 -21 115 -45 -13 -35 131  43-186 -29-233-107 244  94 -57\n",
      "   5  29  61  -7  73  12   7 -23  71 -89   4  -5  -3  17  41   6 -21  10  85  75\n",
      "   8  35  26 -49  68   1 -70-161 -28 -25 -60 182 128 -40 -72  86  30  13-106  37\n",
      "   7  32  41  49 -60 149  -7 -52  93   6  82-173-100   3 156   6  61-172 146 -68\n",
      "3813148.1000041193\n",
      "1.000000356108266 1.0 1.000000356108266\n"
     ]
    }
   ],
   "source": [
    "# Compute A = L * U\n",
    "A = L.dot(U)\n",
    "\n",
    "# Print A\n",
    "print('A = ')\n",
    "print('\\n'.join([''.join(['{:4}'.format(round(item)) for item in row]) \n",
    "      for row in A]))\n",
    "\n",
    "# TODO: Willen we dit?\n",
    "print(np.linalg.det(A))\n",
    "print(np.linalg.det(L), np.linalg.det(U), np.linalg.det(L) * np.linalg.det(U))"
   ]
  },
  {
   "cell_type": "markdown",
   "id": "9aa377cc-d913-46ca-a625-30e3ec7c91fb",
   "metadata": {},
   "source": [
    "## (d)\n",
    "Choose now an exact solution, for instance $x_{\\rm e} =$ `numpy.ones(n)`, and compute the corresponding right hand side $b = A x_{\\rm e}$.\n"
   ]
  },
  {
   "cell_type": "code",
   "execution_count": 43,
   "id": "36dac949-ae76-4fb1-8060-921d010a1558",
   "metadata": {},
   "outputs": [
    {
     "name": "stdout",
     "output_type": "stream",
     "text": [
      "b = \n",
      "  36\n",
      " 294\n",
      " -47\n",
      "-391\n",
      " 278\n",
      "  -9\n",
      " -34\n",
      "-388\n",
      "  91\n",
      " 161\n",
      " 480\n",
      "-508\n",
      "-240\n",
      " -87\n",
      " 376\n",
      " 226\n",
      "-302\n",
      " 348\n",
      "   3\n",
      " 199\n"
     ]
    }
   ],
   "source": [
    "# Create x_e and compute A * x_e\n",
    "x_e = np.ones(n)\n",
    "b = A.dot(x_e)\n",
    "\n",
    "# Print b\n",
    "print(\"b = \")\n",
    "print('\\n'.join([''.join(['{:4}'.format(round(item)) for item in [row]]) \n",
    "      for row in b]))"
   ]
  },
  {
   "cell_type": "markdown",
   "id": "fc0577fd-9510-4e73-8d1c-5b738885ad27",
   "metadata": {},
   "source": [
    "## (e)\n",
    "Solve $A x = b$ using `scipy.linalg.lu_factor` and `scipy.linalg.lu_solve` and compare the solution with the exact $x_{\\rm e}$. "
   ]
  },
  {
   "cell_type": "code",
   "execution_count": 48,
   "id": "ce517576-e784-4d67-9e88-94bcb295fcbd",
   "metadata": {},
   "outputs": [
    {
     "name": "stdout",
     "output_type": "stream",
     "text": [
      "x = \n",
      "-26.4513\n",
      "8.4836\n",
      "-0.3159\n",
      "1.2062\n",
      "1.0287\n",
      "0.9883\n",
      "0.9988\n",
      "1.0002\n",
      "1.0001\n",
      " 1.0\n",
      " 1.0\n",
      " 1.0\n",
      " 1.0\n",
      " 1.0\n",
      " 1.0\n",
      " 1.0\n",
      " 1.0\n",
      " 1.0\n",
      " 1.0\n",
      " 1.0\n",
      "\n",
      "x_e = \n",
      " 1.0\n",
      " 1.0\n",
      " 1.0\n",
      " 1.0\n",
      " 1.0\n",
      " 1.0\n",
      " 1.0\n",
      " 1.0\n",
      " 1.0\n",
      " 1.0\n",
      " 1.0\n",
      " 1.0\n",
      " 1.0\n",
      " 1.0\n",
      " 1.0\n",
      " 1.0\n",
      " 1.0\n",
      " 1.0\n",
      " 1.0\n",
      " 1.0\n",
      "\n",
      "x_e - x = \n",
      "27.4513\n",
      "-7.4836\n",
      "1.3159\n",
      "-0.2062\n",
      "-0.0287\n",
      "0.0117\n",
      "0.0012\n",
      "-0.0002\n",
      "-0.0001\n",
      "-0.0\n",
      "-0.0\n",
      "-0.0\n",
      "-0.0\n",
      " 0.0\n",
      " 0.0\n",
      "-0.0\n",
      " 0.0\n",
      "-0.0\n",
      "-0.0\n",
      " 0.0\n"
     ]
    }
   ],
   "source": [
    "# Compute L and U using lu_factor and compute x with lu_solve\n",
    "lu, piv = la.lu_factor(A)\n",
    "x = la.lu_solve((lu, piv), b)\n",
    "\n",
    "print(\"x = \")\n",
    "print('\\n'.join([''.join(['{:4}'.format(round(item,4)) for item in [row]]) \n",
    "      for row in x]), end=\"\\n\\n\")\n",
    "\n",
    "print(\"x_e = \")\n",
    "print('\\n'.join([''.join(['{:4}'.format(round(item,4)) for item in [row]]) \n",
    "      for row in x_e]), end=\"\\n\\n\")\n",
    "\n",
    "print(\"x_e - x = \")\n",
    "print('\\n'.join([''.join(['{:4}'.format(round(item,4)) for item in [row]]) \n",
    "      for row in x_e - x]))"
   ]
  },
  {
   "cell_type": "markdown",
   "id": "b63e4111-78f2-4e60-b0ca-30c176821884",
   "metadata": {},
   "source": [
    "## (f)\n",
    "Explain the bad results by computing the condition number of $A$."
   ]
  },
  {
   "cell_type": "code",
   "execution_count": 49,
   "id": "4b53e4fa-77d3-4631-847a-6ec198bda173",
   "metadata": {
    "scrolled": true
   },
   "outputs": [
    {
     "name": "stdout",
     "output_type": "stream",
     "text": [
      "[1.1899408637533346e+20, 4.630781755132298e+19, 1.3138570455658948e+20]\n"
     ]
    }
   ],
   "source": [
    "condition = [la.norm(A, ord=x) * la.norm(la.inv(A), ord=x) for x in [1,2,np.inf]]\n",
    "print(condition)"
   ]
  },
  {
   "cell_type": "markdown",
   "id": "1b4bf294-40af-4285-850f-650ba466ae04",
   "metadata": {},
   "source": [
    "Write your answer, using $\\LaTeX$, in this box.\n",
    "\n",
    "TODO: Welk condition number willen we gebruiken en wat willen we er over zeggen?"
   ]
  },
  {
   "cell_type": "markdown",
   "id": "0e861009-6cb1-45ef-ab7c-c7dfbb50652e",
   "metadata": {},
   "source": [
    "# Exercise 2\n",
    "\n",
    "(N.B. this is a theory exercise.)\n",
    "Suppose we write a $(p+q) \\times (p+q)$ matrix $M$ in block form where\n",
    "$A, B, C, D$ are respectively $p \\times p, p \\times q, q \\times p$\n",
    "and $q \\times q$ matrices\n",
    "$$ M = \\begin{bmatrix} A & B \\\\ C & D  \\end{bmatrix}. $$"
   ]
  },
  {
   "cell_type": "markdown",
   "id": "83c83ef7-bce0-49c1-ab1a-0e419a740b6d",
   "metadata": {},
   "source": [
    "## (a)\n",
    "Verify that \n",
    "$$ \\begin{bmatrix} A & B \\\\ C & D \n",
    "    \\end{bmatrix} =\n",
    "    \\begin{bmatrix} I_p & 0 \\\\ C A^{-1} & I_q \n",
    "    \\end{bmatrix}\n",
    "    \\begin{bmatrix} A & 0\\\\ 0 & D - CA^{-1} B\n",
    "    \\end{bmatrix}\n",
    "    \\begin{bmatrix} I_p & A^{-1} B \\\\ 0 & I_q \n",
    "    \\end{bmatrix}. $$"
   ]
  },
  {
   "cell_type": "markdown",
   "id": "84ff623d-533a-46f7-8389-8ba004079ba6",
   "metadata": {},
   "source": [
    "\\begin{align}\n",
    "    \\begin{bmatrix} \n",
    "        I_p & 0 \\\\ \n",
    "        C A^{-1} & I_q \n",
    "    \\end{bmatrix}\n",
    "    \\begin{bmatrix} \n",
    "        A & 0\\\\ \n",
    "        0 & D - CA^{-1} B\n",
    "    \\end{bmatrix} \n",
    "    \\begin{bmatrix} \n",
    "        I_p & A^{-1} B \\\\ \n",
    "        0 & I_q \n",
    "    \\end{bmatrix} &= \n",
    "    \\begin{bmatrix} \n",
    "        I_p A + 0 \\cdot 0 & I_p \\cdot 0 + 0 \\cdot (D - CA^{-1}B) \\\\  \n",
    "        CA^{-1}A + I_q \\cdot 0 & CA^{-1} \\cdot 0 + I_q \\cdot (D - CA^{-1}B)\n",
    "    \\end{bmatrix}\n",
    "    \\begin{bmatrix}\n",
    "        I_p & A^{-1}B \\\\\n",
    "        0 & I_q\n",
    "    \\end{bmatrix} \\\\ &=\n",
    "    \\begin{bmatrix}\n",
    "        A & 0 \\\\\n",
    "        C & D - CA^{-1}B\n",
    "    \\end{bmatrix}\n",
    "    \\begin{bmatrix}\n",
    "        I_p & A^{-1}B \\\\\n",
    "        0 & I_q\n",
    "    \\end{bmatrix} \\\\ &=\n",
    "    \\begin{bmatrix}\n",
    "        A \\cdot I_p + 0 \\cdot 0 & AA^{-1}B + 0 \\cdot I_q \\\\\n",
    "        C \\cdot I_p + 0 \\cdot (D - CA^{-1}B) & CA^{-1}B + I_q(D - CA^{-1}B)\n",
    "    \\end{bmatrix} \\\\ &=\n",
    "    \\begin{bmatrix}\n",
    "        A & B \\\\\n",
    "        C & CA^{-1}B + D - CA^{-1}B\n",
    "    \\end{bmatrix} = \n",
    "    \\begin{bmatrix}\n",
    "        A & B \\\\\n",
    "        C & D\n",
    "    \\end{bmatrix}\n",
    "\\end{align}"
   ]
  },
  {
   "cell_type": "markdown",
   "id": "2a9d6c87-b0b4-4f0d-8d3f-3c870c9cc198",
   "metadata": {},
   "source": [
    "## (b)\n",
    "Describe how a system $M x = b$, with $x$ and $b$ in $\\mathbb{R}^{p+q}$,\n",
    "can be solved by applying matrix-vector products with $C$ and\n",
    "$B$ and solves with $A$ and $(D - CA^{-1}B)$."
   ]
  },
  {
   "cell_type": "markdown",
   "id": "47a5b7fa-faee-4814-b3f0-850f77b7f067",
   "metadata": {},
   "source": [
    "Write your answer, using $\\LaTeX$, in this box.\n",
    "\n",
    "Define $M_1, M_2$ and $M_3$ respectively as\n",
    "$$\\begin{bmatrix} I_p & 0 \\\\ C A^{-1} & I_q \n",
    "\\end{bmatrix}, \n",
    "\\begin{bmatrix} A & 0\\\\ 0 & D - CA^{-1} B\n",
    "\\end{bmatrix}, \n",
    "\\begin{bmatrix} I_p & A^{-1} B \\\\ 0 & I_q \n",
    "\\end{bmatrix}. $$\n",
    "\n",
    "Then for solving $Mx = b$ it is known that $x = M^{-1}b = (M_1M_2M_3)^{-1}b = M_3^{-1}M_2^{-1}M_1^{-1}b$. For the inverses of block matrices, it is equal to the matrix of the inverses of its blocks, i.e.:\n",
    "$$ M_1^{-1} = \n",
    "\\begin{bmatrix}\n",
    "    I_p & 0 \\\\\n",
    "    -CA^{-1} & I_q\n",
    "\\end{bmatrix} \\\\\n",
    "M_2^{-1} = \n",
    "\\begin{bmatrix}\n",
    "    A^{-1} & 0 \\\\\n",
    "    0 & (D - CA^{-1}B)^{-1}\n",
    "\\end{bmatrix} \\\\\n",
    "M_3^{-1} = \n",
    "\\begin{bmatrix}\n",
    "    I_p & -A^{-1}B \\\\\n",
    "    0 & I_q\n",
    "\\end{bmatrix}.$$\n",
    "\n",
    "This means that:\n",
    "$$ x =\n",
    "\\begin{bmatrix}\n",
    "    I_p & -A^{-1}B \\\\\n",
    "    0 & I_q\n",
    "\\end{bmatrix} \n",
    "\\begin{bmatrix}\n",
    "    A^{-1} & 0 \\\\\n",
    "    0 & (D - CA^{-1}B)^{-1}\n",
    "\\end{bmatrix}\n",
    "\\begin{bmatrix}\n",
    "    I_p & 0 \\\\\n",
    "    -CA^{-1} & I_q\n",
    "\\end{bmatrix} b \\\\ =\n",
    "\\begin{bmatrix}\n",
    "    I_p & -A^{-1}B \\\\\n",
    "    0 & I_q\n",
    "\\end{bmatrix}\n",
    "\\begin{bmatrix}\n",
    "    A^{-1}I_p & 0 \\\\\n",
    "    (D - CA^{-1}B)^{-1}(-CA^{-1}) & (D - CA^{-1}B)^{-1}I_q\n",
    "\\end{bmatrix} b \\\\ =\n",
    "\\begin{bmatrix}\n",
    "    A^{-1} & A^{-1}B(D - CA^{-1}B)^{-1}CA^{-1} \\\\\n",
    "    -(D - CA^{-1}B)^{-1}CA^{-1} & (D - CA^{-1}B)^{-1}\n",
    "\\end{bmatrix} b\n",
    "$$\n",
    "\n",
    "Also, $b$ can be defined as a block vector with length $p$ called $b_p$ and length $q$ called $b_q$, then this creates a formula that can be solved if you want to solve for $x$: (Willen we dit doen?)\n",
    "$$\n",
    "x = \n",
    "\\begin{bmatrix}\n",
    "    A^{-1} & A^{-1}B(D - CA^{-1}B)^{-1}CA^{-1} \\\\\n",
    "    -(D - CA^{-1}B)^{-1}CA^{-1} & (D - CA^{-1}B)^{-1}\n",
    "\\end{bmatrix} \n",
    "\\begin{bmatrix}\n",
    "    b_p \\\\\n",
    "    b_q\n",
    "\\end{bmatrix} \\\\ =\n",
    "\\begin{bmatrix}\n",
    "    A^{-1}b_p - A^{-1}B(D - CA^{-1}B)^{-1}CA^{-1}b_q \\\\\n",
    "    -(D - CA^{-1}B)^{-1}CA^{-1}b_p + (D - CA^{-1}B)^{-1}b_q\n",
    "\\end{bmatrix} \\\\ =\n",
    "\\begin{bmatrix}\n",
    "    A^{-1}(b_p - B(D - CA^{-1}B)^{-1}CA^{-1}b_q) \\\\\n",
    "    (D - CA^{-1}B)^{-1}(-CA^{-1}b_p + b_q)\n",
    "\\end{bmatrix}.\n",
    "$$"
   ]
  },
  {
   "cell_type": "markdown",
   "id": "e3c88a41-be49-43ed-8819-9b3084bd417e",
   "metadata": {},
   "source": [
    "## (c)\n",
    "What is the cost, to highest order, of LU-factorizing $A$ and of\n",
    "computing and LU-factorizing $D - CA^{-1} B$? "
   ]
  },
  {
   "cell_type": "markdown",
   "id": "68a32387-f372-4e72-a67b-48b9e89497b2",
   "metadata": {},
   "source": [
    "Write your answer, using $\\LaTeX$, in this box.\n",
    "\n",
    "$A = O(P^3)$\n",
    "\n",
    "$D - CA^{-1}B = O(p^2q)$ or $O(p^3)$"
   ]
  },
  {
   "cell_type": "markdown",
   "id": "f990d804-c6a0-41fd-a26e-2878b3ec68da",
   "metadata": {},
   "source": [
    "**Remark**: Although in this case no savings were obtained, the decomposition\n",
    "above is very useful for solving linear systems with many zero coefficients,\n",
    "in other words where $M$ is a sparse matrix. After applying a\n",
    "permutation of the indices such a matrix is written in the above\n",
    "form, where $q$ is as small as possible and $A$ is blockdiagonal,\n",
    "i.e. $A = \\begin{bmatrix} E & O \\\\ O & F \\end{bmatrix}$. This\n",
    "blockdiagonal form then causes big savings in computational\n",
    "cost. Moreover, the procedure can be applied recursively to $E$ and $F$."
   ]
  }
 ],
 "metadata": {
  "kernelspec": {
   "display_name": "Python 3",
   "language": "python",
   "name": "python3"
  },
  "language_info": {
   "codemirror_mode": {
    "name": "ipython",
    "version": 3
   },
   "file_extension": ".py",
   "mimetype": "text/x-python",
   "name": "python",
   "nbconvert_exporter": "python",
   "pygments_lexer": "ipython3",
   "version": "3.8.8"
  }
 },
 "nbformat": 4,
 "nbformat_minor": 5
}
