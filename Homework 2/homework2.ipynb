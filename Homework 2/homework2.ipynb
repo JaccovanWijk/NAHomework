{
 "cells": [
  {
   "cell_type": "markdown",
   "id": "e6991386-31db-4655-822b-21f41a064f0b",
   "metadata": {
    "nbgrader": {
     "grade": false,
     "grade_id": "cell-736ff6bc3e0d0696",
     "locked": true,
     "schema_version": 3,
     "solution": false,
     "task": false
    }
   },
   "source": [
    "# Homework Set 2\n",
    "\n",
    "Please **submit this Jupyter notebook through Canvas** no later than **Mon Nov. 15, 9:00**.\n",
    "\n",
    "Homework is in **groups of two**, and you are expected to hand in original work. Work that is copied from another group will not be accepted."
   ]
  },
  {
   "cell_type": "markdown",
   "id": "28e0cf7d-032f-4435-b4d6-a0ebe27ab051",
   "metadata": {
    "nbgrader": {
     "grade": false,
     "grade_id": "cell-b13bc5ed16bce8e0",
     "locked": true,
     "schema_version": 3,
     "solution": false,
     "task": false
    }
   },
   "source": [
    "# Exercise 0\n",
    "Write down the names + student ID of the people in your group.\n",
    "\n",
    "Florian Tiggeloven 11872802 <br /> \n",
    "Jacco van Wijk 11282479 <br />\n"
   ]
  },
  {
   "cell_type": "markdown",
   "id": "ed21bb3f-43a0-40b3-83bf-cf4a679370ea",
   "metadata": {
    "nbgrader": {
     "grade": false,
     "grade_id": "cell-b5a7855ecca9f6be",
     "locked": true,
     "schema_version": 3,
     "solution": false,
     "task": false
    }
   },
   "source": [
    "Run the following cell to import the necessary packages."
   ]
  },
  {
   "cell_type": "code",
   "execution_count": 1,
   "id": "f94d7728-fe51-45ac-903f-59c066161470",
   "metadata": {},
   "outputs": [],
   "source": [
    "import numpy as np\n",
    "import scipy.linalg as la\n",
    "import matplotlib.pyplot as plt\n",
    "import random"
   ]
  },
  {
   "cell_type": "markdown",
   "id": "aa14ad46-1797-4256-9ead-da2143c4118d",
   "metadata": {},
   "source": [
    "# Exercise 1\n",
    "\n",
    "The goal of this problem is to show that apparently harmless looking systems of linear equations may be very difficult to solve. Some functions that may be useful are `numpy.triu`, `numpy.tril`, `numpy.eye`, `random.randrange`.\n",
    "## (a)\n",
    "Generate an $n \\times n$ matrix $B$ with random integer elements in the range\n",
    "$b_{ij} \\in [-10, 10]$. Choose for instance $n=20$.\n"
   ]
  },
  {
   "cell_type": "code",
   "execution_count": 2,
   "id": "946ce5e1-4d17-48ab-9992-836ac9e76794",
   "metadata": {},
   "outputs": [
    {
     "name": "stdout",
     "output_type": "stream",
     "text": [
      "   0   5   0   5   5   6   8  -7  -6  -9   2  -4   1  -4   6   7  -8   8   5   6\n",
      "   6  -2  -9   7   9 -10  -4  -4  -9  -6  -7 -10   6   4  -3  -3  -2   8   7  -8\n",
      "   4   7   8  -2  -2   5  -5  -8  -4   2  -8   9  -3  -3   8   0   7  -9  -9   6\n",
      "   7   2   7   0   4   5   7  -4   9  -2   8  -6 -10   2  -9   1   5   3   7   0\n",
      "  -1   2   4 -10  -5  -4  -7   6  -3  -9   9   2  -4   1   1   6  -9  -1   5  -2\n",
      "  -3  -3  -7   8  -2   8   4  -4  -2   4   8  -5   8   6  -1 -10   4   9   8  -2\n",
      "   4   9 -10   0  -3  -8   1  -4   3   1   8  -2   8  -3  -2   9  -3  -3  -1 -10\n",
      "   5 -10  -6  -8   9   2   8   2 -10  -3   2  -4   3   1   3  -4 -10  -6  -5  -5\n",
      "  -6  -7  -4  -2   9  -7   1   1 -10  -7 -10   1   4  -4   5   4   5   2  -8 -10\n",
      "   5   2  -7   0  -9  -6   0   9   6 -10   4  -9   8   5  -2   7   2  -6   5   6\n",
      "  -7   8   5   1  -3   1   2  -9   3  -3  -7   6   8   6  -3   2   6  -7 -10  -2\n",
      "   8   8   4  -4   5  -4  -9   2   1  -5  -9  -1  -1   9   2   1  -7  -1  -7  -6\n",
      "   1  -4   0  -8  -9  -5  -8  -4   4   1  -2  -4  -2  -4  -9   6  -5   5   4  -1\n",
      "  -7  -9  -1   9   8  -9  -3   9   9  -9  -6  -2  -7  -4  -5  -7  -8   6   0   1\n",
      "  -9   6   4   7  -9  -4 -10  -6  -4   4  -2   2   7   2   0  -2  -6   4   5   9\n",
      "   3  -2   5   8   1   1   9 -10  -8  -3  -6   7 -10  -7   0   3  -8  -4   2  -7\n",
      "  -3   2  -3   7  -4  -6  -8  -4   3  -7   5   1   0   0 -10 -10  -2   0  -6  -5\n",
      "   7  -7   4  -2   2   0   7  -8  -3   4  -3  -4  -3   1  -1   2   6   7  -6  -1\n",
      "  -7   5   5   4  -4 -10  -7   2   3  -2   7   5   8 -10   7  -7  -9   0  -1   6\n",
      "   4  -5  -4   5  -5  -2   7  -6 -10   7   6  -7   9  -8   4  -2   5  -3   6  -6\n"
     ]
    }
   ],
   "source": [
    "n = 20\n",
    "b_min = -10\n",
    "b_max = 10\n",
    "B = np.random.randint(b_max - b_min, size=(n,n)) + b_min\n",
    "\n",
    "print('\\n'.join([''.join(['{:4}'.format(item) for item in row]) \n",
    "      for row in B]))"
   ]
  },
  {
   "cell_type": "markdown",
   "id": "230a0f2e-5887-4047-9ede-887d02dea5a1",
   "metadata": {},
   "source": [
    "## (b)\n",
    "Remove the diagonal of $B$, save the upper triangular part in $U$ and the lower triangular part in $L$, and put ones on the diagonals $l_{ii} = u_{ii} = 1$."
   ]
  },
  {
   "cell_type": "code",
   "execution_count": 3,
   "id": "299a4cf2-677a-4b27-91c1-f731801a74a6",
   "metadata": {},
   "outputs": [
    {
     "name": "stdout",
     "output_type": "stream",
     "text": [
      "U = \n",
      "   1   5   0   5   5   6   8  -7  -6  -9   2  -4   1  -4   6   7  -8   8   5   6\n",
      "   0   1  -9   7   9 -10  -4  -4  -9  -6  -7 -10   6   4  -3  -3  -2   8   7  -8\n",
      "   0   0   1  -2  -2   5  -5  -8  -4   2  -8   9  -3  -3   8   0   7  -9  -9   6\n",
      "   0   0   0   1   4   5   7  -4   9  -2   8  -6 -10   2  -9   1   5   3   7   0\n",
      "   0   0   0   0   1  -4  -7   6  -3  -9   9   2  -4   1   1   6  -9  -1   5  -2\n",
      "   0   0   0   0   0   1   4  -4  -2   4   8  -5   8   6  -1 -10   4   9   8  -2\n",
      "   0   0   0   0   0   0   1  -4   3   1   8  -2   8  -3  -2   9  -3  -3  -1 -10\n",
      "   0   0   0   0   0   0   0   1 -10  -3   2  -4   3   1   3  -4 -10  -6  -5  -5\n",
      "   0   0   0   0   0   0   0   0   1  -7 -10   1   4  -4   5   4   5   2  -8 -10\n",
      "   0   0   0   0   0   0   0   0   0   1   4  -9   8   5  -2   7   2  -6   5   6\n",
      "   0   0   0   0   0   0   0   0   0   0   1   6   8   6  -3   2   6  -7 -10  -2\n",
      "   0   0   0   0   0   0   0   0   0   0   0   1  -1   9   2   1  -7  -1  -7  -6\n",
      "   0   0   0   0   0   0   0   0   0   0   0   0   1  -4  -9   6  -5   5   4  -1\n",
      "   0   0   0   0   0   0   0   0   0   0   0   0   0   1  -5  -7  -8   6   0   1\n",
      "   0   0   0   0   0   0   0   0   0   0   0   0   0   0   1  -2  -6   4   5   9\n",
      "   0   0   0   0   0   0   0   0   0   0   0   0   0   0   0   1  -8  -4   2  -7\n",
      "   0   0   0   0   0   0   0   0   0   0   0   0   0   0   0   0   1   0  -6  -5\n",
      "   0   0   0   0   0   0   0   0   0   0   0   0   0   0   0   0   0   1  -6  -1\n",
      "   0   0   0   0   0   0   0   0   0   0   0   0   0   0   0   0   0   0   1   6\n",
      "   0   0   0   0   0   0   0   0   0   0   0   0   0   0   0   0   0   0   0   1\n",
      "\n",
      "L = \n",
      "   1   0   0   0   0   0   0   0   0   0   0   0   0   0   0   0   0   0   0   0\n",
      "   6   1   0   0   0   0   0   0   0   0   0   0   0   0   0   0   0   0   0   0\n",
      "   4   7   1   0   0   0   0   0   0   0   0   0   0   0   0   0   0   0   0   0\n",
      "   7   2   7   1   0   0   0   0   0   0   0   0   0   0   0   0   0   0   0   0\n",
      "  -1   2   4 -10   1   0   0   0   0   0   0   0   0   0   0   0   0   0   0   0\n",
      "  -3  -3  -7   8  -2   1   0   0   0   0   0   0   0   0   0   0   0   0   0   0\n",
      "   4   9 -10   0  -3  -8   1   0   0   0   0   0   0   0   0   0   0   0   0   0\n",
      "   5 -10  -6  -8   9   2   8   1   0   0   0   0   0   0   0   0   0   0   0   0\n",
      "  -6  -7  -4  -2   9  -7   1   1   1   0   0   0   0   0   0   0   0   0   0   0\n",
      "   5   2  -7   0  -9  -6   0   9   6   1   0   0   0   0   0   0   0   0   0   0\n",
      "  -7   8   5   1  -3   1   2  -9   3  -3   1   0   0   0   0   0   0   0   0   0\n",
      "   8   8   4  -4   5  -4  -9   2   1  -5  -9   1   0   0   0   0   0   0   0   0\n",
      "   1  -4   0  -8  -9  -5  -8  -4   4   1  -2  -4   1   0   0   0   0   0   0   0\n",
      "  -7  -9  -1   9   8  -9  -3   9   9  -9  -6  -2  -7   1   0   0   0   0   0   0\n",
      "  -9   6   4   7  -9  -4 -10  -6  -4   4  -2   2   7   2   1   0   0   0   0   0\n",
      "   3  -2   5   8   1   1   9 -10  -8  -3  -6   7 -10  -7   0   1   0   0   0   0\n",
      "  -3   2  -3   7  -4  -6  -8  -4   3  -7   5   1   0   0 -10 -10   1   0   0   0\n",
      "   7  -7   4  -2   2   0   7  -8  -3   4  -3  -4  -3   1  -1   2   6   1   0   0\n",
      "  -7   5   5   4  -4 -10  -7   2   3  -2   7   5   8 -10   7  -7  -9   0   1   0\n",
      "   4  -5  -4   5  -5  -2   7  -6 -10   7   6  -7   9  -8   4  -2   5  -3   6   1\n"
     ]
    }
   ],
   "source": [
    "# Remove diagonal\n",
    "np.fill_diagonal(B, 0)\n",
    "\n",
    "# Create U and L\n",
    "U = np.triu(B) + np.eye(n)\n",
    "L = np.tril(B) + np.eye(n)\n",
    "\n",
    "# Print U and L\n",
    "print(\"U = \")\n",
    "print('\\n'.join([''.join(['{:4}'.format(round(item)) for item in row]) \n",
    "      for row in U]), end=\"\\n\\n\")\n",
    "print(\"L = \")\n",
    "print('\\n'.join([''.join(['{:4}'.format(round(item)) for item in row]) \n",
    "      for row in L]))"
   ]
  },
  {
   "cell_type": "markdown",
   "id": "53b14e0f-f9e0-48c6-b192-e0f8026bd99b",
   "metadata": {},
   "source": [
    "## (c)\n",
    "Compute $A = L \\cdot U$. What is the value of $\\det(A)$ and why? Compute the determinant using the appropriate python command and confirm your prediction. In case that you have doubts about the result, compute separately $\\det(L)$ and $\\det(U)$."
   ]
  },
  {
   "cell_type": "code",
   "execution_count": 4,
   "id": "6003d83b-cbd3-4078-b6eb-220a1550c6c1",
   "metadata": {},
   "outputs": [
    {
     "name": "stdout",
     "output_type": "stream",
     "text": [
      "A = \n",
      "   1   5   0   5   5   6   8  -7  -6  -9   2  -4   1  -4   6   7  -8   8   5   6\n",
      "   6  31  -9  37  39  26  44 -46 -45 -60   5 -34  12 -20  33  39 -50  56  37  28\n",
      "   4  27 -62  67  81 -41  -1 -64 -91 -76 -49 -77  43   9  11   7 -39  79  60 -26\n",
      "   7  37 -11  36  43  62  20-117 -79 -63 -48   9 -12 -39  83  44  -6  12  -7  68\n",
      "  -1  -3 -14  -9 -34 -60-113  13-121  16-119  82  95 -19 111 -17 -27 -59 -92   0\n",
      "  -3 -18  20 -14   2  26  97  41 149  37 125 -78 -64  41-140 -26  43  50  81 -34\n",
      "   4  29 -91 103 118-112  36  26 -37-114 -58-164  44  -4 -80  72-128 122  93 -96\n",
      "   5  15  84 -41 -76  26   7 100  -5 -49 227  62  90 -60  78 159-209 -31   1 -33\n",
      "  -6 -37  59 -73 -84 -39-104 189  78 -26  78 118 -93 -35  -7 110 -93-153 -82 -33\n",
      "   5  27 -25  53  48   5 106  -8 -65 -82-115-130  85 -46  20  30 -94  26 -79 -97\n",
      "  -7 -27 -67  12  28 -79 -79 -66  65  59-164  44  21  14 -52 -53 210  43 -30 -97\n",
      "   8  48 -68  84  93 -56 -76 -20-225-192-198 -19-143 -84 169 -39-192 148  74  58\n",
      "   1   1  36 -31 -72  37   3  35  15  69-265 102 -10-118  97 -28 118 -11-111 159\n",
      "  -7 -44  80 -87 -70  47 -47 162 112-113  -9 138-338-121  81 -28 -45-139-171-101\n",
      "  -9 -39 -50  -4  20 -27 -30 -25 108 144-187 -34-144  69-196-118 183  31  64 138\n",
      "   3  13  23  -1  20 100  69-129 166  66 175  14-179  28  67  84  90 -31  88  48\n",
      "  -3 -13 -21  12  33  -8  28  37 118 -17-149  74-165  15 -99 -56 275  50-157 -45\n",
      "   7  28  67 -24 -42 114  43 -69  79  29 116  51  -6-108  76 160  23 -42  26 122\n",
      "  -7 -30 -40  -6  12 -41 -92  19   7  -5-256 115 -91  23 -34  59 161-126-151  95\n",
      "   4  15  41  -2  -2  97 141 -52 172 115 232 -66  58 -54-206 239 116 -34 188 234\n",
      "5112322.980174853\n",
      "0.999987291695321 1.0\n"
     ]
    }
   ],
   "source": [
    "# Compute A = L * U\n",
    "A = L.dot(U)\n",
    "\n",
    "# Print A\n",
    "print('A = ')\n",
    "print('\\n'.join([''.join(['{:4}'.format(round(item)) for item in row]) \n",
    "      for row in A]))\n",
    "\n",
    "print(np.linalg.det(A))\n",
    "print(np.linalg.det(L), np.linalg.det(U))"
   ]
  },
  {
   "cell_type": "markdown",
   "id": "4c5d732a",
   "metadata": {},
   "source": [
    "The determinants calculated between A, U and L are vastly different where normally $det(XY) = det(X)det(Y)$ for any $n \\times n$ matrices $X$ and $Y$. Therefore, it can be concluded that the small errors of each element in matrix $A$ creates a big error for the total multiplication of the determinant. This hints to the fact that the condition number for this matrix is very high, which will be further explained in section f)."
   ]
  },
  {
   "cell_type": "markdown",
   "id": "9aa377cc-d913-46ca-a625-30e3ec7c91fb",
   "metadata": {},
   "source": [
    "## (d)\n",
    "Choose now an exact solution, for instance $x_{\\rm e} =$ `numpy.ones(n)`, and compute the corresponding right hand side $b = A x_{\\rm e}$.\n"
   ]
  },
  {
   "cell_type": "code",
   "execution_count": 5,
   "id": "36dac949-ae76-4fb1-8060-921d010a1558",
   "metadata": {},
   "outputs": [
    {
     "name": "stdout",
     "output_type": "stream",
     "text": [
      "b = \n",
      "  27\n",
      " 129\n",
      "-138\n",
      "  39\n",
      "-371\n",
      " 335\n",
      "-237\n",
      " 350\n",
      "-233\n",
      "-336\n",
      "-225\n",
      "-630\n",
      "  27\n",
      "-700\n",
      "-106\n",
      " 714\n",
      " -91\n",
      " 650\n",
      "-388\n",
      "1236\n"
     ]
    }
   ],
   "source": [
    "# Create x_e and compute A * x_e\n",
    "x_e = np.ones(n)\n",
    "b = A.dot(x_e)\n",
    "\n",
    "# Print b\n",
    "print(\"b = \")\n",
    "print('\\n'.join([''.join(['{:4}'.format(round(item)) for item in [row]]) \n",
    "      for row in b]))"
   ]
  },
  {
   "cell_type": "markdown",
   "id": "fc0577fd-9510-4e73-8d1c-5b738885ad27",
   "metadata": {},
   "source": [
    "## (e)\n",
    "Solve $A x = b$ using `scipy.linalg.lu_factor` and `scipy.linalg.lu_solve` and compare the solution with the exact $x_{\\rm e}$. "
   ]
  },
  {
   "cell_type": "code",
   "execution_count": 6,
   "id": "ce517576-e784-4d67-9e88-94bcb295fcbd",
   "metadata": {},
   "outputs": [
    {
     "name": "stdout",
     "output_type": "stream",
     "text": [
      "x = \n",
      "-290.8079\n",
      "56.5383\n",
      "9.7206\n",
      "4.7978\n",
      "0.2911\n",
      "0.6628\n",
      "1.1175\n",
      "1.032\n",
      "1.0031\n",
      "1.0002\n",
      "1.0002\n",
      " 1.0\n",
      " 1.0\n",
      " 1.0\n",
      " 1.0\n",
      " 1.0\n",
      " 1.0\n",
      " 1.0\n",
      " 1.0\n",
      " 1.0\n",
      "\n",
      "x_e = \n",
      " 1.0\n",
      " 1.0\n",
      " 1.0\n",
      " 1.0\n",
      " 1.0\n",
      " 1.0\n",
      " 1.0\n",
      " 1.0\n",
      " 1.0\n",
      " 1.0\n",
      " 1.0\n",
      " 1.0\n",
      " 1.0\n",
      " 1.0\n",
      " 1.0\n",
      " 1.0\n",
      " 1.0\n",
      " 1.0\n",
      " 1.0\n",
      " 1.0\n",
      "\n",
      "x_e - x = \n",
      "291.8079\n",
      "-55.5383\n",
      "-8.7206\n",
      "-3.7978\n",
      "0.7089\n",
      "0.3372\n",
      "-0.1175\n",
      "-0.032\n",
      "-0.0031\n",
      "-0.0002\n",
      "-0.0002\n",
      "-0.0\n",
      " 0.0\n",
      " 0.0\n",
      " 0.0\n",
      " 0.0\n",
      " 0.0\n",
      " 0.0\n",
      " 0.0\n",
      "-0.0\n"
     ]
    }
   ],
   "source": [
    "# Compute L and U using lu_factor and compute x with lu_solve\n",
    "lu, piv = la.lu_factor(A)\n",
    "x = la.lu_solve((lu, piv), b)\n",
    "\n",
    "print(\"x = \")\n",
    "print('\\n'.join([''.join(['{:4}'.format(round(item,4)) for item in [row]]) \n",
    "      for row in x]), end=\"\\n\\n\")\n",
    "\n",
    "print(\"x_e = \")\n",
    "print('\\n'.join([''.join(['{:4}'.format(round(item,4)) for item in [row]]) \n",
    "      for row in x_e]), end=\"\\n\\n\")\n",
    "\n",
    "print(\"x_e - x = \")\n",
    "print('\\n'.join([''.join(['{:4}'.format(round(item,4)) for item in [row]]) \n",
    "      for row in x_e - x]))"
   ]
  },
  {
   "cell_type": "markdown",
   "id": "42bf4778",
   "metadata": {},
   "source": [
    "The difference $x_{e} - x$ illustrates the difference between every element of the vector. The lower elements are very similar, with differences only being small. However, the higher up the vector, the higher the differences, with the highest difference reaching 2606. This is extremely significant."
   ]
  },
  {
   "cell_type": "markdown",
   "id": "b63e4111-78f2-4e60-b0ca-30c176821884",
   "metadata": {},
   "source": [
    "## (f)\n",
    "Explain the bad results by computing the condition number of $A$."
   ]
  },
  {
   "cell_type": "code",
   "execution_count": 7,
   "id": "4b53e4fa-77d3-4631-847a-6ec198bda173",
   "metadata": {},
   "outputs": [
    {
     "name": "stdout",
     "output_type": "stream",
     "text": [
      "[8.083777374926507e+19, 2.3358311624204534e+19, 6.3514050354154095e+19]\n"
     ]
    }
   ],
   "source": [
    "condition = [la.norm(A, ord=x) * la.norm(la.inv(A), ord=x) for x in [1,2,np.inf]]\n",
    "print(condition)"
   ]
  },
  {
   "cell_type": "markdown",
   "id": "1b4bf294-40af-4285-850f-650ba466ae04",
   "metadata": {},
   "source": [
    "The condition number describes the amount of difference between input error and output error. Therefore, if a function has a very high condition number, you can conclude that from small input errors, large output errors arise. This result is observed in section c) and d) with differences being very significant. This is no surprise however, since  the condition number calculated above reaches e+20."
   ]
  },
  {
   "cell_type": "markdown",
   "id": "0e861009-6cb1-45ef-ab7c-c7dfbb50652e",
   "metadata": {},
   "source": [
    "# Exercise 2\n",
    "\n",
    "(N.B. this is a theory exercise.)\n",
    "Suppose we write a $(p+q) \\times (p+q)$ matrix $M$ in block form where\n",
    "$A, B, C, D$ are respectively $p \\times p, p \\times q, q \\times p$\n",
    "and $q \\times q$ matrices\n",
    "$$ M = \\begin{bmatrix} A & B \\\\ C & D  \\end{bmatrix}. $$"
   ]
  },
  {
   "cell_type": "markdown",
   "id": "83c83ef7-bce0-49c1-ab1a-0e419a740b6d",
   "metadata": {},
   "source": [
    "## (a)\n",
    "Verify that \n",
    "$$ \\begin{bmatrix} A & B \\\\ C & D \n",
    "    \\end{bmatrix} =\n",
    "    \\begin{bmatrix} I_p & 0 \\\\ C A^{-1} & I_q \n",
    "    \\end{bmatrix}\n",
    "    \\begin{bmatrix} A & 0\\\\ 0 & D - CA^{-1} B\n",
    "    \\end{bmatrix}\n",
    "    \\begin{bmatrix} I_p & A^{-1} B \\\\ 0 & I_q \n",
    "    \\end{bmatrix}. $$"
   ]
  },
  {
   "cell_type": "markdown",
   "id": "84ff623d-533a-46f7-8389-8ba004079ba6",
   "metadata": {},
   "source": [
    "\\begin{align}\n",
    "    \\begin{bmatrix} \n",
    "        I_p & 0 \\\\ \n",
    "        C A^{-1} & I_q \n",
    "    \\end{bmatrix}&\n",
    "    \\begin{bmatrix} \n",
    "        A & 0\\\\ \n",
    "        0 & D - CA^{-1} B\n",
    "    \\end{bmatrix}\n",
    "    \\begin{bmatrix} \n",
    "        I_p & A^{-1} B \\\\ \n",
    "        0 & I_q \n",
    "    \\end{bmatrix} \\\\ =& \n",
    "    \\begin{bmatrix} \n",
    "        I_p A + 0 \\cdot 0 & I_p \\cdot 0 + 0 \\cdot (D - CA^{-1}B) \\\\  \n",
    "        CA^{-1}A + I_q \\cdot 0 & CA^{-1} \\cdot 0 + I_q \\cdot (D - CA^{-1}B)\n",
    "    \\end{bmatrix}\n",
    "    \\begin{bmatrix}\n",
    "        I_p & A^{-1}B \\\\\n",
    "        0 & I_q\n",
    "    \\end{bmatrix} \\\\ =&\n",
    "    \\begin{bmatrix}\n",
    "        A & 0 \\\\\n",
    "        C & D - CA^{-1}B\n",
    "    \\end{bmatrix}\n",
    "    \\begin{bmatrix}\n",
    "        I_p & A^{-1}B \\\\\n",
    "        0 & I_q\n",
    "    \\end{bmatrix} \\\\ =&\n",
    "    \\begin{bmatrix}\n",
    "        A \\cdot I_p + 0 \\cdot 0 & AA^{-1}B + 0 \\cdot I_q \\\\\n",
    "        C \\cdot I_p + 0 \\cdot (D - CA^{-1}B) & CA^{-1}B + I_q(D - CA^{-1}B)\n",
    "    \\end{bmatrix} \\\\ =&\n",
    "    \\begin{bmatrix}\n",
    "        A & B \\\\\n",
    "        C & CA^{-1}B + D - CA^{-1}B\n",
    "    \\end{bmatrix} = \n",
    "    \\begin{bmatrix}\n",
    "        A & B \\\\\n",
    "        C & D\n",
    "    \\end{bmatrix}\n",
    "\\end{align}"
   ]
  },
  {
   "cell_type": "markdown",
   "id": "2a9d6c87-b0b4-4f0d-8d3f-3c870c9cc198",
   "metadata": {},
   "source": [
    "## (b)\n",
    "Describe how a system $M x = b$, with $x$ and $b$ in $\\mathbb{R}^{p+q}$,\n",
    "can be solved by applying matrix-vector products with $C$ and\n",
    "$B$ and solves with $A$ and $(D - CA^{-1}B)$."
   ]
  },
  {
   "cell_type": "markdown",
   "id": "47a5b7fa-faee-4814-b3f0-850f77b7f067",
   "metadata": {},
   "source": [
    "Write your answer, using $\\LaTeX$, in this box.\n",
    "\n",
    "Define $M_1, M_2$ and $M_3$ as\n",
    "\\begin{align}\n",
    "    M_1 =& \\begin{bmatrix} I_p & 0 \\\\ C A^{-1} & I_q \n",
    "    \\end{bmatrix} \\\\\n",
    "    M_2 =& \\begin{bmatrix} A & 0\\\\ 0 & D - CA^{-1} B\n",
    "    \\end{bmatrix} \\\\\n",
    "    M_3 =& \\begin{bmatrix} I_p & A^{-1} B \\\\ 0 & I_q \n",
    "    \\end{bmatrix}\n",
    "\\end{align}\n",
    "\n",
    "Then for solving $Mx = b$ it is known that $x = M^{-1}b = (M_1M_2M_3)^{-1}b = M_3^{-1}M_2^{-1}M_1^{-1}b$. For the inverses of block matrices, it is equal to the matrix of the inverses of its blocks, i.e.:\n",
    "\\begin{align}\n",
    "    M_1^{-1} =& \n",
    "    \\begin{bmatrix}\n",
    "        I_p & 0 \\\\\n",
    "        -CA^{-1} & I_q\n",
    "    \\end{bmatrix} \\\\\n",
    "    M_2^{-1} =&\n",
    "    \\begin{bmatrix}\n",
    "        A^{-1} & 0 \\\\\n",
    "        0 & (D - CA^{-1}B)^{-1}\n",
    "    \\end{bmatrix} \\\\\n",
    "    M_3^{-1} =& \n",
    "    \\begin{bmatrix}\n",
    "        I_p & -A^{-1}B \\\\\n",
    "        0 & I_q\n",
    "    \\end{bmatrix}.\n",
    "\\end{align}\n",
    "\n",
    "This means that:\n",
    "\\begin{align} x =\n",
    "    \\begin{bmatrix}\n",
    "        I_p & -A^{-1}B \\\\\n",
    "        0 & I_q\n",
    "    \\end{bmatrix} \n",
    "    \\begin{bmatrix}\n",
    "        A^{-1} & 0 \\\\\n",
    "        0 & (D - CA^{-1}B)^{-1}\n",
    "    \\end{bmatrix}\n",
    "    \\begin{bmatrix}\n",
    "        I_p & 0 \\\\\n",
    "        -CA^{-1} & I_q\n",
    "    \\end{bmatrix} b \\\\ =\n",
    "    \\begin{bmatrix}\n",
    "        I_p & -A^{-1}B \\\\\n",
    "        0 & I_q\n",
    "    \\end{bmatrix}\n",
    "    \\begin{bmatrix}\n",
    "        A^{-1}I_p & 0 \\\\\n",
    "        (D - CA^{-1}B)^{-1}(-CA^{-1}) & (D - CA^{-1}B)^{-1}I_q\n",
    "    \\end{bmatrix} b \\\\ =\n",
    "    \\begin{bmatrix}\n",
    "        A^{-1} & A^{-1}B(D - CA^{-1}B)^{-1}CA^{-1} \\\\\n",
    "        -(D - CA^{-1}B)^{-1}CA^{-1} & (D - CA^{-1}B)^{-1}\n",
    "    \\end{bmatrix} b\n",
    "\\end{align}\n",
    "\n",
    "Also, $b$ can be defined as a block vector with length $p$ called $b_p$ and length $q$ called $b_q$, then this creates a formula that can be solved if you want to solve for $x$: (Willen we dit doen?)\n",
    "$$\n",
    "x = \n",
    "\\begin{bmatrix}\n",
    "    A^{-1} & A^{-1}B(D - CA^{-1}B)^{-1}CA^{-1} \\\\\n",
    "    -(D - CA^{-1}B)^{-1}CA^{-1} & (D - CA^{-1}B)^{-1}\n",
    "\\end{bmatrix} \n",
    "\\begin{bmatrix}\n",
    "    b_p \\\\\n",
    "    b_q\n",
    "\\end{bmatrix} \\\\ =\n",
    "\\begin{bmatrix}\n",
    "    A^{-1}b_p - A^{-1}B(D - CA^{-1}B)^{-1}CA^{-1}b_q \\\\\n",
    "    -(D - CA^{-1}B)^{-1}CA^{-1}b_p + (D - CA^{-1}B)^{-1}b_q\n",
    "\\end{bmatrix} \\\\ =\n",
    "\\begin{bmatrix}\n",
    "    A^{-1}(b_p - B(D - CA^{-1}B)^{-1}CA^{-1}b_q) \\\\\n",
    "    (D - CA^{-1}B)^{-1}(-CA^{-1}b_p + b_q)\n",
    "\\end{bmatrix}.\n",
    "$$"
   ]
  },
  {
   "cell_type": "markdown",
   "id": "e3c88a41-be49-43ed-8819-9b3084bd417e",
   "metadata": {},
   "source": [
    "## (c)\n",
    "What is the cost, to highest order, of LU-factorizing $A$ and of\n",
    "computing and LU-factorizing $D - CA^{-1} B$? "
   ]
  },
  {
   "cell_type": "markdown",
   "id": "68a32387-f372-4e72-a67b-48b9e89497b2",
   "metadata": {},
   "source": [
    "Because $A$ is a $p \\times p$ matrix, creating all zeros outside of the diagonal in the first column takes $p - 1$ operations. For the second column this takes $p - 2$ operations, the third column $p - 3$ operations, etc. This creates the lower triangular matrix $L$ and its cost is $O(p)$. Similarly for $U$, but in the opisite direction which does not change the cost, you get a cost of $O(p)$ again. To factorize these is also $O(p)$ which means that the cost of $LU$-factorizing $A$ is $O(p * p * p) = O(P^3)$.\n",
    "\n",
    "The matrix $D$ has size $q \\times q$, $C$ has size $q \\times p$, $A^{-1}$ has size $p \\times p$ and $B$ has size $p \\times q$. This means that computing $A^{-1}$ has a cost of $O(p^3)$, computing $CA^{-1}$, $q$ rows with $p$ elements are multiplied, making its cost $O(p^2q)$. Multiplying that by $B$ has cost $O(p^2q)$ and subtracting $D$ by that has a cost of $O(q)$. This means that computing $D - CA^{-1} B$ has a cost of $O(p^3) + O(pq) + O(pq) + O(q) = O(p^3)$. Now with the same logic as for $LU$-factorizing $A$ and the knowledge that $D - CA^{-1} B$ has a size of $q \\times q$ the cost of $LU$-factorizing $D - CA^{-1} B$ is $O(q^3)$. The total cost of computing and $LU$-factorizing $D - CA^{-1} B$ is $O(q^3) + O(p^3)$ which depends on which of $p$ and $q$ is larger, i.e. if $p > q$ the cost is $O(p^3)$, if $p < q$ the cost is $O(q^3)$ (if $p$ and $q$ are equal it does not matter).  "
   ]
  },
  {
   "cell_type": "markdown",
   "id": "f990d804-c6a0-41fd-a26e-2878b3ec68da",
   "metadata": {},
   "source": [
    "**Remark**: Although in this case no savings were obtained, the decomposition\n",
    "above is very useful for solving linear systems with many zero coefficients,\n",
    "in other words where $M$ is a sparse matrix. After applying a\n",
    "permutation of the indices such a matrix is written in the above\n",
    "form, where $q$ is as small as possible and $A$ is blockdiagonal,\n",
    "i.e. $A = \\begin{bmatrix} E & O \\\\ O & F \\end{bmatrix}$. This\n",
    "blockdiagonal form then causes big savings in computational\n",
    "cost. Moreover, the procedure can be applied recursively to $E$ and $F$."
   ]
  }
 ],
 "metadata": {
  "kernelspec": {
   "display_name": "Python 3",
   "language": "python",
   "name": "python3"
  },
  "language_info": {
   "codemirror_mode": {
    "name": "ipython",
    "version": 3
   },
   "file_extension": ".py",
   "mimetype": "text/x-python",
   "name": "python",
   "nbconvert_exporter": "python",
   "pygments_lexer": "ipython3",
   "version": "3.8.8"
  }
 },
 "nbformat": 4,
 "nbformat_minor": 5
}
