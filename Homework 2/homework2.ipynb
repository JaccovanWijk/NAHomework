{
 "cells": [
  {
   "cell_type": "markdown",
   "id": "e6991386-31db-4655-822b-21f41a064f0b",
   "metadata": {
    "nbgrader": {
     "grade": false,
     "grade_id": "cell-736ff6bc3e0d0696",
     "locked": true,
     "schema_version": 3,
     "solution": false,
     "task": false
    }
   },
   "source": [
    "# Homework Set 2\n",
    "\n",
    "Please **submit this Jupyter notebook through Canvas** no later than **Mon Nov. 15, 9:00**.\n",
    "\n",
    "Homework is in **groups of two**, and you are expected to hand in original work. Work that is copied from another group will not be accepted."
   ]
  },
  {
   "cell_type": "markdown",
   "id": "28e0cf7d-032f-4435-b4d6-a0ebe27ab051",
   "metadata": {
    "nbgrader": {
     "grade": false,
     "grade_id": "cell-b13bc5ed16bce8e0",
     "locked": true,
     "schema_version": 3,
     "solution": false,
     "task": false
    }
   },
   "source": [
    "# Exercise 0\n",
    "Write down the names + student ID of the people in your group.\n",
    "\n",
    "Florian Tiggeloven 11872802 <br /> \n",
    "Jacco van Wijk 11282479 <br />\n"
   ]
  },
  {
   "cell_type": "markdown",
   "id": "ed90a614-072a-48eb-9297-d8eaf8e5183f",
   "metadata": {
    "nbgrader": {
     "grade": true,
     "grade_id": "cell-fd464f55ba436b1c",
     "locked": false,
     "points": 0,
     "schema_version": 3,
     "solution": true,
     "task": false
    }
   },
   "source": [
    "Write your answer, using $\\LaTeX$, in this box."
   ]
  },
  {
   "cell_type": "markdown",
   "id": "ed21bb3f-43a0-40b3-83bf-cf4a679370ea",
   "metadata": {
    "nbgrader": {
     "grade": false,
     "grade_id": "cell-b5a7855ecca9f6be",
     "locked": true,
     "schema_version": 3,
     "solution": false,
     "task": false
    }
   },
   "source": [
    "Run the following cell to import the necessary packages."
   ]
  },
  {
   "cell_type": "code",
   "execution_count": 1,
   "id": "f94d7728-fe51-45ac-903f-59c066161470",
   "metadata": {},
   "outputs": [],
   "source": [
    "import numpy as np\n",
    "import scipy.linalg as la\n",
    "import matplotlib.pyplot as plt\n",
    "import random"
   ]
  },
  {
   "cell_type": "markdown",
   "id": "aa14ad46-1797-4256-9ead-da2143c4118d",
   "metadata": {},
   "source": [
    "# Exercise 1\n",
    "\n",
    "The goal of this problem is to show that apparently harmless looking systems of linear equations may be very difficult to solve. Some functions that may be useful are `numpy.triu`, `numpy.tril`, `numpy.eye`, `random.randrange`.\n",
    "## (a)\n",
    "Generate an $n \\times n$ matrix $B$ with random integer elements in the range\n",
    "$b_{ij} \\in [-10, 10]$. Choose for instance $n=20$.\n"
   ]
  },
  {
   "cell_type": "code",
   "execution_count": 2,
   "id": "946ce5e1-4d17-48ab-9992-836ac9e76794",
   "metadata": {},
   "outputs": [
    {
     "name": "stdout",
     "output_type": "stream",
     "text": [
      "   2   4   8  -9   2  -2   6  -2   2  -1   8   7  -8  -9   3   6  -4  -6   2   3\n",
      "   1  -1  -5  -4  -5   3   7 -10   6   6   4   9   1  -4  -9   4  -1  -4  -4  -3\n",
      "   9   2 -10   7  -3   0 -10   1  -7  -6   4   8  -5   5   5  -6   9   8  -5   4\n",
      "  -8  -8  -9  -5   2  -7  -7  -1   1   7   9   6  -6  -7  -1   9  -4   3  -6   2\n",
      "   9   6  -9  -5  -4  -8  -9  -1  -6   6   0  -2   9   3   9  -7   5   2  -3   9\n",
      "   2 -10  -3  -8   8  -5  -2  -5  -5   8   4   8  -4  -9  -5  -3  -3   0   4  -8\n",
      "   0  -1 -10   3  -2   1  -6   6   9  -7   5   7  -8  -9   6  -8 -10  -7   6   1\n",
      "  -6  -9   0   3   2   3 -10  -1   2   3   7  -8   1  -6  -9   2   5   0   2  -1\n",
      "   3  -5  -7 -10  -3  -7   4 -10 -10  -2 -10   3  -4   7   7  -2  -8   3   0  -6\n",
      "  -8   8  -2  -8   3   2   0   0   0   7   9   9   9  -8   9 -10   1   1   9 -10\n",
      " -10  -5   4  -5  -7  -8   1  -7   7  -5  -5  -5   2  -5  -2  -2   8  -1   4   8\n",
      "   6  -9   2  -8   3   4  -2 -10  -1  -4   8  -2 -10 -10   1  -3  -9   7  -5   0\n",
      "   0   9   8   2   8   6   2  -5   6   4  -8  -4  -5  -1   9  -3  -2  -6  -1   2\n",
      "  -5   7  -9   7   8 -10  -8   0   5   9   5   6   9 -10   2  -3   5   3   9  -1\n",
      "  -5   0  -9  -6   9  -5   3   8  -4  -5  -3  -9 -10  -8 -10  -8  -4   9  -7   4\n",
      "  -2  -1   0   9   6   4   2  -8  -8  -4   8  -9  -2  -3   7  -5  -6  -6  -6  -4\n",
      "  -9   9   9  -8   3  -5   5  -9   5  -4  -4  -5   8   5 -10   4   0   9  -4   2\n",
      "  -9   8   1  -9   3   5   1   8   8  -4  -4  -6  -4  -3  -3   3   3   7  -6  -2\n",
      "   1   0 -10  -1  -9  -1   8  -4   0   6   2  -6  -4 -10  -3  -1  -5  -1  -5   5\n",
      "   0   6 -10   8  -8  -5  -6  -7  -8  -4 -10   9  -3   2  -2   3   8   7  -9  -8\n"
     ]
    }
   ],
   "source": [
    "n = 20\n",
    "b_min = -10\n",
    "b_max = 10\n",
    "B = np.random.randint(b_max - b_min, size=(n,n)) + b_min\n",
    "\n",
    "print('\\n'.join([''.join(['{:4}'.format(item) for item in row]) \n",
    "      for row in B]))"
   ]
  },
  {
   "cell_type": "markdown",
   "id": "230a0f2e-5887-4047-9ede-887d02dea5a1",
   "metadata": {},
   "source": [
    "## (b)\n",
    "Remove the diagonal of $B$, save the upper triangular part in $U$ and the lower triangular part in $L$, and put ones on the diagonals $l_{ii} = u_{ii} = 1$."
   ]
  },
  {
   "cell_type": "code",
   "execution_count": 3,
   "id": "299a4cf2-677a-4b27-91c1-f731801a74a6",
   "metadata": {},
   "outputs": [
    {
     "name": "stdout",
     "output_type": "stream",
     "text": [
      "U = \n",
      "   1   4   8  -9   2  -2   6  -2   2  -1   8   7  -8  -9   3   6  -4  -6   2   3\n",
      "   0   1  -5  -4  -5   3   7 -10   6   6   4   9   1  -4  -9   4  -1  -4  -4  -3\n",
      "   0   0   1   7  -3   0 -10   1  -7  -6   4   8  -5   5   5  -6   9   8  -5   4\n",
      "   0   0   0   1   2  -7  -7  -1   1   7   9   6  -6  -7  -1   9  -4   3  -6   2\n",
      "   0   0   0   0   1  -8  -9  -1  -6   6   0  -2   9   3   9  -7   5   2  -3   9\n",
      "   0   0   0   0   0   1  -2  -5  -5   8   4   8  -4  -9  -5  -3  -3   0   4  -8\n",
      "   0   0   0   0   0   0   1   6   9  -7   5   7  -8  -9   6  -8 -10  -7   6   1\n",
      "   0   0   0   0   0   0   0   1   2   3   7  -8   1  -6  -9   2   5   0   2  -1\n",
      "   0   0   0   0   0   0   0   0   1  -2 -10   3  -4   7   7  -2  -8   3   0  -6\n",
      "   0   0   0   0   0   0   0   0   0   1   9   9   9  -8   9 -10   1   1   9 -10\n",
      "   0   0   0   0   0   0   0   0   0   0   1  -5   2  -5  -2  -2   8  -1   4   8\n",
      "   0   0   0   0   0   0   0   0   0   0   0   1 -10 -10   1  -3  -9   7  -5   0\n",
      "   0   0   0   0   0   0   0   0   0   0   0   0   1  -1   9  -3  -2  -6  -1   2\n",
      "   0   0   0   0   0   0   0   0   0   0   0   0   0   1   2  -3   5   3   9  -1\n",
      "   0   0   0   0   0   0   0   0   0   0   0   0   0   0   1  -8  -4   9  -7   4\n",
      "   0   0   0   0   0   0   0   0   0   0   0   0   0   0   0   1  -6  -6  -6  -4\n",
      "   0   0   0   0   0   0   0   0   0   0   0   0   0   0   0   0   1   9  -4   2\n",
      "   0   0   0   0   0   0   0   0   0   0   0   0   0   0   0   0   0   1  -6  -2\n",
      "   0   0   0   0   0   0   0   0   0   0   0   0   0   0   0   0   0   0   1   5\n",
      "   0   0   0   0   0   0   0   0   0   0   0   0   0   0   0   0   0   0   0   1\n",
      "\n",
      "L = \n",
      "   1   0   0   0   0   0   0   0   0   0   0   0   0   0   0   0   0   0   0   0\n",
      "   1   1   0   0   0   0   0   0   0   0   0   0   0   0   0   0   0   0   0   0\n",
      "   9   2   1   0   0   0   0   0   0   0   0   0   0   0   0   0   0   0   0   0\n",
      "  -8  -8  -9   1   0   0   0   0   0   0   0   0   0   0   0   0   0   0   0   0\n",
      "   9   6  -9  -5   1   0   0   0   0   0   0   0   0   0   0   0   0   0   0   0\n",
      "   2 -10  -3  -8   8   1   0   0   0   0   0   0   0   0   0   0   0   0   0   0\n",
      "   0  -1 -10   3  -2   1   1   0   0   0   0   0   0   0   0   0   0   0   0   0\n",
      "  -6  -9   0   3   2   3 -10   1   0   0   0   0   0   0   0   0   0   0   0   0\n",
      "   3  -5  -7 -10  -3  -7   4 -10   1   0   0   0   0   0   0   0   0   0   0   0\n",
      "  -8   8  -2  -8   3   2   0   0   0   1   0   0   0   0   0   0   0   0   0   0\n",
      " -10  -5   4  -5  -7  -8   1  -7   7  -5   1   0   0   0   0   0   0   0   0   0\n",
      "   6  -9   2  -8   3   4  -2 -10  -1  -4   8   1   0   0   0   0   0   0   0   0\n",
      "   0   9   8   2   8   6   2  -5   6   4  -8  -4   1   0   0   0   0   0   0   0\n",
      "  -5   7  -9   7   8 -10  -8   0   5   9   5   6   9   1   0   0   0   0   0   0\n",
      "  -5   0  -9  -6   9  -5   3   8  -4  -5  -3  -9 -10  -8   1   0   0   0   0   0\n",
      "  -2  -1   0   9   6   4   2  -8  -8  -4   8  -9  -2  -3   7   1   0   0   0   0\n",
      "  -9   9   9  -8   3  -5   5  -9   5  -4  -4  -5   8   5 -10   4   1   0   0   0\n",
      "  -9   8   1  -9   3   5   1   8   8  -4  -4  -6  -4  -3  -3   3   3   1   0   0\n",
      "   1   0 -10  -1  -9  -1   8  -4   0   6   2  -6  -4 -10  -3  -1  -5  -1   1   0\n",
      "   0   6 -10   8  -8  -5  -6  -7  -8  -4 -10   9  -3   2  -2   3   8   7  -9   1\n"
     ]
    }
   ],
   "source": [
    "# Remove diagonal\n",
    "np.fill_diagonal(B, 0)\n",
    "\n",
    "# Create U and L\n",
    "U = np.triu(B) + np.eye(n)\n",
    "L = np.tril(B) + np.eye(n)\n",
    "\n",
    "# Print U and L\n",
    "print(\"U = \")\n",
    "print('\\n'.join([''.join(['{:4}'.format(round(item)) for item in row]) \n",
    "      for row in U]), end=\"\\n\\n\")\n",
    "print(\"L = \")\n",
    "print('\\n'.join([''.join(['{:4}'.format(round(item)) for item in row]) \n",
    "      for row in L]))"
   ]
  },
  {
   "cell_type": "markdown",
   "id": "53b14e0f-f9e0-48c6-b192-e0f8026bd99b",
   "metadata": {},
   "source": [
    "## (c)\n",
    "Compute $A = L \\cdot U$. What is the value of $\\det(A)$ and why? Compute the determinant using the appropriate python command and confirm your prediction. In case that you have doubts about the result, compute separately $\\det(L)$ and $\\det(U)$."
   ]
  },
  {
   "cell_type": "markdown",
   "id": "f8c995cb-46d0-44b9-ba64-92321686767d",
   "metadata": {},
   "source": [
    "Write your answer, using $\\LaTeX$, in this box."
   ]
  },
  {
   "cell_type": "code",
   "execution_count": 4,
   "id": "6003d83b-cbd3-4078-b6eb-220a1550c6c1",
   "metadata": {},
   "outputs": [
    {
     "name": "stdout",
     "output_type": "stream",
     "text": [
      "A = \n",
      "   1   4   8  -9   2  -2   6  -2   2  -1   8   7  -8  -9   3   6  -4  -6   2   3\n",
      "   1   5   3 -13  -3   1  13 -12   8   5  12  16  -7 -13  -6  10  -5 -10  -2   0\n",
      "   9  38  63 -82   5 -12  58 -37  23  -3  84  89 -75 -84  14  56 -29 -54   5  25\n",
      "  -8 -40 -33  42  53 -15 -21  86   0  21-123-194  95  52   2 -17 -45  11  55 -34\n",
      "   9  42  33-173   6  27 212 -83 106  52  15  13  18-112 -58  80 -98-163  66 -28\n",
      "   2  -2  63  -7  55 -41 -46  88 -96 -44-104-156 105  78 156-141  44  -4  87  72\n",
      "   0  -1  -5 -63  39  -7  89   0  83  64  -8 -52   1 -91 -61  86-124 -78  52 -56\n",
      "  -6 -33  -3  93  41 -49-154  23-178  82 -88-163 108 132  -6  14 127 155 -46  -2\n",
      "   3   7  42 -66  29  66 168  99  85-195-202 -79  21 113 158 -62-122-115 106  13\n",
      "  -8 -24-106  18 -63  74  53 -71  10  47 -95 -29 158  69 -72-113  48 -17  18 -71\n",
      " -10 -45 -51 133 -24  88 -20 125   1-232-319-129 -32 333  88 -64  -8  91 -50  16\n",
      "   6  15  95 -12  38  -3 -28  43-141 -96-134 -57 -28  74 144 -98  67   4  52 150\n",
      "   0   9 -37  22 -57 -45-113-115 -64  79  53 333  21  61 155-121 -42  32 -63 -98\n",
      "  -5 -13 -84 -39   4 -92   0 -82  37 173 -29 -77 246 -21 139  -5  -4  33 -76  23\n",
      "  -5 -20 -49 -24  14 -25  34  49  57  37 -87-295 251 158-183  51  93 -95 -23  95\n",
      "  -2  -9 -11  31  25-106-142 -17 -63 101  83  20  75  -4 -22   6  91   2 -99 222\n",
      "  -9 -27-108 100-103  72 -37 -12   4-145-220  97  76 343 182-110  70-121 -16 -18\n",
      "  -9 -28-111  47 -76  86  19 -66   4  43-156 -58 116 193-172 -39  47 -18 -28-150\n",
      "   1   4  -2 -80  21  76 204  47 194 -72  23  57  17-122 -53  70-185-274 181-153\n",
      "   0   6 -40 -86   8  21 162 -88 111  97  -9  11-120 -72-220 332-215  58-255-135\n",
      "-1153324580.3462336\n",
      "1.0000662797846576 1.0 1.0000662797846576\n"
     ]
    }
   ],
   "source": [
    "# Compute A = L * U\n",
    "A = L.dot(U)\n",
    "\n",
    "# Print A\n",
    "print('A = ')\n",
    "print('\\n'.join([''.join(['{:4}'.format(round(item)) for item in row]) \n",
    "      for row in A]))\n",
    "\n",
    "print(np.linalg.det(A))\n",
    "print(np.linalg.det(L), np.linalg.det(U), np.linalg.det(L) * np.linalg.det(U))"
   ]
  },
  {
   "cell_type": "markdown",
   "id": "4c5d732a",
   "metadata": {},
   "source": [
    "We notice that the determinants calculated between A, U and L are vastly different. \n",
    "This hints to the fact that the condition number for this matrix is very high. This will be further explained in section f."
   ]
  },
  {
   "cell_type": "markdown",
   "id": "9aa377cc-d913-46ca-a625-30e3ec7c91fb",
   "metadata": {},
   "source": [
    "## (d)\n",
    "Choose now an exact solution, for instance $x_{\\rm e} =$ `numpy.ones(n)`, and compute the corresponding right hand side $b = A x_{\\rm e}$.\n"
   ]
  },
  {
   "cell_type": "code",
   "execution_count": 5,
   "id": "36dac949-ae76-4fb1-8060-921d010a1558",
   "metadata": {},
   "outputs": [
    {
     "name": "stdout",
     "output_type": "stream",
     "text": [
      "b = \n",
      "  11\n",
      "   3\n",
      "  93\n",
      "-113\n",
      " -36\n",
      " 109\n",
      "-132\n",
      "  47\n",
      "  69\n",
      "-174\n",
      "-109\n",
      "  91\n",
      "  10\n",
      " 128\n",
      "  33\n",
      " 181\n",
      "  18\n",
      "-356\n",
      " -46\n",
      "-434\n"
     ]
    }
   ],
   "source": [
    "# Create x_e and compute A * x_e\n",
    "x_e = np.ones(n)\n",
    "b = A.dot(x_e)\n",
    "\n",
    "# Print b\n",
    "print(\"b = \")\n",
    "print('\\n'.join([''.join(['{:4}'.format(round(item)) for item in [row]]) \n",
    "      for row in b]))"
   ]
  },
  {
   "cell_type": "markdown",
   "id": "fc0577fd-9510-4e73-8d1c-5b738885ad27",
   "metadata": {},
   "source": [
    "## (e)\n",
    "Solve $A x = b$ using `scipy.linalg.lu_factor` and `scipy.linalg.lu_solve` and compare the solution with the exact $x_{\\rm e}$. "
   ]
  },
  {
   "cell_type": "code",
   "execution_count": 6,
   "id": "ce517576-e784-4d67-9e88-94bcb295fcbd",
   "metadata": {},
   "outputs": [
    {
     "name": "stdout",
     "output_type": "stream",
     "text": [
      "x = \n",
      "-332.0053\n",
      "58.0942\n",
      "12.5172\n",
      "-0.1473\n",
      "1.9593\n",
      "1.0573\n",
      "1.0566\n",
      "0.9896\n",
      "1.0025\n",
      "1.0022\n",
      "0.9998\n",
      " 1.0\n",
      " 1.0\n",
      " 1.0\n",
      " 1.0\n",
      " 1.0\n",
      " 1.0\n",
      " 1.0\n",
      " 1.0\n",
      " 1.0\n",
      "\n",
      "x_e = \n",
      " 1.0\n",
      " 1.0\n",
      " 1.0\n",
      " 1.0\n",
      " 1.0\n",
      " 1.0\n",
      " 1.0\n",
      " 1.0\n",
      " 1.0\n",
      " 1.0\n",
      " 1.0\n",
      " 1.0\n",
      " 1.0\n",
      " 1.0\n",
      " 1.0\n",
      " 1.0\n",
      " 1.0\n",
      " 1.0\n",
      " 1.0\n",
      " 1.0\n",
      "\n",
      "x_e - x = \n",
      "333.0053\n",
      "-57.0942\n",
      "-11.5172\n",
      "1.1473\n",
      "-0.9593\n",
      "-0.0573\n",
      "-0.0566\n",
      "0.0104\n",
      "-0.0025\n",
      "-0.0022\n",
      "0.0002\n",
      " 0.0\n",
      " 0.0\n",
      " 0.0\n",
      "-0.0\n",
      "-0.0\n",
      "-0.0\n",
      " 0.0\n",
      " 0.0\n",
      "-0.0\n"
     ]
    }
   ],
   "source": [
    "# Compute L and U using lu_factor and compute x with lu_solve\n",
    "lu, piv = la.lu_factor(A)\n",
    "x = la.lu_solve((lu, piv), b)\n",
    "\n",
    "print(\"x = \")\n",
    "print('\\n'.join([''.join(['{:4}'.format(round(item,4)) for item in [row]]) \n",
    "      for row in x]), end=\"\\n\\n\")\n",
    "\n",
    "print(\"x_e = \")\n",
    "print('\\n'.join([''.join(['{:4}'.format(round(item,4)) for item in [row]]) \n",
    "      for row in x_e]), end=\"\\n\\n\")\n",
    "\n",
    "print(\"x_e - x = \")\n",
    "print('\\n'.join([''.join(['{:4}'.format(round(item,4)) for item in [row]]) \n",
    "      for row in x_e - x]))"
   ]
  },
  {
   "cell_type": "markdown",
   "id": "42bf4778",
   "metadata": {},
   "source": [
    "The difference $x_{e} - x$ illustrates the difference between every element of the vector. The lower elements are very similar, with differences only being small. However, the higher up the vector, the higher the differences, with the highest difference reaching 2606. This is extremely significant."
   ]
  },
  {
   "cell_type": "markdown",
   "id": "b63e4111-78f2-4e60-b0ca-30c176821884",
   "metadata": {},
   "source": [
    "## (f)\n",
    "Explain the bad results by computing the condition number of $A$."
   ]
  },
  {
   "cell_type": "code",
   "execution_count": 7,
   "id": "4b53e4fa-77d3-4631-847a-6ec198bda173",
   "metadata": {},
   "outputs": [
    {
     "name": "stdout",
     "output_type": "stream",
     "text": [
      "[1.0905196104373105e+20, 4.750964854330503e+19, 1.1768981687831806e+20]\n"
     ]
    }
   ],
   "source": [
    "condition = [la.norm(A, ord=x) * la.norm(la.inv(A), ord=x) for x in [1,2,np.inf]]\n",
    "print(condition)"
   ]
  },
  {
   "cell_type": "markdown",
   "id": "1b4bf294-40af-4285-850f-650ba466ae04",
   "metadata": {},
   "source": [
    "The condition number describes the amount of difference between input error and output error. Therefore, if a function has a very high condition number, you can conclude that from small input errors, large output errors arise. This result is observed in section c&d with differences being very significant. This is no surprise however, since  the condition number calculated above reaches e+20."
   ]
  },
  {
   "cell_type": "markdown",
   "id": "0e861009-6cb1-45ef-ab7c-c7dfbb50652e",
   "metadata": {},
   "source": [
    "# Exercise 2\n",
    "\n",
    "(N.B. this is a theory exercise.)\n",
    "Suppose we write a $(p+q) \\times (p+q)$ matrix $M$ in block form where\n",
    "$A, B, C, D$ are respectively $p \\times p, p \\times q, q \\times p$\n",
    "and $q \\times q$ matrices\n",
    "$$ M = \\begin{bmatrix} A & B \\\\ C & D  \\end{bmatrix}. $$"
   ]
  },
  {
   "cell_type": "markdown",
   "id": "83c83ef7-bce0-49c1-ab1a-0e419a740b6d",
   "metadata": {},
   "source": [
    "## (a)\n",
    "Verify that \n",
    "$$ \\begin{bmatrix} A & B \\\\ C & D \n",
    "    \\end{bmatrix} =\n",
    "    \\begin{bmatrix} I_p & 0 \\\\ C A^{-1} & I_q \n",
    "    \\end{bmatrix}\n",
    "    \\begin{bmatrix} A & 0\\\\ 0 & D - CA^{-1} B\n",
    "    \\end{bmatrix}\n",
    "    \\begin{bmatrix} I_p & A^{-1} B \\\\ 0 & I_q \n",
    "    \\end{bmatrix}. $$"
   ]
  },
  {
   "cell_type": "markdown",
   "id": "84ff623d-533a-46f7-8389-8ba004079ba6",
   "metadata": {},
   "source": [
    "\\begin{align}\n",
    "    \\begin{bmatrix} \n",
    "        I_p & 0 \\\\ \n",
    "        C A^{-1} & I_q \n",
    "    \\end{bmatrix}\n",
    "    \\begin{bmatrix} \n",
    "        A & 0\\\\ \n",
    "        0 & D - CA^{-1} B\n",
    "    \\end{bmatrix} \n",
    "    \\begin{bmatrix} \n",
    "        I_p & A^{-1} B \\\\ \n",
    "        0 & I_q \n",
    "    \\end{bmatrix} &= \n",
    "    \\begin{bmatrix} \n",
    "        I_p A + 0 \\cdot 0 & I_p \\cdot 0 + 0 \\cdot (D - CA^{-1}B) \\\\  \n",
    "        CA^{-1}A + I_q \\cdot 0 & CA^{-1} \\cdot 0 + I_q \\cdot (D - CA^{-1}B)\n",
    "    \\end{bmatrix}\n",
    "    \\begin{bmatrix}\n",
    "        I_p & A^{-1}B \\\\\n",
    "        0 & I_q\n",
    "    \\end{bmatrix} \\\\ &=\n",
    "    \\begin{bmatrix}\n",
    "        A & 0 \\\\\n",
    "        C & D - CA^{-1}B\n",
    "    \\end{bmatrix}\n",
    "    \\begin{bmatrix}\n",
    "        I_p & A^{-1}B \\\\\n",
    "        0 & I_q\n",
    "    \\end{bmatrix} \\\\ &=\n",
    "    \\begin{bmatrix}\n",
    "        A \\cdot I_p + 0 \\cdot 0 & AA^{-1}B + 0 \\cdot I_q \\\\\n",
    "        C \\cdot I_p + 0 \\cdot (D - CA^{-1}B) & CA^{-1}B + I_q(D - CA^{-1}B)\n",
    "    \\end{bmatrix} \\\\ &=\n",
    "    \\begin{bmatrix}\n",
    "        A & B \\\\\n",
    "        C & CA^{-1}B + D - CA^{-1}B\n",
    "    \\end{bmatrix} = \n",
    "    \\begin{bmatrix}\n",
    "        A & B \\\\\n",
    "        C & D\n",
    "    \\end{bmatrix}\n",
    "\\end{align}"
   ]
  },
  {
   "cell_type": "markdown",
   "id": "2a9d6c87-b0b4-4f0d-8d3f-3c870c9cc198",
   "metadata": {},
   "source": [
    "## (b)\n",
    "Describe how a system $M x = b$, with $x$ and $b$ in $\\mathbb{R}^{p+q}$,\n",
    "can be solved by applying matrix-vector products with $C$ and\n",
    "$B$ and solves with $A$ and $(D - CA^{-1}B)$."
   ]
  },
  {
   "cell_type": "markdown",
   "id": "47a5b7fa-faee-4814-b3f0-850f77b7f067",
   "metadata": {},
   "source": [
    "Write your answer, using $\\LaTeX$, in this box.\n",
    "\n",
    "Define $M_1, M_2$ and $M_3$ respectively as\n",
    "$$\\begin{bmatrix} I_p & 0 \\\\ C A^{-1} & I_q \n",
    "\\end{bmatrix}, \n",
    "\\begin{bmatrix} A & 0\\\\ 0 & D - CA^{-1} B\n",
    "\\end{bmatrix}, \n",
    "\\begin{bmatrix} I_p & A^{-1} B \\\\ 0 & I_q \n",
    "\\end{bmatrix}. $$\n",
    "\n",
    "Then for solving $Mx = b$ it is known that $x = M^{-1}b = (M_1M_2M_3)^{-1}b = M_3^{-1}M_2^{-1}M_1^{-1}b$. For the inverses of block matrices, it is equal to the matrix of the inverses of its blocks, i.e.:\n",
    "$$ M_1^{-1} = \n",
    "\\begin{bmatrix}\n",
    "    I_p & 0 \\\\\n",
    "    -CA^{-1} & I_q\n",
    "\\end{bmatrix} \\\\\n",
    "M_2^{-1} = \n",
    "\\begin{bmatrix}\n",
    "    A^{-1} & 0 \\\\\n",
    "    0 & (D - CA^{-1}B)^{-1}\n",
    "\\end{bmatrix} \\\\\n",
    "M_3^{-1} = \n",
    "\\begin{bmatrix}\n",
    "    I_p & -A^{-1}B \\\\\n",
    "    0 & I_q\n",
    "\\end{bmatrix}.$$\n",
    "\n",
    "This means that:\n",
    "$$ x =\n",
    "\\begin{bmatrix}\n",
    "    I_p & -A^{-1}B \\\\\n",
    "    0 & I_q\n",
    "\\end{bmatrix} \n",
    "\\begin{bmatrix}\n",
    "    A^{-1} & 0 \\\\\n",
    "    0 & (D - CA^{-1}B)^{-1}\n",
    "\\end{bmatrix}\n",
    "\\begin{bmatrix}\n",
    "    I_p & 0 \\\\\n",
    "    -CA^{-1} & I_q\n",
    "\\end{bmatrix} b \\\\ =\n",
    "\\begin{bmatrix}\n",
    "    I_p & -A^{-1}B \\\\\n",
    "    0 & I_q\n",
    "\\end{bmatrix}\n",
    "\\begin{bmatrix}\n",
    "    A^{-1}I_p & 0 \\\\\n",
    "    (D - CA^{-1}B)^{-1}(-CA^{-1}) & (D - CA^{-1}B)^{-1}I_q\n",
    "\\end{bmatrix} b \\\\ =\n",
    "\\begin{bmatrix}\n",
    "    A^{-1} & A^{-1}B(D - CA^{-1}B)^{-1}CA^{-1} \\\\\n",
    "    -(D - CA^{-1}B)^{-1}CA^{-1} & (D - CA^{-1}B)^{-1}\n",
    "\\end{bmatrix} b\n",
    "$$\n",
    "\n",
    "Also, $b$ can be defined as a block vector with length $p$ called $b_p$ and length $q$ called $b_q$, then this creates a formula that can be solved if you want to solve for $x$: (Willen we dit doen?)\n",
    "$$\n",
    "x = \n",
    "\\begin{bmatrix}\n",
    "    A^{-1} & A^{-1}B(D - CA^{-1}B)^{-1}CA^{-1} \\\\\n",
    "    -(D - CA^{-1}B)^{-1}CA^{-1} & (D - CA^{-1}B)^{-1}\n",
    "\\end{bmatrix} \n",
    "\\begin{bmatrix}\n",
    "    b_p \\\\\n",
    "    b_q\n",
    "\\end{bmatrix} \\\\ =\n",
    "\\begin{bmatrix}\n",
    "    A^{-1}b_p - A^{-1}B(D - CA^{-1}B)^{-1}CA^{-1}b_q \\\\\n",
    "    -(D - CA^{-1}B)^{-1}CA^{-1}b_p + (D - CA^{-1}B)^{-1}b_q\n",
    "\\end{bmatrix} \\\\ =\n",
    "\\begin{bmatrix}\n",
    "    A^{-1}(b_p - B(D - CA^{-1}B)^{-1}CA^{-1}b_q) \\\\\n",
    "    (D - CA^{-1}B)^{-1}(-CA^{-1}b_p + b_q)\n",
    "\\end{bmatrix}.\n",
    "$$"
   ]
  },
  {
   "cell_type": "markdown",
   "id": "e3c88a41-be49-43ed-8819-9b3084bd417e",
   "metadata": {},
   "source": [
    "## (c)\n",
    "What is the cost, to highest order, of LU-factorizing $A$ and of\n",
    "computing and LU-factorizing $D - CA^{-1} B$? "
   ]
  },
  {
   "cell_type": "markdown",
   "id": "68a32387-f372-4e72-a67b-48b9e89497b2",
   "metadata": {},
   "source": [
    "Write your answer, using $\\LaTeX$, in this box.\n",
    "\n",
    "$A = O(P^3)$\n",
    "\n",
    "$D - CA^{-1}B = O(p^2q)$ or $O(p^3)$\n",
    "\n",
    "H e l p "
   ]
  },
  {
   "cell_type": "markdown",
   "id": "f990d804-c6a0-41fd-a26e-2878b3ec68da",
   "metadata": {},
   "source": [
    "**Remark**: Although in this case no savings were obtained, the decomposition\n",
    "above is very useful for solving linear systems with many zero coefficients,\n",
    "in other words where $M$ is a sparse matrix. After applying a\n",
    "permutation of the indices such a matrix is written in the above\n",
    "form, where $q$ is as small as possible and $A$ is blockdiagonal,\n",
    "i.e. $A = \\begin{bmatrix} E & O \\\\ O & F \\end{bmatrix}$. This\n",
    "blockdiagonal form then causes big savings in computational\n",
    "cost. Moreover, the procedure can be applied recursively to $E$ and $F$."
   ]
  }
 ],
 "metadata": {
  "kernelspec": {
   "display_name": "Python 3",
   "language": "python",
   "name": "python3"
  },
  "language_info": {
   "codemirror_mode": {
    "name": "ipython",
    "version": 3
   },
   "file_extension": ".py",
   "mimetype": "text/x-python",
   "name": "python",
   "nbconvert_exporter": "python",
   "pygments_lexer": "ipython3",
   "version": "3.8.8"
  }
 },
 "nbformat": 4,
 "nbformat_minor": 5
}
