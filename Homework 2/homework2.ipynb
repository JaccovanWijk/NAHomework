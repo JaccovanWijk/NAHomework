{
 "cells": [
  {
   "cell_type": "markdown",
   "id": "e6991386-31db-4655-822b-21f41a064f0b",
   "metadata": {
    "nbgrader": {
     "grade": false,
     "grade_id": "cell-736ff6bc3e0d0696",
     "locked": true,
     "schema_version": 3,
     "solution": false,
     "task": false
    }
   },
   "source": [
    "# Homework Set 2\n",
    "\n",
    "Please **submit this Jupyter notebook through Canvas** no later than **Mon Nov. 15, 9:00**.\n",
    "\n",
    "Homework is in **groups of two**, and you are expected to hand in original work. Work that is copied from another group will not be accepted."
   ]
  },
  {
   "cell_type": "markdown",
   "id": "28e0cf7d-032f-4435-b4d6-a0ebe27ab051",
   "metadata": {
    "nbgrader": {
     "grade": false,
     "grade_id": "cell-b13bc5ed16bce8e0",
     "locked": true,
     "schema_version": 3,
     "solution": false,
     "task": false
    }
   },
   "source": [
    "# Exercise 0\n",
    "Write down the names + student ID of the people in your group.\n",
    "\n",
    "Florian Tiggeloven 11872802 <br /> \n",
    "Jacco van Wijk 11282479 <br />\n"
   ]
  },
  {
   "cell_type": "markdown",
   "id": "ed90a614-072a-48eb-9297-d8eaf8e5183f",
   "metadata": {
    "nbgrader": {
     "grade": true,
     "grade_id": "cell-fd464f55ba436b1c",
     "locked": false,
     "points": 0,
     "schema_version": 3,
     "solution": true,
     "task": false
    }
   },
   "source": [
    "Write your answer, using $\\LaTeX$, in this box."
   ]
  },
  {
   "cell_type": "markdown",
   "id": "ed21bb3f-43a0-40b3-83bf-cf4a679370ea",
   "metadata": {
    "nbgrader": {
     "grade": false,
     "grade_id": "cell-b5a7855ecca9f6be",
     "locked": true,
     "schema_version": 3,
     "solution": false,
     "task": false
    }
   },
   "source": [
    "Run the following cell to import the necessary packages."
   ]
  },
  {
   "cell_type": "code",
   "execution_count": 1,
   "id": "f94d7728-fe51-45ac-903f-59c066161470",
   "metadata": {},
   "outputs": [],
   "source": [
    "import numpy as np\n",
    "import scipy.linalg as la\n",
    "import matplotlib.pyplot as plt\n",
    "import random"
   ]
  },
  {
   "cell_type": "markdown",
   "id": "aa14ad46-1797-4256-9ead-da2143c4118d",
   "metadata": {},
   "source": [
    "# Exercise 1\n",
    "\n",
    "The goal of this problem is to show that apparently harmless looking systems of linear equations may be very difficult to solve. Some functions that may be useful are `numpy.triu`, `numpy.tril`, `numpy.eye`, `random.randrange`.\n",
    "## (a)\n",
    "Generate an $n \\times n$ matrix $B$ with random integer elements in the range\n",
    "$b_{ij} \\in [-10, 10]$. Choose for instance $n=20$.\n"
   ]
  },
  {
   "cell_type": "code",
   "execution_count": 2,
   "id": "946ce5e1-4d17-48ab-9992-836ac9e76794",
   "metadata": {},
   "outputs": [
    {
     "name": "stdout",
     "output_type": "stream",
     "text": [
      "  -4  -7   7  -2  -3 -10   2   5  -4   4   1  -4   1   8  -4   0   8  -4  -2   2\n",
      "   8   2  -6  -5   2  -6   8  -2  -4   3  -7  -3   3   2   5  -9  -8   8  -5  -5\n",
      "   2  -1  -8 -10   7   9  -5   5 -10   6   2  -3   0  -6  -8   5  -2   7   0  -8\n",
      "   9   8   0   7   2   8   9  -7   9  -1  -7  -1  -2 -10   3  -1  -8  -9   6  -6\n",
      "  -5   3  -5   2   4   7   2  -3   1   7   8 -10   0   2   9   4   3   5  -7   6\n",
      "  -7   9  -9  -6   4   8 -10 -10  -3   3  -9  -9  -9   0  -1   4  -4   0   2  -9\n",
      "   1   6   8   2   0   2   5   3   5  -7   8 -10 -10   7 -10   2   0  -4   8  -9\n",
      "   0  -2   9   9   4   1   2  -4   1  -4   7   3   3   3  -5   2  -1  -5  -3  -3\n",
      "   3  -5   2   8  -7   1   7   6   2 -10   9  -3   3   0   7  -8  -1   9   3  -6\n",
      "  -1   7  -7  -1  -6   7   5   2   8  -1 -10  -2   5   2  -6  -4   7 -10   0  -3\n",
      "  -8  -6  -4   3   6  -7   0  -6  -7   7   0  -7   3  -7  -4   1  -8   5  -8  -1\n",
      "   4  -6   3  -7   8   8 -10   8  -8   0   5   5   6  -5 -10  -6   5  -6   1  -6\n",
      "   0   5   2  -7   2  -4   4  -6  -8   8  -1   7   3   3   3  -1  -3   1  -2  -3\n",
      "  -6  -1   3   9  -3  -5  -7  -3  -5  -2   4   1   2   8  -8   1  -6   0   8   3\n",
      "  -2   1   5   3   3  -1   6  -7  -3   4  -5   2  -5  -3   3  -4   8  -6 -10  -6\n",
      "  -6  -3  -1  -8  -2  -7  -9   9  -8   5  -4   4   6   6  -9 -10  -6  -4  -8   8\n",
      "   3  -9   8   2  -6   4   1   7   3  -4   8 -10   2  -8   8   3   8  -6  -2  -6\n",
      "   5  -1   6  -5   9  -7   0   5   7 -10  -5   6  -9   8   6 -10   9   9   3   8\n",
      " -10   0   6  -1   9  -5   8   1   7   1  -3   1  -1  -6   6  -2   3  -5  -5  -1\n",
      "   7  -1   4   4   6   9   9   2   4  -6   9   2  -5  -5  -6  -4  -3   0  -4   0\n"
     ]
    }
   ],
   "source": [
    "n = 20\n",
    "b_min = -10\n",
    "b_max = 10\n",
    "B = np.random.randint(b_max - b_min, size=(n,n)) + b_min\n",
    "\n",
    "print('\\n'.join([''.join(['{:4}'.format(item) for item in row]) \n",
    "      for row in B]))"
   ]
  },
  {
   "cell_type": "markdown",
   "id": "230a0f2e-5887-4047-9ede-887d02dea5a1",
   "metadata": {},
   "source": [
    "## (b)\n",
    "Remove the diagonal of $B$, save the upper triangular part in $U$ and the lower triangular part in $L$, and put ones on the diagonals $l_{ii} = u_{ii} = 1$."
   ]
  },
  {
   "cell_type": "code",
   "execution_count": 3,
   "id": "299a4cf2-677a-4b27-91c1-f731801a74a6",
   "metadata": {},
   "outputs": [
    {
     "name": "stdout",
     "output_type": "stream",
     "text": [
      "U = \n",
      "   1  -7   7  -2  -3 -10   2   5  -4   4   1  -4   1   8  -4   0   8  -4  -2   2\n",
      "   0   1  -6  -5   2  -6   8  -2  -4   3  -7  -3   3   2   5  -9  -8   8  -5  -5\n",
      "   0   0   1 -10   7   9  -5   5 -10   6   2  -3   0  -6  -8   5  -2   7   0  -8\n",
      "   0   0   0   1   2   8   9  -7   9  -1  -7  -1  -2 -10   3  -1  -8  -9   6  -6\n",
      "   0   0   0   0   1   7   2  -3   1   7   8 -10   0   2   9   4   3   5  -7   6\n",
      "   0   0   0   0   0   1 -10 -10  -3   3  -9  -9  -9   0  -1   4  -4   0   2  -9\n",
      "   0   0   0   0   0   0   1   3   5  -7   8 -10 -10   7 -10   2   0  -4   8  -9\n",
      "   0   0   0   0   0   0   0   1   1  -4   7   3   3   3  -5   2  -1  -5  -3  -3\n",
      "   0   0   0   0   0   0   0   0   1 -10   9  -3   3   0   7  -8  -1   9   3  -6\n",
      "   0   0   0   0   0   0   0   0   0   1 -10  -2   5   2  -6  -4   7 -10   0  -3\n",
      "   0   0   0   0   0   0   0   0   0   0   1  -7   3  -7  -4   1  -8   5  -8  -1\n",
      "   0   0   0   0   0   0   0   0   0   0   0   1   6  -5 -10  -6   5  -6   1  -6\n",
      "   0   0   0   0   0   0   0   0   0   0   0   0   1   3   3  -1  -3   1  -2  -3\n",
      "   0   0   0   0   0   0   0   0   0   0   0   0   0   1  -8   1  -6   0   8   3\n",
      "   0   0   0   0   0   0   0   0   0   0   0   0   0   0   1  -4   8  -6 -10  -6\n",
      "   0   0   0   0   0   0   0   0   0   0   0   0   0   0   0   1  -6  -4  -8   8\n",
      "   0   0   0   0   0   0   0   0   0   0   0   0   0   0   0   0   1  -6  -2  -6\n",
      "   0   0   0   0   0   0   0   0   0   0   0   0   0   0   0   0   0   1   3   8\n",
      "   0   0   0   0   0   0   0   0   0   0   0   0   0   0   0   0   0   0   1  -1\n",
      "   0   0   0   0   0   0   0   0   0   0   0   0   0   0   0   0   0   0   0   1\n",
      "\n",
      "L = \n",
      "   1   0   0   0   0   0   0   0   0   0   0   0   0   0   0   0   0   0   0   0\n",
      "   8   1   0   0   0   0   0   0   0   0   0   0   0   0   0   0   0   0   0   0\n",
      "   2  -1   1   0   0   0   0   0   0   0   0   0   0   0   0   0   0   0   0   0\n",
      "   9   8   0   1   0   0   0   0   0   0   0   0   0   0   0   0   0   0   0   0\n",
      "  -5   3  -5   2   1   0   0   0   0   0   0   0   0   0   0   0   0   0   0   0\n",
      "  -7   9  -9  -6   4   1   0   0   0   0   0   0   0   0   0   0   0   0   0   0\n",
      "   1   6   8   2   0   2   1   0   0   0   0   0   0   0   0   0   0   0   0   0\n",
      "   0  -2   9   9   4   1   2   1   0   0   0   0   0   0   0   0   0   0   0   0\n",
      "   3  -5   2   8  -7   1   7   6   1   0   0   0   0   0   0   0   0   0   0   0\n",
      "  -1   7  -7  -1  -6   7   5   2   8   1   0   0   0   0   0   0   0   0   0   0\n",
      "  -8  -6  -4   3   6  -7   0  -6  -7   7   1   0   0   0   0   0   0   0   0   0\n",
      "   4  -6   3  -7   8   8 -10   8  -8   0   5   1   0   0   0   0   0   0   0   0\n",
      "   0   5   2  -7   2  -4   4  -6  -8   8  -1   7   1   0   0   0   0   0   0   0\n",
      "  -6  -1   3   9  -3  -5  -7  -3  -5  -2   4   1   2   1   0   0   0   0   0   0\n",
      "  -2   1   5   3   3  -1   6  -7  -3   4  -5   2  -5  -3   1   0   0   0   0   0\n",
      "  -6  -3  -1  -8  -2  -7  -9   9  -8   5  -4   4   6   6  -9   1   0   0   0   0\n",
      "   3  -9   8   2  -6   4   1   7   3  -4   8 -10   2  -8   8   3   1   0   0   0\n",
      "   5  -1   6  -5   9  -7   0   5   7 -10  -5   6  -9   8   6 -10   9   1   0   0\n",
      " -10   0   6  -1   9  -5   8   1   7   1  -3   1  -1  -6   6  -2   3  -5   1   0\n",
      "   7  -1   4   4   6   9   9   2   4  -6   9   2  -5  -5  -6  -4  -3   0  -4   1\n"
     ]
    }
   ],
   "source": [
    "# Remove diagonal\n",
    "np.fill_diagonal(B, 0)\n",
    "\n",
    "# Create U and L\n",
    "U = np.triu(B) + np.eye(n)\n",
    "L = np.tril(B) + np.eye(n)\n",
    "\n",
    "# Print U and L\n",
    "print(\"U = \")\n",
    "print('\\n'.join([''.join(['{:4}'.format(round(item)) for item in row]) \n",
    "      for row in U]), end=\"\\n\\n\")\n",
    "print(\"L = \")\n",
    "print('\\n'.join([''.join(['{:4}'.format(round(item)) for item in row]) \n",
    "      for row in L]))"
   ]
  },
  {
   "cell_type": "markdown",
   "id": "53b14e0f-f9e0-48c6-b192-e0f8026bd99b",
   "metadata": {},
   "source": [
    "## (c)\n",
    "Compute $A = L \\cdot U$. What is the value of $\\det(A)$ and why? Compute the determinant using the appropriate python command and confirm your prediction. In case that you have doubts about the result, compute separately $\\det(L)$ and $\\det(U)$."
   ]
  },
  {
   "cell_type": "markdown",
   "id": "f8c995cb-46d0-44b9-ba64-92321686767d",
   "metadata": {},
   "source": [
    "Write your answer, using $\\LaTeX$, in this box."
   ]
  },
  {
   "cell_type": "code",
   "execution_count": 11,
   "id": "6003d83b-cbd3-4078-b6eb-220a1550c6c1",
   "metadata": {},
   "outputs": [
    {
     "name": "stdout",
     "output_type": "stream",
     "text": [
      "A = \n",
      "   1  -7   7  -2  -3 -10   2   5  -4   4   1  -4   1   8  -4   0   8  -4  -2   2\n",
      "   8 -55  50 -21 -22 -86  24  38 -36  35   1 -35  11  66 -27  -9  56 -24 -21  11\n",
      "   2 -15  21  -9  -1  -5  -9  17 -14  11  11  -8  -1   8 -21  14  22  -9   1   1\n",
      "   9 -55  15 -57  -9-130  91  22 -59  59 -54 -61  31  78   7 -73   0  19 -52 -28\n",
      "  -5  38 -58  47  -9  10  59 -73  77 -36 -42  14   0 -22  90 -50 -67  -4   0   9\n",
      "  -7  58-112  53 -32 -84  47 -78  29 -18 -23 -15  23  84 162-100 -54 111 -93  64\n",
      "   1  -1 -21-110  69  44   9   2 -91  67 -49 -76 -13 -41 -44  -6 -80  78  -8-131\n",
      "   0  -2  21 -71  81 194  20 -29  11  52  15 -96 -50-123 -45  80 -67 -27  51-122\n",
      "   3 -26  53   7   4  34  11  17  92-128  28  -5 -86 -25-186  41 -36-194 159-171\n",
      "  -1  14 -56  36 -40-138   3 -82  45-167 -52 -68 -56  89  21-147 -91  22  75-176\n",
      "  -8  50 -24  89  -4 139  65 -23 137  45 -58  44  30 -81  39  44  68-139  -3 165\n",
      "   4 -34  67 -15  -9  31-192 -30-151 221   2 -38  49   2 -53 199  87   7-227 135\n",
      "   0   5 -28 -52  12 -58  15  89 -83 120 -93 -34  63  73-167 -52 144 -57 -50  11\n",
      "  -6  41 -33  -4  52 139  83 -41  48  55-133 137  74-252  34   8-152 -25  -7  37\n",
      "  -2  15 -15 -48  52 103  28   4   7  60 -60 -77 -74 -32 -50   8  84 -65  72 -74\n",
      "  -6  39 -25  29 -13 -16 -46  85 -51  46 -19 290 200  34-122  47  18 -64  10 239\n",
      "   3 -30  83 -39  27  74-139  47 -41 -68 116 -43 -98 -62 -27 148 -33 -12-151-141\n",
      "   5 -36  47 -70  24  26  15 140 -79   0 387  -2  73  51 -41 -12 215 123  27 -55\n",
      " -10  70 -64 -41  79 204  17  35  43 -84 247-100 -18 -20  86 -35  93  79 -62-212\n",
      "   7 -50  59 -45  19  55 -47 -50   2  -3 152-327-153 -34 -81 116 -86 134  63-169\n",
      "-1583925.5251070834\n",
      "0.9999994016560421 1.0 0.9999994016560421 1.0\n"
     ]
    }
   ],
   "source": [
    "# Compute A = L * U\n",
    "A = L.dot(U)\n",
    "\n",
    "# Print A\n",
    "print('A = ')\n",
    "print('\\n'.join([''.join(['{:4}'.format(round(item)) for item in row]) \n",
    "      for row in A]))\n",
    "\n",
    "print(np.linalg.det(A))\n",
    "print(np.linalg.det(L), np.linalg.det(U), np.linalg.det(L) * np.linalg.det(U))"
   ]
  },
  {
   "cell_type": "markdown",
   "id": "4c5d732a",
   "metadata": {},
   "source": [
    "We notice that the determinants calculated between A, U and L are vastly different. \n",
    "?"
   ]
  },
  {
   "cell_type": "markdown",
   "id": "9aa377cc-d913-46ca-a625-30e3ec7c91fb",
   "metadata": {},
   "source": [
    "## (d)\n",
    "Choose now an exact solution, for instance $x_{\\rm e} =$ `numpy.ones(n)`, and compute the corresponding right hand side $b = A x_{\\rm e}$.\n"
   ]
  },
  {
   "cell_type": "code",
   "execution_count": 5,
   "id": "36dac949-ae76-4fb1-8060-921d010a1558",
   "metadata": {},
   "outputs": [
    {
     "name": "stdout",
     "output_type": "stream",
     "text": [
      "b = \n",
      "  -1\n",
      " -36\n",
      "  16\n",
      "-247\n",
      " -22\n",
      "  15\n",
      "-401\n",
      "-107\n",
      "-408\n",
      "-769\n",
      " 575\n",
      "  55\n",
      "-142\n",
      "  55\n",
      " -64\n",
      " 675\n",
      "-386\n",
      " 838\n",
      " 307\n",
      "-438\n"
     ]
    }
   ],
   "source": [
    "# Create x_e and compute A * x_e\n",
    "x_e = np.ones(n)\n",
    "b = A.dot(x_e)\n",
    "\n",
    "# Print b\n",
    "print(\"b = \")\n",
    "print('\\n'.join([''.join(['{:4}'.format(round(item)) for item in [row]]) \n",
    "      for row in b]))"
   ]
  },
  {
   "cell_type": "markdown",
   "id": "fc0577fd-9510-4e73-8d1c-5b738885ad27",
   "metadata": {},
   "source": [
    "## (e)\n",
    "Solve $A x = b$ using `scipy.linalg.lu_factor` and `scipy.linalg.lu_solve` and compare the solution with the exact $x_{\\rm e}$. "
   ]
  },
  {
   "cell_type": "code",
   "execution_count": 6,
   "id": "ce517576-e784-4d67-9e88-94bcb295fcbd",
   "metadata": {},
   "outputs": [
    {
     "name": "stdout",
     "output_type": "stream",
     "text": [
      "x = \n",
      "2607.9894\n",
      "441.2425\n",
      "68.8178\n",
      "4.9975\n",
      "-3.8695\n",
      "1.692\n",
      "1.06\n",
      "1.0161\n",
      "0.9748\n",
      "0.9973\n",
      "0.9997\n",
      " 1.0\n",
      " 1.0\n",
      " 1.0\n",
      " 1.0\n",
      " 1.0\n",
      " 1.0\n",
      " 1.0\n",
      " 1.0\n",
      " 1.0\n",
      "\n",
      "x_e = \n",
      " 1.0\n",
      " 1.0\n",
      " 1.0\n",
      " 1.0\n",
      " 1.0\n",
      " 1.0\n",
      " 1.0\n",
      " 1.0\n",
      " 1.0\n",
      " 1.0\n",
      " 1.0\n",
      " 1.0\n",
      " 1.0\n",
      " 1.0\n",
      " 1.0\n",
      " 1.0\n",
      " 1.0\n",
      " 1.0\n",
      " 1.0\n",
      " 1.0\n",
      "\n",
      "x_e - x = \n",
      "-2606.9894\n",
      "-440.2425\n",
      "-67.8178\n",
      "-3.9975\n",
      "4.8695\n",
      "-0.692\n",
      "-0.06\n",
      "-0.0161\n",
      "0.0252\n",
      "0.0027\n",
      "0.0003\n",
      " 0.0\n",
      "-0.0\n",
      " 0.0\n",
      " 0.0\n",
      " 0.0\n",
      " 0.0\n",
      " 0.0\n",
      " 0.0\n",
      "-0.0\n"
     ]
    }
   ],
   "source": [
    "# Compute L and U using lu_factor and compute x with lu_solve\n",
    "lu, piv = la.lu_factor(A)\n",
    "x = la.lu_solve((lu, piv), b)\n",
    "\n",
    "print(\"x = \")\n",
    "print('\\n'.join([''.join(['{:4}'.format(round(item,4)) for item in [row]]) \n",
    "      for row in x]), end=\"\\n\\n\")\n",
    "\n",
    "print(\"x_e = \")\n",
    "print('\\n'.join([''.join(['{:4}'.format(round(item,4)) for item in [row]]) \n",
    "      for row in x_e]), end=\"\\n\\n\")\n",
    "\n",
    "print(\"x_e - x = \")\n",
    "print('\\n'.join([''.join(['{:4}'.format(round(item,4)) for item in [row]]) \n",
    "      for row in x_e - x]))"
   ]
  },
  {
   "cell_type": "markdown",
   "id": "42bf4778",
   "metadata": {},
   "source": [
    "The difference $x_{e} - x$ illustrates the difference between every element of the vector. The lower elements are very similar, with differences only being small. However, the higher up the vector, the higher the differences, with the highest difference reaching 2606. This is extremely significant."
   ]
  },
  {
   "cell_type": "markdown",
   "id": "b63e4111-78f2-4e60-b0ca-30c176821884",
   "metadata": {},
   "source": [
    "## (f)\n",
    "Explain the bad results by computing the condition number of $A$."
   ]
  },
  {
   "cell_type": "code",
   "execution_count": 7,
   "id": "4b53e4fa-77d3-4631-847a-6ec198bda173",
   "metadata": {},
   "outputs": [
    {
     "name": "stdout",
     "output_type": "stream",
     "text": [
      "[1.6525902506636385e+21, 6.19445786603689e+20, 1.4030186593593564e+21]\n"
     ]
    }
   ],
   "source": [
    "condition = [la.norm(A, ord=x) * la.norm(la.inv(A), ord=x) for x in [1,2,np.inf]]\n",
    "print(condition)"
   ]
  },
  {
   "cell_type": "markdown",
   "id": "1b4bf294-40af-4285-850f-650ba466ae04",
   "metadata": {},
   "source": [
    "All three methods of computing the condition of A were computed. All three values are very high, which, according to the definition of the condition number corresponds to high errors in the output. This result can also be observed in the differences found in 1d and 1e."
   ]
  },
  {
   "cell_type": "markdown",
   "id": "0e861009-6cb1-45ef-ab7c-c7dfbb50652e",
   "metadata": {},
   "source": [
    "# Exercise 2\n",
    "\n",
    "(N.B. this is a theory exercise.)\n",
    "Suppose we write a $(p+q) \\times (p+q)$ matrix $M$ in block form where\n",
    "$A, B, C, D$ are respectively $p \\times p, p \\times q, q \\times p$\n",
    "and $q \\times q$ matrices\n",
    "$$ M = \\begin{bmatrix} A & B \\\\ C & D  \\end{bmatrix}. $$"
   ]
  },
  {
   "cell_type": "markdown",
   "id": "83c83ef7-bce0-49c1-ab1a-0e419a740b6d",
   "metadata": {},
   "source": [
    "## (a)\n",
    "Verify that \n",
    "$$ \\begin{bmatrix} A & B \\\\ C & D \n",
    "    \\end{bmatrix} =\n",
    "    \\begin{bmatrix} I_p & 0 \\\\ C A^{-1} & I_q \n",
    "    \\end{bmatrix}\n",
    "    \\begin{bmatrix} A & 0\\\\ 0 & D - CA^{-1} B\n",
    "    \\end{bmatrix}\n",
    "    \\begin{bmatrix} I_p & A^{-1} B \\\\ 0 & I_q \n",
    "    \\end{bmatrix}. $$"
   ]
  },
  {
   "cell_type": "markdown",
   "id": "84ff623d-533a-46f7-8389-8ba004079ba6",
   "metadata": {},
   "source": [
    "\\begin{align}\n",
    "    \\begin{bmatrix} \n",
    "        I_p & 0 \\\\ \n",
    "        C A^{-1} & I_q \n",
    "    \\end{bmatrix}\n",
    "    \\begin{bmatrix} \n",
    "        A & 0\\\\ \n",
    "        0 & D - CA^{-1} B\n",
    "    \\end{bmatrix} \n",
    "    \\begin{bmatrix} \n",
    "        I_p & A^{-1} B \\\\ \n",
    "        0 & I_q \n",
    "    \\end{bmatrix} &= \n",
    "    \\begin{bmatrix} \n",
    "        I_p A + 0 \\cdot 0 & I_p \\cdot 0 + 0 \\cdot (D - CA^{-1}B) \\\\  \n",
    "        CA^{-1}A + I_q \\cdot 0 & CA^{-1} \\cdot 0 + I_q \\cdot (D - CA^{-1}B)\n",
    "    \\end{bmatrix}\n",
    "    \\begin{bmatrix}\n",
    "        I_p & A^{-1}B \\\\\n",
    "        0 & I_q\n",
    "    \\end{bmatrix} \\\\ &=\n",
    "    \\begin{bmatrix}\n",
    "        A & 0 \\\\\n",
    "        C & D - CA^{-1}B\n",
    "    \\end{bmatrix}\n",
    "    \\begin{bmatrix}\n",
    "        I_p & A^{-1}B \\\\\n",
    "        0 & I_q\n",
    "    \\end{bmatrix} \\\\ &=\n",
    "    \\begin{bmatrix}\n",
    "        A \\cdot I_p + 0 \\cdot 0 & AA^{-1}B + 0 \\cdot I_q \\\\\n",
    "        C \\cdot I_p + 0 \\cdot (D - CA^{-1}B) & CA^{-1}B + I_q(D - CA^{-1}B)\n",
    "    \\end{bmatrix} \\\\ &=\n",
    "    \\begin{bmatrix}\n",
    "        A & B \\\\\n",
    "        C & CA^{-1}B + D - CA^{-1}B\n",
    "    \\end{bmatrix} = \n",
    "    \\begin{bmatrix}\n",
    "        A & B \\\\\n",
    "        C & D\n",
    "    \\end{bmatrix}\n",
    "\\end{align}"
   ]
  },
  {
   "cell_type": "markdown",
   "id": "2a9d6c87-b0b4-4f0d-8d3f-3c870c9cc198",
   "metadata": {},
   "source": [
    "## (b)\n",
    "Describe how a system $M x = b$, with $x$ and $b$ in $\\mathbb{R}^{p+q}$,\n",
    "can be solved by applying matrix-vector products with $C$ and\n",
    "$B$ and solves with $A$ and $(D - CA^{-1}B)$."
   ]
  },
  {
   "cell_type": "markdown",
   "id": "47a5b7fa-faee-4814-b3f0-850f77b7f067",
   "metadata": {},
   "source": [
    "Write your answer, using $\\LaTeX$, in this box.\n",
    "\n",
    "Define $M_1, M_2$ and $M_3$ respectively as\n",
    "$$\\begin{bmatrix} I_p & 0 \\\\ C A^{-1} & I_q \n",
    "\\end{bmatrix}, \n",
    "\\begin{bmatrix} A & 0\\\\ 0 & D - CA^{-1} B\n",
    "\\end{bmatrix}, \n",
    "\\begin{bmatrix} I_p & A^{-1} B \\\\ 0 & I_q \n",
    "\\end{bmatrix}. $$\n",
    "\n",
    "Then for solving $Mx = b$ it is known that $x = M^{-1}b = (M_1M_2M_3)^{-1}b = M_3^{-1}M_2^{-1}M_1^{-1}b$. For the inverses of block matrices, it is equal to the matrix of the inverses of its blocks, i.e.:\n",
    "$$ M_1^{-1} = \n",
    "\\begin{bmatrix}\n",
    "    I_p & 0 \\\\\n",
    "    -CA^{-1} & I_q\n",
    "\\end{bmatrix} \\\\\n",
    "M_2^{-1} = \n",
    "\\begin{bmatrix}\n",
    "    A^{-1} & 0 \\\\\n",
    "    0 & (D - CA^{-1}B)^{-1}\n",
    "\\end{bmatrix} \\\\\n",
    "M_3^{-1} = \n",
    "\\begin{bmatrix}\n",
    "    I_p & -A^{-1}B \\\\\n",
    "    0 & I_q\n",
    "\\end{bmatrix}.$$\n",
    "\n",
    "This means that:\n",
    "$$ x =\n",
    "\\begin{bmatrix}\n",
    "    I_p & -A^{-1}B \\\\\n",
    "    0 & I_q\n",
    "\\end{bmatrix} \n",
    "\\begin{bmatrix}\n",
    "    A^{-1} & 0 \\\\\n",
    "    0 & (D - CA^{-1}B)^{-1}\n",
    "\\end{bmatrix}\n",
    "\\begin{bmatrix}\n",
    "    I_p & 0 \\\\\n",
    "    -CA^{-1} & I_q\n",
    "\\end{bmatrix} b \\\\ =\n",
    "\\begin{bmatrix}\n",
    "    I_p & -A^{-1}B \\\\\n",
    "    0 & I_q\n",
    "\\end{bmatrix}\n",
    "\\begin{bmatrix}\n",
    "    A^{-1}I_p & 0 \\\\\n",
    "    (D - CA^{-1}B)^{-1}(-CA^{-1}) & (D - CA^{-1}B)^{-1}I_q\n",
    "\\end{bmatrix} b \\\\ =\n",
    "\\begin{bmatrix}\n",
    "    A^{-1} & A^{-1}B(D - CA^{-1}B)^{-1}CA^{-1} \\\\\n",
    "    -(D - CA^{-1}B)^{-1}CA^{-1} & (D - CA^{-1}B)^{-1}\n",
    "\\end{bmatrix} b\n",
    "$$\n",
    "\n",
    "Also, $b$ can be defined as a block vector with length $p$ called $b_p$ and length $q$ called $b_q$, then this creates a formula that can be solved if you want to solve for $x$: (Willen we dit doen?)\n",
    "$$\n",
    "x = \n",
    "\\begin{bmatrix}\n",
    "    A^{-1} & A^{-1}B(D - CA^{-1}B)^{-1}CA^{-1} \\\\\n",
    "    -(D - CA^{-1}B)^{-1}CA^{-1} & (D - CA^{-1}B)^{-1}\n",
    "\\end{bmatrix} \n",
    "\\begin{bmatrix}\n",
    "    b_p \\\\\n",
    "    b_q\n",
    "\\end{bmatrix} \\\\ =\n",
    "\\begin{bmatrix}\n",
    "    A^{-1}b_p - A^{-1}B(D - CA^{-1}B)^{-1}CA^{-1}b_q \\\\\n",
    "    -(D - CA^{-1}B)^{-1}CA^{-1}b_p + (D - CA^{-1}B)^{-1}b_q\n",
    "\\end{bmatrix} \\\\ =\n",
    "\\begin{bmatrix}\n",
    "    A^{-1}(b_p - B(D - CA^{-1}B)^{-1}CA^{-1}b_q) \\\\\n",
    "    (D - CA^{-1}B)^{-1}(-CA^{-1}b_p + b_q)\n",
    "\\end{bmatrix}.\n",
    "$$"
   ]
  },
  {
   "cell_type": "markdown",
   "id": "e3c88a41-be49-43ed-8819-9b3084bd417e",
   "metadata": {},
   "source": [
    "## (c)\n",
    "What is the cost, to highest order, of LU-factorizing $A$ and of\n",
    "computing and LU-factorizing $D - CA^{-1} B$? "
   ]
  },
  {
   "cell_type": "markdown",
   "id": "68a32387-f372-4e72-a67b-48b9e89497b2",
   "metadata": {},
   "source": [
    "Write your answer, using $\\LaTeX$, in this box.\n",
    "\n",
    "$A = O(P^3)$\n",
    "\n",
    "$D - CA^{-1}B = O(p^2q)$ or $O(p^3)$\n",
    "\n",
    "H e l p "
   ]
  },
  {
   "cell_type": "markdown",
   "id": "f990d804-c6a0-41fd-a26e-2878b3ec68da",
   "metadata": {},
   "source": [
    "**Remark**: Although in this case no savings were obtained, the decomposition\n",
    "above is very useful for solving linear systems with many zero coefficients,\n",
    "in other words where $M$ is a sparse matrix. After applying a\n",
    "permutation of the indices such a matrix is written in the above\n",
    "form, where $q$ is as small as possible and $A$ is blockdiagonal,\n",
    "i.e. $A = \\begin{bmatrix} E & O \\\\ O & F \\end{bmatrix}$. This\n",
    "blockdiagonal form then causes big savings in computational\n",
    "cost. Moreover, the procedure can be applied recursively to $E$ and $F$."
   ]
  }
 ],
 "metadata": {
  "kernelspec": {
   "display_name": "Python 3",
   "language": "python",
   "name": "python3"
  },
  "language_info": {
   "codemirror_mode": {
    "name": "ipython",
    "version": 3
   },
   "file_extension": ".py",
   "mimetype": "text/x-python",
   "name": "python",
   "nbconvert_exporter": "python",
   "pygments_lexer": "ipython3",
   "version": "3.8.8"
  }
 },
 "nbformat": 4,
 "nbformat_minor": 5
}
