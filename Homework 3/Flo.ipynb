{
 "cells": [
  {
   "cell_type": "code",
   "execution_count": 1,
   "id": "7549051d-dbad-4381-b29a-77222694f261",
   "metadata": {},
   "outputs": [],
   "source": [
    "import math\n",
    "import numpy as np\n",
    "import scipy.linalg as la\n",
    "import matplotlib.pyplot as plt"
   ]
  },
  {
   "cell_type": "markdown",
   "id": "858dc32c-1426-4be0-8ee9-9e3859e0408f",
   "metadata": {
    "editable": false,
    "jp-MarkdownHeadingCollapsed": true,
    "nbgrader": {
     "cell_type": "markdown",
     "checksum": "3d80af1b1345a294435c4d0a6480336a",
     "grade": false,
     "grade_id": "cell-3a1d8429bc575d6e",
     "locked": true,
     "schema_version": 3,
     "solution": false,
     "task": false
    },
    "tags": []
   },
   "source": [
    "-----\n",
    "# Exercise 1"
   ]
  },
  {
   "cell_type": "markdown",
   "id": "6b7705ac-fe67-40ca-924f-21630fcc9a8a",
   "metadata": {
    "editable": false,
    "nbgrader": {
     "cell_type": "markdown",
     "checksum": "c618486971ea88788fac0d41389e0abf",
     "grade": false,
     "grade_id": "cell-013042cafca10b84",
     "locked": true,
     "schema_version": 3,
     "solution": false,
     "task": false
    }
   },
   "source": [
    "# (a)\n",
    "We have the table of data in the next cell.\n",
    "\n",
    "Using `numpy.linalg.lstsq()`, fit a straight line, a quadratic function, and a cubic function to these data. Plot the data and your fitted functions in a graph. It is **not** allowed to use numpy.polyfit, but you may have a look at the documentation to see some examples."
   ]
  },
  {
   "cell_type": "code",
   "execution_count": 2,
   "id": "ddef1df6-d00b-424b-a937-1fbd52272c52",
   "metadata": {},
   "outputs": [],
   "source": [
    "t = np.array([3, 11, 29, 32, 47, 63, 73, 99])\n",
    "w = np.array([74, 72, 52, 35, 37, 20, 19, 19])"
   ]
  },
  {
   "cell_type": "code",
   "execution_count": 26,
   "id": "11579de0-d51e-4dda-985d-a7793c2c4059",
   "metadata": {
    "nbgrader": {
     "cell_type": "code",
     "checksum": "7a89bebc5fd4ea78a6029d4d3e03b6e3",
     "grade": true,
     "grade_id": "cell-749cd4dac54dfb07",
     "locked": false,
     "points": 2,
     "schema_version": 3,
     "solution": true,
     "task": false
    }
   },
   "outputs": [
    {
     "data": {
      "image/png": "[encoded data removed]",
      "text/plain": [
       "<Figure size 432x288 with 1 Axes>"
      ]
     },
     "metadata": {
      "needs_background": "light"
     },
     "output_type": "display_data"
    },
    {
     "name": "stdout",
     "output_type": "stream",
     "text": [
      "we find a residual of 599.6664349300552\n"
     ]
    }
   ],
   "source": [
    "M = np.vstack([t, np.ones(len(t))]).T\n",
    "m, c = np.linalg.lstsq(M, w, rcond=None)[0]\n",
    "\n",
    "plt.plot(t,w,'ko',markersize=3,label='Datapoints')\n",
    "plt.plot(t,m*t+c,'b-',label='Fit')\n",
    "plt.legend()\n",
    "plt.show()\n",
    "\n",
    "print('we find a residual of',np.sum((w-(m*t + c))**2))\n",
    "\n",
    "at**2 + bt + c \n",
    "at**3 + bt**2 + ct + d\n",
    "\n",
    "\n",
    "# plt.plot(t,w,'ko',markersize=3,label='Datapoints')\n",
    "# plt.plot(t,m*t**2+c*t,'b-',label='Fit')\n",
    "# plt.legend()\n",
    "# plt.show()"
   ]
  },
  {
   "cell_type": "markdown",
   "id": "6eee866c-a51e-45cc-8ce8-d0d6f8e2fe84",
   "metadata": {},
   "source": [
    "-----\n",
    "# Exercise 2\n",
    "We want to reconstruct a function $s(t)$ (also called the signal in this exercise), $t \\in [0,1]$, from data given by\n",
    "$$d(t) = \\int_0^1 s(t) \\, dt + \\text{noise}.$$\n",
    "We assume the data is given at $n$ equally space time points $t_j = j h$, $h = \\frac{1}{n}$, $j=1,2, \\ldots, n$. The data is therefore a vector $d = [d_1, \\ldots, d_n]$, where $d_j$ denotes the value at $t_j$. \n",
    "The signal $s$ is to be reconstructed at time points \n",
    "$t_{j-1/2} = (j-1/2)h$ for $j = 1,2, \\ldots, n$. It is described by a vector $s = [s_1, \\ldots, s_n]$ with $s_j$ the value at $t_{j-1/2}$.\n",
    "Numerical integration is described in Chapter 8 of the book by Heath. Using the composite midpoint rule, the vectors $s$ and $d$ are related by\n",
    "$$d = A \\cdot s + \\text{noise}$$\n",
    "where\n",
    "$$A = \\begin{bmatrix} \n",
    "h & 0 & 0 & \\ldots & 0 \\\\\n",
    "h & h & 0 & \\ldots & 0 \\\\\n",
    "h & h & h & \\ddots &  \\vdots \\\\\n",
    "\\vdots & \\vdots & \\ddots & \\ddots & 0 \\\\\n",
    "h & h & \\ldots & h  & h \n",
    "\\end{bmatrix}.$$\n"
   ]
  },
  {
   "cell_type": "markdown",
   "id": "0e61931d-9d54-402d-86cd-f08189a0c773",
   "metadata": {},
   "source": [
    "## (a)\n",
    "As a test signal we take\n",
    "$$s_{\\rm true}(t) = \\left\\{\n",
    "\\begin{array}{ll} 1 & \\text{if $|t-1/2|<0.15$}\\\\\n",
    "0 & \\text{otherwise} \\end{array} \n",
    "\\right. .$$ \n",
    "Generate data $d_0$ without noise and data $d_\\epsilon$ with noise, where the noise is normally distributed, with mean zero and standard deviation $\\epsilon = 0.005$.\n",
    "Take for example $n=100$. Plot the data."
   ]
  },
  {
   "cell_type": "code",
   "execution_count": null,
   "id": "5f25813f-cdc6-410e-94f9-3fcdba91f7b6",
   "metadata": {},
   "outputs": [],
   "source": [
    "# YOUR CODE HERE"
   ]
  },
  {
   "cell_type": "markdown",
   "id": "9875fcce-4bec-4d13-99c6-2b6fb6ec947e",
   "metadata": {},
   "source": [
    "## (b)\n",
    "Try to determine $s$ from $d_0$ by inverting the matrix $A$, ignoring the noise term.\n",
    "Do the same with $d_\\epsilon$ instead of $d_0$. Plot the results. What do you observe about the errors in the inversion?"
   ]
  },
  {
   "cell_type": "code",
   "execution_count": null,
   "id": "c550fd08-116d-4607-b151-cdd28186ae2b",
   "metadata": {},
   "outputs": [],
   "source": [
    "# YOUR CODE HERE"
   ]
  },
  {
   "cell_type": "markdown",
   "id": "a9fd09a8-ad7d-4487-9aa0-d965592a4ab5",
   "metadata": {
    "tags": []
   },
   "source": [
    "## (c)\n",
    "Create a function to solve the linear system $A s = d$ using the singular value decomposition (SVD) $A = U \\Sigma V^T$ and run a test to verify that your function is correct. `numpy` and `scipy` contain functions to compute the SVD. These may be used.\n",
    "\n",
    "Then plot the singular values of the matrix $A$ and explain the behavior found in (b) using the SVD."
   ]
  },
  {
   "cell_type": "code",
   "execution_count": null,
   "id": "c24a2eaa-1eab-4fc9-802f-63b8fdb30855",
   "metadata": {},
   "outputs": [],
   "source": [
    "# YOUR CODE HERE"
   ]
  },
  {
   "cell_type": "markdown",
   "id": "9ff2590e-4823-4b67-85c3-682d5fa230af",
   "metadata": {},
   "source": []
  },
  {
   "cell_type": "markdown",
   "id": "fd27ecac-939d-4c08-8869-d4d020b5ef78",
   "metadata": {},
   "source": [
    "## (d)\n",
    "When solving the system using the SVD, the matrix $\\Sigma^{-1} = \n",
    "\\operatorname{diag}(\\sigma_1^{-1}, \\ldots, \\sigma_n^{-1})$ is used. \n",
    "To **regularize** the problem the matrix $\\Sigma^{-1}$ can be replaced by a matrix \n",
    "$$T = \\operatorname{diag}(\\sigma_1^{-1} , \\ldots, \\sigma_k^{-1}, 0, \\ldots 0 ),$$\n",
    "where $\\sigma_j^{-1}$ is replaced by $0$ if $\\sigma_j$ is smaller than a threshold $\\alpha$. \n",
    "\n",
    "Implement a function `TruncatedSVDSolve(A, b, alpha)` that performs this procedure. \n",
    "Find a value of $\\alpha$ such that the test signal $s$ is reconstructed reasonably well from the noisy data. Plot the result.\n",
    "\n",
    "Explain that in the presence of noise, the result of `TruncatedSVDSolve(A, b, alpha)` can be more accurate than exact inversion."
   ]
  },
  {
   "cell_type": "code",
   "execution_count": null,
   "id": "7d0bf178-ccf9-41aa-a133-1a434f812503",
   "metadata": {},
   "outputs": [],
   "source": [
    "# YOUR CODE HERE"
   ]
  },
  {
   "cell_type": "markdown",
   "id": "a80b30cb-40b4-4e2d-8abe-d2e3477fbb80",
   "metadata": {},
   "source": []
  },
  {
   "cell_type": "code",
   "execution_count": null,
   "id": "3c4744ee",
   "metadata": {},
   "outputs": [],
   "source": [
    "def OS(M, max_iter, n, runs=1):\n",
    "    estimate = 0\n",
    "    for run in range(runs):\n",
    "        a, b = [], []    # lists to save random a, b\n",
    "        ab = M.ab       # saving borders without calling M.ab every time\n",
    "        da, db = (ab[1]-ab[0])/n, (ab[3]-ab[2])/n     # range in which random sample is taken\n",
    "        grid_a = np.arange(ab[0], ab[1], da)        # grids in which random sample is taken\n",
    "        grid_b = np.arange(ab[2], ab[3], db)\n",
    "        \n",
    "        m = int(np.sqrt(n))\n",
    "        dm = int(n/m)\n",
    "        boxes_a = [grid_a[dm*z:dm*z+dm] for z in range(0,m)]\n",
    "        boxes_b = [grid_b[dm*y:dm*y+dm] for y in range(0,m)]\n",
    "        \n",
    "        shuffle(boxes_a)\n",
    "        shuffle(boxes_b)\n",
    "        for box in boxes_a:\n",
    "            shuffle(box)\n",
    "        for box in boxes_b:\n",
    "            shuffle(box)\n",
    "        \n",
    "        box_indexes = np.arange(0,len(boxes_a))\n",
    "        indexes = np.arange(0,len(boxes_a[0]))\n",
    "#         shuffle(box_indexes)\n",
    "        for j in box_indexes:\n",
    "#             shuffle(indexes)\n",
    "            for i in indexes:\n",
    "                a.append(boxes_a[j][i] + random()*da)\n",
    "        \n",
    "#         shuffle(box_indexes)\n",
    "        for j in box_indexes:\n",
    "            indexes = np.arange(0,len(boxes_a[j]))\n",
    "#             shuffle(indexes)\n",
    "            for i in indexes:\n",
    "                b.append(boxes_b[j][i] + random()*db)\n",
    "\n",
    "        while a and b:\n",
    "            iters = M.Mandelcheck(complex(a.pop(), b.pop()), max_iter)[1]\n",
    "            if iters == max_iter:\n",
    "                estimate += 1\n",
    "    estimate = estimate/runs\n",
    "    return estimate/n * (ab[1]-ab[0])*(ab[3]-ab[2])i"
   ]
  },
  {
   "cell_type": "code",
   "execution_count": null,
   "id": "217a2a28",
   "metadata": {},
   "outputs": [],
   "source": [
    "def OS(M, max_iter, n, runs=1):\n",
    "    estimate = 0\n",
    "    for run in range(runs):\n",
    "        a, b = [], []    # lists to save random a, b\n",
    "        ab = M.ab       # saving borders without calling M.ab every time\n",
    "        da, db = (ab[1]-ab[0])/n, (ab[3]-ab[2])/n     # range in which random sample is taken\n",
    "        grid_a = np.arange(ab[0], ab[1], da)        # grids in which random sample is taken\n",
    "        grid_b = np.arange(ab[2], ab[3], db)\n",
    "        \n",
    "        m = int(np.sqrt(n))\n",
    "        dm = int(n/m)\n",
    "        boxes_a = [grid_a[dm*z:dm*z+dm] for z in range(0,m)]\n",
    "        boxes_b = [grid_b[dm*y:dm*y+dm] for y in range(0,m)]\n",
    "        \n",
    "        shuffle(boxes_a)\n",
    "        shuffle(boxes_b)\n",
    "        for box in boxes_a:\n",
    "            shuffle(box)\n",
    "        for box in boxes_b:\n",
    "            shuffle(box)\n",
    "        \n",
    "        box_indexes = np.arange(0,len(boxes_a))\n",
    "        indexes = np.arange(0,len(boxes_a[0]))\n",
    "        shuffle(box_indexes)\n",
    "        for j in box_indexes:\n",
    "            shuffle(indexes)\n",
    "            for i in indexes:\n",
    "                a.append(boxes_a[j][i] + random()*da)\n",
    "        \n",
    "        shuffle(box_indexes)\n",
    "        for j in box_indexes:\n",
    "            indexes = np.arange(0,len(boxes_a[j]))\n",
    "            shuffle(indexes)\n",
    "            for i in indexes:\n",
    "                b.append(boxes_b[j][i] + random()*db)\n",
    "\n",
    "        while a and b:\n",
    "            iters = M.Mandelcheck(complex(a.pop(), b.pop()), max_iter)[1]\n",
    "            if iters == max_iter:\n",
    "                estimate += 1\n",
    "    estimate = estimate/runs\n",
    "    return estimate/n * (ab[1]-ab[0])*(ab[3]-ab[2])"
   ]
  }
 ],
 "metadata": {
  "kernelspec": {
   "display_name": "Python 3",
   "language": "python",
   "name": "python3"
  },
  "language_info": {
   "codemirror_mode": {
    "name": "ipython",
    "version": 3
   },
   "file_extension": ".py",
   "mimetype": "text/x-python",
   "name": "python",
   "nbconvert_exporter": "python",
   "pygments_lexer": "ipython3",
   "version": "3.8.8"
  }
 },
 "nbformat": 4,
 "nbformat_minor": 5
}
